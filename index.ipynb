{
 "cells": [
  {
   "cell_type": "markdown",
   "metadata": {},
   "source": [
    "# Nearest Neighbors Lab"
   ]
  },
  {
   "cell_type": "markdown",
   "metadata": {},
   "source": [
    "### Introduction\n",
    "\n",
    "In this lab, you apply nearest neighbors technique to help a taxi company predict the length of their rides.  Imagine that we are hired to consult for LiftOff, a limo and taxi service that is just opening up in NYC.  Liftoff wants it's taxi drivers to target longer rides, as the longer the ride the more money it makes.  LiftOff has the following theory:\n",
    "\n",
    "* the pickup location of a taxi ride can help predict the length of the ride.  \n",
    "\n",
    "\n",
    "\n",
    "LiftOff asks us to do some analysis to write a function that will allow it to **predict the length of a taxi ride for any given location **.\n",
    "\n",
    "Our technique will be the following:\n",
    "  * **Collect** Obtain the data containing all of the taxi information, and only select the attributes of taxi trips that we need \n",
    "  * ** Explore ** Examine the attributes of our data, and plot some of our data on a map\n",
    "  * ** Train ** Write our nearest neighbors formula, and change the number of nearby trips to predict the length of a new trip\n",
    "  * ** Predict ** Use our function to predict trip lengths of new locations"
   ]
  },
  {
   "cell_type": "markdown",
   "metadata": {},
   "source": [
    "### Collect and Explore the data"
   ]
  },
  {
   "cell_type": "markdown",
   "metadata": {},
   "source": [
    "#### Collect the Data"
   ]
  },
  {
   "cell_type": "markdown",
   "metadata": {},
   "source": [
    "Luckily for us, [NYC Open Data](https://opendata.cityofnewyork.us/) collects information about NYC taxi trips and provides this data on [its website](https://data.cityofnewyork.us/Transportation/2014-Yellow-Taxi-Trip-Data/gn7m-em8n)."
   ]
  },
  {
   "cell_type": "markdown",
   "metadata": {},
   "source": [
    "![](./nyc-taxi.png)"
   ]
  },
  {
   "cell_type": "markdown",
   "metadata": {},
   "source": [
    "For your reading pleasure, the data has already been downloaded into the [trips.json](https://github.com/learn-co-curriculum/nearest-neighbors-lab/blob/master/trips.json) file in this lab which you can find here.  We'll use Python's `json` library to take the data from the `trips.json` file and store it as a variable in our notebook."
   ]
  },
  {
   "cell_type": "code",
   "execution_count": 1,
   "metadata": {},
   "outputs": [],
   "source": [
    "import json\n",
    "# First, read the file\n",
    "trips_file = open('trips.json')\n",
    "# Then, convert contents to list of dictionaries \n",
    "trips = json.load(trips_file)"
   ]
  },
  {
   "cell_type": "markdown",
   "metadata": {},
   "source": [
    "> Press shift + enter"
   ]
  },
  {
   "cell_type": "markdown",
   "metadata": {},
   "source": [
    "#### Explore the data"
   ]
  },
  {
   "cell_type": "markdown",
   "metadata": {},
   "source": [
    "The next step is to explore the data.  First, let's see how many trips we have."
   ]
  },
  {
   "cell_type": "code",
   "execution_count": 2,
   "metadata": {},
   "outputs": [
    {
     "data": {
      "text/plain": [
       "1000"
      ]
     },
     "execution_count": 2,
     "metadata": {},
     "output_type": "execute_result"
    }
   ],
   "source": [
    "len(trips)"
   ]
  },
  {
   "cell_type": "markdown",
   "metadata": {},
   "source": [
    "Not bad at all.  Now let's see what each individual trip looks like.  Each trip is a dictionary, so we can see the attributes of each trip with the `keys` function."
   ]
  },
  {
   "cell_type": "code",
   "execution_count": 3,
   "metadata": {
    "scrolled": true
   },
   "outputs": [
    {
     "data": {
      "text/plain": [
       "dict_keys(['dropoff_datetime', 'dropoff_latitude', 'dropoff_longitude', 'fare_amount', 'imp_surcharge', 'mta_tax', 'passenger_count', 'payment_type', 'pickup_datetime', 'pickup_latitude', 'pickup_longitude', 'rate_code', 'tip_amount', 'tolls_amount', 'total_amount', 'trip_distance', 'vendor_id'])"
      ]
     },
     "execution_count": 3,
     "metadata": {},
     "output_type": "execute_result"
    }
   ],
   "source": [
    "trips[0].keys()"
   ]
  },
  {
   "cell_type": "markdown",
   "metadata": {},
   "source": [
    "#### Limit our data"
   ]
  },
  {
   "cell_type": "markdown",
   "metadata": {},
   "source": [
    "Ok, now that we have explored some of our data, let's begin to think through what data is relevant for our task."
   ]
  },
  {
   "cell_type": "markdown",
   "metadata": {
    "collapsed": true
   },
   "source": [
    "Remember that our task is to **use the trip location to predict the length of a trip**.  So let's select the `pickup_latitude`, `pickup_longitude`, and `trip_distance` from each trip.  That will give us the trip location and related `trip_distance` for each trip.  Then based on these **actual** trip distances we can use nearest neighbors to predict an **expected** trip distance for a trip, provided an **actual** location."
   ]
  },
  {
   "cell_type": "markdown",
   "metadata": {},
   "source": [
    "** Add in about trip distance ** "
   ]
  },
  {
   "cell_type": "markdown",
   "metadata": {},
   "source": [
    "Write a function called `parse_trips(trips)` that returns a list of the trips with only the following attributes: \n",
    "* `trip_distance`\n",
    "* `pickup_latitude`\n",
    "* `pickup_longitude`"
   ]
  },
  {
   "cell_type": "code",
   "execution_count": 4,
   "metadata": {},
   "outputs": [],
   "source": [
    "def parse_trips(trips):\n",
    "    return list(map(lambda trip: {'trip_distance': trip['trip_distance'], 'pickup_latitude': trip['pickup_latitude'], 'pickup_longitude': trip['pickup_longitude']},trips))"
   ]
  },
  {
   "cell_type": "code",
   "execution_count": 5,
   "metadata": {},
   "outputs": [
    {
     "data": {
      "text/plain": [
       "{'trip_distance': '18.379999999999999',\n",
       " 'pickup_latitude': '40.64499',\n",
       " 'pickup_longitude': '-73.781149999999997'}"
      ]
     },
     "execution_count": 5,
     "metadata": {},
     "output_type": "execute_result"
    }
   ],
   "source": [
    "parsed_trips = parse_trips(trips)\n",
    "parsed_trips and parsed_trips[0]\n",
    "\n",
    "# {'pickup_latitude': '40.64499',\n",
    "#  'pickup_longitude': '-73.78115',\n",
    "#  'trip_distance': '18.38'}"
   ]
  },
  {
   "cell_type": "markdown",
   "metadata": {},
   "source": [
    "Now, there's just one change to make.  If you look at one of the trips, all of the values are strings.  Let's change them to be floats."
   ]
  },
  {
   "cell_type": "code",
   "execution_count": 6,
   "metadata": {},
   "outputs": [],
   "source": [
    "def float_values(trips):    \n",
    "    return trips and list(map(lambda trip: {'trip_distance': float(trip['trip_distance']), 'pickup_latitude': float(trip['pickup_latitude']), 'pickup_longitude': float(trip['pickup_longitude'])},trips))"
   ]
  },
  {
   "cell_type": "code",
   "execution_count": 7,
   "metadata": {},
   "outputs": [],
   "source": [
    "cleaned_trips = float_values(parsed_trips)"
   ]
  },
  {
   "cell_type": "code",
   "execution_count": 8,
   "metadata": {},
   "outputs": [
    {
     "data": {
      "text/plain": [
       "{'trip_distance': 18.38,\n",
       " 'pickup_latitude': 40.64499,\n",
       " 'pickup_longitude': -73.78115}"
      ]
     },
     "execution_count": 8,
     "metadata": {},
     "output_type": "execute_result"
    }
   ],
   "source": [
    "cleaned_trips[0]\n",
    "\n",
    "# {'pickup_latitude': 40.64499,\n",
    "#  'pickup_longitude': -73.78115,\n",
    "#  'trip_distance': 18.38}"
   ]
  },
  {
   "cell_type": "markdown",
   "metadata": {},
   "source": [
    "### Exploring the Data"
   ]
  },
  {
   "cell_type": "markdown",
   "metadata": {},
   "source": [
    "Now that we have paired down our data, let's get a sense of our trip data.  We can use the `folium` Python library to plot a map of Manhattan, and our data.  First we must import `folium`, and then use the `Map` function to pass through a `location`, and `zoom_start`.  If a map isn't showing up below, copy and paste the command `pip install -r requirements.txt` into your terminal to install `folium` then try again."
   ]
  },
  {
   "cell_type": "code",
   "execution_count": 9,
   "metadata": {},
   "outputs": [],
   "source": [
    "import folium\n",
    "manhattan_map = folium.Map(location=[40.7589, -73.9851], zoom_start=11)"
   ]
  },
  {
   "cell_type": "code",
   "execution_count": 10,
   "metadata": {
    "scrolled": true
   },
   "outputs": [
    {
     "data": {
      "text/html": [
       "<div style=\"width:100%;\"><div style=\"position:relative;width:100%;height:0;padding-bottom:60%;\"><iframe src=\"data:text/html;charset=utf-8;base64,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\" style=\"position:absolute;width:100%;height:100%;left:0;top:0;border:none !important;\" allowfullscreen webkitallowfullscreen mozallowfullscreen></iframe></div></div>"
      ],
      "text/plain": [
       "<folium.folium.Map at 0x7fc7cf0e4128>"
      ]
     },
     "execution_count": 10,
     "metadata": {},
     "output_type": "execute_result"
    }
   ],
   "source": [
    "manhattan_map"
   ]
  },
  {
   "cell_type": "markdown",
   "metadata": {},
   "source": [
    "Ok, now let's see how we could add a dot to mark a specific location.  We'll start with Times Square."
   ]
  },
  {
   "cell_type": "code",
   "execution_count": 11,
   "metadata": {},
   "outputs": [
    {
     "data": {
      "text/plain": [
       "<folium.vector_layers.CircleMarker at 0x7fc7a18bf6d8>"
      ]
     },
     "execution_count": 11,
     "metadata": {},
     "output_type": "execute_result"
    }
   ],
   "source": [
    "marker = folium.CircleMarker(location = [40.7589, -73.9851], radius=10)\n",
    "marker.add_to(manhattan_map)"
   ]
  },
  {
   "cell_type": "markdown",
   "metadata": {},
   "source": [
    "Above, we first create a marker.  Then we add that circle marker to the `manhattan_map` we created earlier. "
   ]
  },
  {
   "cell_type": "code",
   "execution_count": 12,
   "metadata": {
    "scrolled": false
   },
   "outputs": [
    {
     "data": {
      "text/html": [
       "<div style=\"width:100%;\"><div style=\"position:relative;width:100%;height:0;padding-bottom:60%;\"><iframe src=\"data:text/html;charset=utf-8;base64,PCFET0NUWVBFIGh0bWw+CjxoZWFkPiAgICAKICAgIDxtZXRhIGh0dHAtZXF1aXY9ImNvbnRlbnQtdHlwZSIgY29udGVudD0idGV4dC9odG1sOyBjaGFyc2V0PVVURi04IiAvPgogICAgCiAgICAgICAgPHNjcmlwdD4KICAgICAgICAgICAgTF9OT19UT1VDSCA9IGZhbHNlOwogICAgICAgICAgICBMX0RJU0FCTEVfM0QgPSBmYWxzZTsKICAgICAgICA8L3NjcmlwdD4KICAgIAogICAgPHNjcmlwdCBzcmM9Imh0dHBzOi8vY2RuLmpzZGVsaXZyLm5ldC9ucG0vbGVhZmxldEAxLjUuMS9kaXN0L2xlYWZsZXQuanMiPjwvc2NyaXB0PgogICAgPHNjcmlwdCBzcmM9Imh0dHBzOi8vY29kZS5qcXVlcnkuY29tL2pxdWVyeS0xLjEyLjQubWluLmpzIj48L3NjcmlwdD4KICAgIDxzY3JpcHQgc3JjPSJodHRwczovL21heGNkbi5ib290c3RyYXBjZG4uY29tL2Jvb3RzdHJhcC8zLjIuMC9qcy9ib290c3RyYXAubWluLmpzIj48L3NjcmlwdD4KICAgIDxzY3JpcHQgc3JjPSJodHRwczovL2NkbmpzLmNsb3VkZmxhcmUuY29tL2FqYXgvbGlicy9MZWFmbGV0LmF3ZXNvbWUtbWFya2Vycy8yLjAuMi9sZWFmbGV0LmF3ZXNvbWUtbWFya2Vycy5qcyI+PC9zY3JpcHQ+CiAgICA8bGluayByZWw9InN0eWxlc2hlZXQiIGhyZWY9Imh0dHBzOi8vY2RuLmpzZGVsaXZyLm5ldC9ucG0vbGVhZmxldEAxLjUuMS9kaXN0L2xlYWZsZXQuY3NzIi8+CiAgICA8bGluayByZWw9InN0eWxlc2hlZXQiIGhyZWY9Imh0dHBzOi8vbWF4Y2RuLmJvb3RzdHJhcGNkbi5jb20vYm9vdHN0cmFwLzMuMi4wL2Nzcy9ib290c3RyYXAubWluLmNzcyIvPgogICAgPGxpbmsgcmVsPSJzdHlsZXNoZWV0IiBocmVmPSJodHRwczovL21heGNkbi5ib290c3RyYXBjZG4uY29tL2Jvb3RzdHJhcC8zLjIuMC9jc3MvYm9vdHN0cmFwLXRoZW1lLm1pbi5jc3MiLz4KICAgIDxsaW5rIHJlbD0ic3R5bGVzaGVldCIgaHJlZj0iaHR0cHM6Ly9tYXhjZG4uYm9vdHN0cmFwY2RuLmNvbS9mb250LWF3ZXNvbWUvNC42LjMvY3NzL2ZvbnQtYXdlc29tZS5taW4uY3NzIi8+CiAgICA8bGluayByZWw9InN0eWxlc2hlZXQiIGhyZWY9Imh0dHBzOi8vY2RuanMuY2xvdWRmbGFyZS5jb20vYWpheC9saWJzL0xlYWZsZXQuYXdlc29tZS1tYXJrZXJzLzIuMC4yL2xlYWZsZXQuYXdlc29tZS1tYXJrZXJzLmNzcyIvPgogICAgPGxpbmsgcmVsPSJzdHlsZXNoZWV0IiBocmVmPSJodHRwczovL3Jhd2Nkbi5naXRoYWNrLmNvbS9weXRob24tdmlzdWFsaXphdGlvbi9mb2xpdW0vbWFzdGVyL2ZvbGl1bS90ZW1wbGF0ZXMvbGVhZmxldC5hd2Vzb21lLnJvdGF0ZS5jc3MiLz4KICAgIDxzdHlsZT5odG1sLCBib2R5IHt3aWR0aDogMTAwJTtoZWlnaHQ6IDEwMCU7bWFyZ2luOiAwO3BhZGRpbmc6IDA7fTwvc3R5bGU+CiAgICA8c3R5bGU+I21hcCB7cG9zaXRpb246YWJzb2x1dGU7dG9wOjA7Ym90dG9tOjA7cmlnaHQ6MDtsZWZ0OjA7fTwvc3R5bGU+CiAgICAKICAgICAgICAgICAgPG1ldGEgbmFtZT0idmlld3BvcnQiIGNvbnRlbnQ9IndpZHRoPWRldmljZS13aWR0aCwKICAgICAgICAgICAgICAgIGluaXRpYWwtc2NhbGU9MS4wLCBtYXhpbXVtLXNjYWxlPTEuMCwgdXNlci1zY2FsYWJsZT1ubyIgLz4KICAgICAgICAgICAgPHN0eWxlPgogICAgICAgICAgICAgICAgI21hcF8zYzUyYTRkOWQ2MjQ0MTU2YjkyMzdlZDc2MjFhYzdmZCB7CiAgICAgICAgICAgICAgICAgICAgcG9zaXRpb246IHJlbGF0aXZlOwogICAgICAgICAgICAgICAgICAgIHdpZHRoOiAxMDAuMCU7CiAgICAgICAgICAgICAgICAgICAgaGVpZ2h0OiAxMDAuMCU7CiAgICAgICAgICAgICAgICAgICAgbGVmdDogMC4wJTsKICAgICAgICAgICAgICAgICAgICB0b3A6IDAuMCU7CiAgICAgICAgICAgICAgICB9CiAgICAgICAgICAgIDwvc3R5bGU+CiAgICAgICAgCjwvaGVhZD4KPGJvZHk+ICAgIAogICAgCiAgICAgICAgICAgIDxkaXYgY2xhc3M9ImZvbGl1bS1tYXAiIGlkPSJtYXBfM2M1MmE0ZDlkNjI0NDE1NmI5MjM3ZWQ3NjIxYWM3ZmQiID48L2Rpdj4KICAgICAgICAKPC9ib2R5Pgo8c2NyaXB0PiAgICAKICAgIAogICAgICAgICAgICB2YXIgbWFwXzNjNTJhNGQ5ZDYyNDQxNTZiOTIzN2VkNzYyMWFjN2ZkID0gTC5tYXAoCiAgICAgICAgICAgICAgICAibWFwXzNjNTJhNGQ5ZDYyNDQxNTZiOTIzN2VkNzYyMWFjN2ZkIiwKICAgICAgICAgICAgICAgIHsKICAgICAgICAgICAgICAgICAgICBjZW50ZXI6IFs0MC43NTg5LCAtNzMuOTg1MV0sCiAgICAgICAgICAgICAgICAgICAgY3JzOiBMLkNSUy5FUFNHMzg1NywKICAgICAgICAgICAgICAgICAgICB6b29tOiAxMSwKICAgICAgICAgICAgICAgICAgICB6b29tQ29udHJvbDogdHJ1ZSwKICAgICAgICAgICAgICAgICAgICBwcmVmZXJDYW52YXM6IGZhbHNlLAogICAgICAgICAgICAgICAgfQogICAgICAgICAgICApOwoKICAgICAgICAgICAgCgogICAgICAgIAogICAgCiAgICAgICAgICAgIHZhciB0aWxlX2xheWVyXzg3ZjVkYzU0OGE3ZTRiZmY4MzQxMTk0Njc1YTA1NjcwID0gTC50aWxlTGF5ZXIoCiAgICAgICAgICAgICAgICAiaHR0cHM6Ly97c30udGlsZS5vcGVuc3RyZWV0bWFwLm9yZy97en0ve3h9L3t5fS5wbmciLAogICAgICAgICAgICAgICAgeyJhdHRyaWJ1dGlvbiI6ICJEYXRhIGJ5IFx1MDAyNmNvcHk7IFx1MDAzY2EgaHJlZj1cImh0dHA6Ly9vcGVuc3RyZWV0bWFwLm9yZ1wiXHUwMDNlT3BlblN0cmVldE1hcFx1MDAzYy9hXHUwMDNlLCB1bmRlciBcdTAwM2NhIGhyZWY9XCJodHRwOi8vd3d3Lm9wZW5zdHJlZXRtYXAub3JnL2NvcHlyaWdodFwiXHUwMDNlT0RiTFx1MDAzYy9hXHUwMDNlLiIsICJkZXRlY3RSZXRpbmEiOiBmYWxzZSwgIm1heE5hdGl2ZVpvb20iOiAxOCwgIm1heFpvb20iOiAxOCwgIm1pblpvb20iOiAwLCAibm9XcmFwIjogZmFsc2UsICJvcGFjaXR5IjogMSwgInN1YmRvbWFpbnMiOiAiYWJjIiwgInRtcyI6IGZhbHNlfQogICAgICAgICAgICApLmFkZFRvKG1hcF8zYzUyYTRkOWQ2MjQ0MTU2YjkyMzdlZDc2MjFhYzdmZCk7CiAgICAgICAgCiAgICAKICAgICAgICAgICAgdmFyIGNpcmNsZV9tYXJrZXJfN2ZiN2JiNDIxYzM0NDAyMGE2YzcwYTJkZGI0NDgzMjkgPSBMLmNpcmNsZU1hcmtlcigKICAgICAgICAgICAgICAgIFs0MC43NTg5LCAtNzMuOTg1MV0sCiAgICAgICAgICAgICAgICB7ImJ1YmJsaW5nTW91c2VFdmVudHMiOiB0cnVlLCAiY29sb3IiOiAiIzMzODhmZiIsICJkYXNoQXJyYXkiOiBudWxsLCAiZGFzaE9mZnNldCI6IG51bGwsICJmaWxsIjogZmFsc2UsICJmaWxsQ29sb3IiOiAiIzMzODhmZiIsICJmaWxsT3BhY2l0eSI6IDAuMiwgImZpbGxSdWxlIjogImV2ZW5vZGQiLCAibGluZUNhcCI6ICJyb3VuZCIsICJsaW5lSm9pbiI6ICJyb3VuZCIsICJvcGFjaXR5IjogMS4wLCAicmFkaXVzIjogMTAsICJzdHJva2UiOiB0cnVlLCAid2VpZ2h0IjogM30KICAgICAgICAgICAgKS5hZGRUbyhtYXBfM2M1MmE0ZDlkNjI0NDE1NmI5MjM3ZWQ3NjIxYWM3ZmQpOwogICAgICAgIAo8L3NjcmlwdD4=\" style=\"position:absolute;width:100%;height:100%;left:0;top:0;border:none !important;\" allowfullscreen webkitallowfullscreen mozallowfullscreen></iframe></div></div>"
      ],
      "text/plain": [
       "<folium.folium.Map at 0x7fc7cf0e4128>"
      ]
     },
     "execution_count": 12,
     "metadata": {},
     "output_type": "execute_result"
    }
   ],
   "source": [
    "manhattan_map"
   ]
  },
  {
   "cell_type": "markdown",
   "metadata": {},
   "source": [
    "Do you see that blue dot near Time's Square?  That is our marker.  \n",
    "\n",
    "So now that we can plot one marker on a map, we should have a sense of how we can plot many markers on a map to display our taxi ride data.  We simply plot a map, and then we add a marker for each location of a taxi trip.\n",
    "\n",
    "Now let's write some functions to allow us to plot maps and add markers a little more easily.  "
   ]
  },
  {
   "cell_type": "markdown",
   "metadata": {},
   "source": [
    "#### Writing some map plotting functions"
   ]
  },
  {
   "cell_type": "markdown",
   "metadata": {},
   "source": [
    "As a first step towards this, note that the functions to create both a marker and map each take in a location as two element list, representing the latitude and longitude values.  Take another look:\n",
    "\n",
    "```python\n",
    "marker = folium.CircleMarker(location = [40.7589, -73.9851])\n",
    "manhattan_map = folium.Map(location=[40.7589, -73.9851])\n",
    "```\n",
    "\n",
    "So let's write a function called to create this two element list from a trip.  Write a function called `location` that  takes in a trip as an argument and returns a list where the first element is the latitude and the second is the longitude.  Remember that a location looks like the following:"
   ]
  },
  {
   "cell_type": "code",
   "execution_count": 13,
   "metadata": {},
   "outputs": [
    {
     "data": {
      "text/plain": [
       "{'pickup_latitude': 40.64499,\n",
       " 'pickup_longitude': -73.78115,\n",
       " 'trip_distance': 18.38}"
      ]
     },
     "execution_count": 13,
     "metadata": {},
     "output_type": "execute_result"
    }
   ],
   "source": [
    "first_trip = {'pickup_latitude': 40.64499, 'pickup_longitude': -73.78115,  'trip_distance': 18.38}\n",
    "first_trip"
   ]
  },
  {
   "cell_type": "code",
   "execution_count": 16,
   "metadata": {},
   "outputs": [],
   "source": [
    "def location(trip):\n",
    "    return [trip['pickup_latitude'],trip['pickup_longitude']]"
   ]
  },
  {
   "cell_type": "code",
   "execution_count": 17,
   "metadata": {},
   "outputs": [
    {
     "data": {
      "text/plain": [
       "[40.64499, -73.78115]"
      ]
     },
     "execution_count": 17,
     "metadata": {},
     "output_type": "execute_result"
    }
   ],
   "source": [
    "first_location = location(first_trip) # [40.64499, -73.78115]\n",
    "first_location # [40.64499, -73.78115]"
   ]
  },
  {
   "cell_type": "markdown",
   "metadata": {},
   "source": [
    "Ok, now that we can turn a trip into a location, let's turn a location into a marker.  Write a function called `to_marker` that takes in a location (in the form of a list) as an argument, and returns a folium `circleMarker` for that location.  The radius of the marker should always equal 6."
   ]
  },
  {
   "cell_type": "code",
   "execution_count": 46,
   "metadata": {},
   "outputs": [],
   "source": [
    "def to_marker(location):\n",
    "    return folium.CircleMarker(location, radius = 6)    "
   ]
  },
  {
   "cell_type": "code",
   "execution_count": 24,
   "metadata": {},
   "outputs": [
    {
     "data": {
      "text/plain": [
       "[40.7589, -73.9851]"
      ]
     },
     "execution_count": 24,
     "metadata": {},
     "output_type": "execute_result"
    }
   ],
   "source": [
    "import json\n",
    "times_square_marker = to_marker([40.7589, -73.9851])\n",
    "\n",
    "times_square_marker and times_square_marker.location # [40.7589, -73.9851]\n",
    "#times_square_marker and json.loads(times_square_marker.options)['radius'] # 6"
   ]
  },
  {
   "cell_type": "markdown",
   "metadata": {},
   "source": [
    "Ok, now that we know how to produce a single marker, let's write a function to produce lots.  We can write a function called `markers_from_trips` that takes in a list of trips, and returns a marker object for each trip.  "
   ]
  },
  {
   "cell_type": "code",
   "execution_count": 54,
   "metadata": {},
   "outputs": [],
   "source": [
    "def markers_from_trips(trips):\n",
    "    locations = list(map(lambda trip: location(trip), trips))\n",
    "    return list(map(lambda location: to_marker(location),locations))"
   ]
  },
  {
   "cell_type": "code",
   "execution_count": 58,
   "metadata": {},
   "outputs": [],
   "source": [
    "trip_markers = markers_from_trips(cleaned_trips)"
   ]
  },
  {
   "cell_type": "code",
   "execution_count": 59,
   "metadata": {},
   "outputs": [
    {
     "data": {
      "text/plain": [
       "[{'trip_distance': 18.38,\n",
       "  'pickup_latitude': 40.64499,\n",
       "  'pickup_longitude': -73.78115},\n",
       " {'trip_distance': 1.3,\n",
       "  'pickup_latitude': 40.766931,\n",
       "  'pickup_longitude': -73.982098},\n",
       " {'trip_distance': 4.5,\n",
       "  'pickup_latitude': 40.77773,\n",
       "  'pickup_longitude': -73.951902},\n",
       " {'trip_distance': 2.4,\n",
       "  'pickup_latitude': 40.795678,\n",
       "  'pickup_longitude': -73.971049}]"
      ]
     },
     "execution_count": 59,
     "metadata": {},
     "output_type": "execute_result"
    }
   ],
   "source": [
    "cleaned_trips[0:4]"
   ]
  },
  {
   "cell_type": "code",
   "execution_count": 66,
   "metadata": {},
   "outputs": [
    {
     "data": {
      "text/plain": [
       "[[40.64499, -73.78115],\n",
       " [40.766931, -73.982098],\n",
       " [40.77773, -73.951902],\n",
       " [40.795678, -73.971049]]"
      ]
     },
     "execution_count": 66,
     "metadata": {},
     "output_type": "execute_result"
    }
   ],
   "source": [
    "trip_markers and len(trip_markers) # 1000\n",
    "\n",
    "list(map(lambda marker: marker.location, trip_markers[0:4]))\n",
    "# [[40.64499, -73.78115],\n",
    "#  [40.766931, -73.982098],\n",
    "#  [40.77773, -73.951902],\n",
    "#  [40.795678, -73.971049]]"
   ]
  },
  {
   "cell_type": "markdown",
   "metadata": {},
   "source": [
    "Ok, now that we have a function that creates locations, and a function that creates markers, it is time to write a function to plot a map. \n",
    "\n",
    "Write a function called `map_from` that, provided the first argument of a list location and second argument an integer representing the `zoom_start`, returns a `folium` map the corresponding location and `zoom_start` attributes.\n",
    "\n",
    "> Hint: The following is how to write a map with folium:\n",
    "> ```python \n",
    "    folium.Map(location=location, zoom_start=zoom_amount)\n",
    "> ```"
   ]
  },
  {
   "cell_type": "code",
   "execution_count": 67,
   "metadata": {},
   "outputs": [],
   "source": [
    "def map_from(location, zoom_amount):\n",
    "    return  folium.Map(location=location, zoom_start=zoom_amount)"
   ]
  },
  {
   "cell_type": "code",
   "execution_count": 68,
   "metadata": {},
   "outputs": [
    {
     "data": {
      "text/plain": [
       "[40.7589, -73.9851]"
      ]
     },
     "execution_count": 68,
     "metadata": {},
     "output_type": "execute_result"
    }
   ],
   "source": [
    "times_square_map = map_from([40.7589, -73.9851], 15)\n",
    "times_square_map and times_square_map.location # [40.7589, -73.9851]\n",
    "#times_square_map and times_square_map.zoom_start # 15"
   ]
  },
  {
   "cell_type": "code",
   "execution_count": 69,
   "metadata": {
    "scrolled": true
   },
   "outputs": [
    {
     "data": {
      "text/html": [
       "<div style=\"width:100%;\"><div style=\"position:relative;width:100%;height:0;padding-bottom:60%;\"><iframe src=\"data:text/html;charset=utf-8;base64,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\" style=\"position:absolute;width:100%;height:100%;left:0;top:0;border:none !important;\" allowfullscreen webkitallowfullscreen mozallowfullscreen></iframe></div></div>"
      ],
      "text/plain": [
       "<folium.folium.Map at 0x7fc7a1639c50>"
      ]
     },
     "execution_count": 69,
     "metadata": {},
     "output_type": "execute_result"
    }
   ],
   "source": [
    "times_square_marker and times_square_marker.add_to(times_square_map)\n",
    "times_square_map"
   ]
  },
  {
   "cell_type": "markdown",
   "metadata": {},
   "source": [
    "Now that we have a marker and a map, now let's write a function that adds a lot of markers to a map.  This function should add each marker in the list to the map object then return the updated map object."
   ]
  },
  {
   "cell_type": "code",
   "execution_count": 70,
   "metadata": {},
   "outputs": [],
   "source": [
    "manhattan_map = map_from([40.7589, -73.9851], 13)"
   ]
  },
  {
   "cell_type": "code",
   "execution_count": 79,
   "metadata": {},
   "outputs": [],
   "source": [
    "def add_markers(markers, map_obj):\n",
    "    return folium.CircleMarker(trip_markers, radius = 6)\n",
    " "
   ]
  },
  {
   "cell_type": "code",
   "execution_count": 80,
   "metadata": {
    "scrolled": false
   },
   "outputs": [
    {
     "ename": "ValueError",
     "evalue": "Expected two (lat, lon) values for location, instead got: [<folium.vector_layers.CircleMarker object at 0x7fc7a16fa9b0>, <folium.vector_layers.CircleMarker object at 0x7fc7a16fa9e8>, <folium.vector_layers.CircleMarker object at 0x7fc7a16faa90>, <folium.vector_layers.CircleMarker object at 0x7fc7a16faac8>, <folium.vector_layers.CircleMarker object at 0x7fc7a16faba8>, <folium.vector_layers.CircleMarker object at 0x7fc7a16fab38>, <folium.vector_layers.CircleMarker object at 0x7fc7a16fab00>, <folium.vector_layers.CircleMarker object at 0x7fc7a16fa8d0>, <folium.vector_layers.CircleMarker object at 0x7fc7a16fa6a0>, <folium.vector_layers.CircleMarker object at 0x7fc7a16faa20>, <folium.vector_layers.CircleMarker object at 0x7fc7a16fa978>, <folium.vector_layers.CircleMarker object at 0x7fc7a16fa710>, <folium.vector_layers.CircleMarker object at 0x7fc7a16fab70>, <folium.vector_layers.CircleMarker object at 0x7fc7a16fa860>, <folium.vector_layers.CircleMarker object at 0x7fc7a16fa828>, <folium.vector_layers.CircleMarker object at 0x7fc7a16fa7b8>, <folium.vector_layers.CircleMarker object at 0x7fc7a16fa6d8>, <folium.vector_layers.CircleMarker object at 0x7fc7a16faf28>, <folium.vector_layers.CircleMarker object at 0x7fc7a16faf60>, <folium.vector_layers.CircleMarker object at 0x7fc7a16faf98>, <folium.vector_layers.CircleMarker object at 0x7fc7a16fa898>, <folium.vector_layers.CircleMarker object at 0x7fc7a16fabe0>, <folium.vector_layers.CircleMarker object at 0x7fc7a16fa908>, <folium.vector_layers.CircleMarker object at 0x7fc7a16fa940>, <folium.vector_layers.CircleMarker object at 0x7fc7a16fadd8>, <folium.vector_layers.CircleMarker object at 0x7fc7a16faef0>, <folium.vector_layers.CircleMarker object at 0x7fc7a16facc0>, <folium.vector_layers.CircleMarker object at 0x7fc7a16fafd0>, <folium.vector_layers.CircleMarker object at 0x7fc7a16fae80>, <folium.vector_layers.CircleMarker object at 0x7fc7a16fae48>, <folium.vector_layers.CircleMarker object at 0x7fc7a16fac50>, <folium.vector_layers.CircleMarker object at 0x7fc7a16faeb8>, <folium.vector_layers.CircleMarker object at 0x7fc7a16fae10>, <folium.vector_layers.CircleMarker object at 0x7fc7a16fad68>, <folium.vector_layers.CircleMarker object at 0x7fc7a16fad30>, <folium.vector_layers.CircleMarker object at 0x7fc7a16fac18>, <folium.vector_layers.CircleMarker object at 0x7fc7a16fada0>, <folium.vector_layers.CircleMarker object at 0x7fc7a16facf8>, <folium.vector_layers.CircleMarker object at 0x7fc7a16fac88>, <folium.vector_layers.CircleMarker object at 0x7fc7a16faa58>, <folium.vector_layers.CircleMarker object at 0x7fc7a1706080>, <folium.vector_layers.CircleMarker object at 0x7fc7a17060b8>, <folium.vector_layers.CircleMarker object at 0x7fc7a17060f0>, <folium.vector_layers.CircleMarker object at 0x7fc7a1706128>, <folium.vector_layers.CircleMarker object at 0x7fc7a1706160>, <folium.vector_layers.CircleMarker object at 0x7fc7a1706198>, <folium.vector_layers.CircleMarker object at 0x7fc7a17061d0>, <folium.vector_layers.CircleMarker object at 0x7fc7a1706208>, <folium.vector_layers.CircleMarker object at 0x7fc7a1706240>, <folium.vector_layers.CircleMarker object at 0x7fc7a1706278>, <folium.vector_layers.CircleMarker object at 0x7fc7a17062b0>, <folium.vector_layers.CircleMarker object at 0x7fc7a17062e8>, <folium.vector_layers.CircleMarker object at 0x7fc7a1706320>, <folium.vector_layers.CircleMarker object at 0x7fc7a1706358>, <folium.vector_layers.CircleMarker object at 0x7fc7a1706390>, <folium.vector_layers.CircleMarker object at 0x7fc7a17063c8>, <folium.vector_layers.CircleMarker object at 0x7fc7a1706400>, <folium.vector_layers.CircleMarker object at 0x7fc7a1706438>, <folium.vector_layers.CircleMarker object at 0x7fc7a1706470>, <folium.vector_layers.CircleMarker object at 0x7fc7a17064a8>, <folium.vector_layers.CircleMarker object at 0x7fc7a17064e0>, <folium.vector_layers.CircleMarker object at 0x7fc7a1706518>, <folium.vector_layers.CircleMarker object at 0x7fc7a1706550>, <folium.vector_layers.CircleMarker object at 0x7fc7a1706588>, <folium.vector_layers.CircleMarker object at 0x7fc7a17065c0>, <folium.vector_layers.CircleMarker object at 0x7fc7a17065f8>, <folium.vector_layers.CircleMarker object at 0x7fc7a1706630>, <folium.vector_layers.CircleMarker object at 0x7fc7a1706668>, <folium.vector_layers.CircleMarker object at 0x7fc7a17066a0>, <folium.vector_layers.CircleMarker object at 0x7fc7a17066d8>, <folium.vector_layers.CircleMarker object at 0x7fc7a1706710>, <folium.vector_layers.CircleMarker object at 0x7fc7a1706748>, <folium.vector_layers.CircleMarker object at 0x7fc7a1706780>, <folium.vector_layers.CircleMarker object at 0x7fc7a17067b8>, <folium.vector_layers.CircleMarker object at 0x7fc7a17067f0>, <folium.vector_layers.CircleMarker object at 0x7fc7a1706828>, <folium.vector_layers.CircleMarker object at 0x7fc7a1706860>, <folium.vector_layers.CircleMarker object at 0x7fc7a1706898>, <folium.vector_layers.CircleMarker object at 0x7fc7a17068d0>, <folium.vector_layers.CircleMarker object at 0x7fc7a1706908>, <folium.vector_layers.CircleMarker object at 0x7fc7a1706940>, <folium.vector_layers.CircleMarker object at 0x7fc7a1706978>, <folium.vector_layers.CircleMarker object at 0x7fc7a17069b0>, <folium.vector_layers.CircleMarker object at 0x7fc7a17069e8>, <folium.vector_layers.CircleMarker object at 0x7fc7a1706a20>, <folium.vector_layers.CircleMarker object at 0x7fc7a1706a58>, <folium.vector_layers.CircleMarker object at 0x7fc7a1706a90>, <folium.vector_layers.CircleMarker object at 0x7fc7a1706ac8>, <folium.vector_layers.CircleMarker object at 0x7fc7a1706b00>, <folium.vector_layers.CircleMarker object at 0x7fc7a1706b38>, <folium.vector_layers.CircleMarker object at 0x7fc7a1706b70>, <folium.vector_layers.CircleMarker object at 0x7fc7a1706ba8>, <folium.vector_layers.CircleMarker object at 0x7fc7a1706be0>, <folium.vector_layers.CircleMarker object at 0x7fc7a1706c18>, <folium.vector_layers.CircleMarker object at 0x7fc7a1706c50>, <folium.vector_layers.CircleMarker object at 0x7fc7a1706c88>, <folium.vector_layers.CircleMarker object at 0x7fc7a1706cc0>, <folium.vector_layers.CircleMarker object at 0x7fc7a1706cf8>, <folium.vector_layers.CircleMarker object at 0x7fc7a1706d30>, <folium.vector_layers.CircleMarker object at 0x7fc7a1706d68>, <folium.vector_layers.CircleMarker object at 0x7fc7a1706da0>, <folium.vector_layers.CircleMarker object at 0x7fc7a1706dd8>, <folium.vector_layers.CircleMarker object at 0x7fc7a1706e10>, <folium.vector_layers.CircleMarker object at 0x7fc7a1706e48>, <folium.vector_layers.CircleMarker object at 0x7fc7a1706e80>, <folium.vector_layers.CircleMarker object at 0x7fc7a1706eb8>, <folium.vector_layers.CircleMarker object at 0x7fc7a1706ef0>, <folium.vector_layers.CircleMarker object at 0x7fc7a1706f28>, <folium.vector_layers.CircleMarker object at 0x7fc7a1706f60>, <folium.vector_layers.CircleMarker object at 0x7fc7a1706f98>, <folium.vector_layers.CircleMarker object at 0x7fc7a1706fd0>, <folium.vector_layers.CircleMarker object at 0x7fc7a1706048>, <folium.vector_layers.CircleMarker object at 0x7fc7a1714048>, <folium.vector_layers.CircleMarker object at 0x7fc7a17140b8>, <folium.vector_layers.CircleMarker object at 0x7fc7a17140f0>, <folium.vector_layers.CircleMarker object at 0x7fc7a1714128>, <folium.vector_layers.CircleMarker object at 0x7fc7a1714160>, <folium.vector_layers.CircleMarker object at 0x7fc7a1714198>, <folium.vector_layers.CircleMarker object at 0x7fc7a17141d0>, <folium.vector_layers.CircleMarker object at 0x7fc7a1714208>, <folium.vector_layers.CircleMarker object at 0x7fc7a1714240>, <folium.vector_layers.CircleMarker object at 0x7fc7a1714278>, <folium.vector_layers.CircleMarker object at 0x7fc7a17142b0>, <folium.vector_layers.CircleMarker object at 0x7fc7a17142e8>, <folium.vector_layers.CircleMarker object at 0x7fc7a1714320>, <folium.vector_layers.CircleMarker object at 0x7fc7a1714358>, <folium.vector_layers.CircleMarker object at 0x7fc7a1714390>, <folium.vector_layers.CircleMarker object at 0x7fc7a17143c8>, <folium.vector_layers.CircleMarker object at 0x7fc7a1714400>, <folium.vector_layers.CircleMarker object at 0x7fc7a1714438>, <folium.vector_layers.CircleMarker object at 0x7fc7a1714470>, <folium.vector_layers.CircleMarker object at 0x7fc7a17144a8>, <folium.vector_layers.CircleMarker object at 0x7fc7a17144e0>, <folium.vector_layers.CircleMarker object at 0x7fc7a1714518>, <folium.vector_layers.CircleMarker object at 0x7fc7a1714550>, <folium.vector_layers.CircleMarker object at 0x7fc7a1714588>, <folium.vector_layers.CircleMarker object at 0x7fc7a17145c0>, <folium.vector_layers.CircleMarker object at 0x7fc7a17145f8>, <folium.vector_layers.CircleMarker object at 0x7fc7a1714630>, <folium.vector_layers.CircleMarker object at 0x7fc7a1714668>, <folium.vector_layers.CircleMarker object at 0x7fc7a17146a0>, <folium.vector_layers.CircleMarker object at 0x7fc7a17146d8>, <folium.vector_layers.CircleMarker object at 0x7fc7a1714710>, <folium.vector_layers.CircleMarker object at 0x7fc7a1714748>, <folium.vector_layers.CircleMarker object at 0x7fc7a1714780>, <folium.vector_layers.CircleMarker object at 0x7fc7a17147b8>, <folium.vector_layers.CircleMarker object at 0x7fc7a17147f0>, <folium.vector_layers.CircleMarker object at 0x7fc7a1714828>, <folium.vector_layers.CircleMarker object at 0x7fc7a1714860>, <folium.vector_layers.CircleMarker object at 0x7fc7a1714898>, <folium.vector_layers.CircleMarker object at 0x7fc7a17148d0>, <folium.vector_layers.CircleMarker object at 0x7fc7a1714908>, <folium.vector_layers.CircleMarker object at 0x7fc7a1714940>, <folium.vector_layers.CircleMarker object at 0x7fc7a1714978>, <folium.vector_layers.CircleMarker object at 0x7fc7a17149b0>, <folium.vector_layers.CircleMarker object at 0x7fc7a17149e8>, <folium.vector_layers.CircleMarker object at 0x7fc7a1714a20>, <folium.vector_layers.CircleMarker object at 0x7fc7a1714a58>, <folium.vector_layers.CircleMarker object at 0x7fc7a1714a90>, <folium.vector_layers.CircleMarker object at 0x7fc7a1714ac8>, <folium.vector_layers.CircleMarker object at 0x7fc7a1714b00>, <folium.vector_layers.CircleMarker object at 0x7fc7a1714b38>, <folium.vector_layers.CircleMarker object at 0x7fc7a1714b70>, <folium.vector_layers.CircleMarker object at 0x7fc7a1714ba8>, <folium.vector_layers.CircleMarker object at 0x7fc7a1714be0>, <folium.vector_layers.CircleMarker object at 0x7fc7a1714c18>, <folium.vector_layers.CircleMarker object at 0x7fc7a1714c50>, <folium.vector_layers.CircleMarker object at 0x7fc7a1714c88>, <folium.vector_layers.CircleMarker object at 0x7fc7a1714cc0>, <folium.vector_layers.CircleMarker object at 0x7fc7a1714cf8>, <folium.vector_layers.CircleMarker object at 0x7fc7a1714d30>, <folium.vector_layers.CircleMarker object at 0x7fc7a1714d68>, <folium.vector_layers.CircleMarker object at 0x7fc7a1714da0>, <folium.vector_layers.CircleMarker object at 0x7fc7a1714dd8>, <folium.vector_layers.CircleMarker object at 0x7fc7a1714e10>, <folium.vector_layers.CircleMarker object at 0x7fc7a1714e48>, <folium.vector_layers.CircleMarker object at 0x7fc7a1714e80>, <folium.vector_layers.CircleMarker object at 0x7fc7a1714eb8>, <folium.vector_layers.CircleMarker object at 0x7fc7a1714ef0>, <folium.vector_layers.CircleMarker object at 0x7fc7a1714f28>, <folium.vector_layers.CircleMarker object at 0x7fc7a1714f60>, <folium.vector_layers.CircleMarker object at 0x7fc7a1714f98>, <folium.vector_layers.CircleMarker object at 0x7fc7a1714fd0>, <folium.vector_layers.CircleMarker object at 0x7fc7a1714080>, <folium.vector_layers.CircleMarker object at 0x7fc7a1721080>, <folium.vector_layers.CircleMarker object at 0x7fc7a17210b8>, <folium.vector_layers.CircleMarker object at 0x7fc7a17210f0>, <folium.vector_layers.CircleMarker object at 0x7fc7a1721128>, <folium.vector_layers.CircleMarker object at 0x7fc7a1721160>, <folium.vector_layers.CircleMarker object at 0x7fc7a1721198>, <folium.vector_layers.CircleMarker object at 0x7fc7a17211d0>, <folium.vector_layers.CircleMarker object at 0x7fc7a1721208>, <folium.vector_layers.CircleMarker object at 0x7fc7a1721240>, <folium.vector_layers.CircleMarker object at 0x7fc7a1721278>, <folium.vector_layers.CircleMarker object at 0x7fc7a17212b0>, <folium.vector_layers.CircleMarker object at 0x7fc7a17212e8>, <folium.vector_layers.CircleMarker object at 0x7fc7a1721320>, <folium.vector_layers.CircleMarker object at 0x7fc7a1721358>, <folium.vector_layers.CircleMarker object at 0x7fc7a1721390>, <folium.vector_layers.CircleMarker object at 0x7fc7a17213c8>, <folium.vector_layers.CircleMarker object at 0x7fc7a1721400>, <folium.vector_layers.CircleMarker object at 0x7fc7a1721438>, <folium.vector_layers.CircleMarker object at 0x7fc7a1721470>, <folium.vector_layers.CircleMarker object at 0x7fc7a17214a8>, <folium.vector_layers.CircleMarker object at 0x7fc7a17214e0>, <folium.vector_layers.CircleMarker object at 0x7fc7a1721518>, <folium.vector_layers.CircleMarker object at 0x7fc7a1721550>, <folium.vector_layers.CircleMarker object at 0x7fc7a1721588>, <folium.vector_layers.CircleMarker object at 0x7fc7a17215c0>, <folium.vector_layers.CircleMarker object at 0x7fc7a17215f8>, <folium.vector_layers.CircleMarker object at 0x7fc7a1721630>, <folium.vector_layers.CircleMarker object at 0x7fc7a1721668>, <folium.vector_layers.CircleMarker object at 0x7fc7a17216a0>, <folium.vector_layers.CircleMarker object at 0x7fc7a17216d8>, <folium.vector_layers.CircleMarker object at 0x7fc7a1721710>, <folium.vector_layers.CircleMarker object at 0x7fc7a1721748>, <folium.vector_layers.CircleMarker object at 0x7fc7a1721780>, <folium.vector_layers.CircleMarker object at 0x7fc7a17217b8>, <folium.vector_layers.CircleMarker object at 0x7fc7a17217f0>, <folium.vector_layers.CircleMarker object at 0x7fc7a1721828>, <folium.vector_layers.CircleMarker object at 0x7fc7a1721860>, <folium.vector_layers.CircleMarker object at 0x7fc7a1721898>, <folium.vector_layers.CircleMarker object at 0x7fc7a17218d0>, <folium.vector_layers.CircleMarker object at 0x7fc7a1721908>, <folium.vector_layers.CircleMarker object at 0x7fc7a1721940>, <folium.vector_layers.CircleMarker object at 0x7fc7a1721978>, <folium.vector_layers.CircleMarker object at 0x7fc7a17219b0>, <folium.vector_layers.CircleMarker object at 0x7fc7a17219e8>, <folium.vector_layers.CircleMarker object at 0x7fc7a1721a20>, <folium.vector_layers.CircleMarker object at 0x7fc7a1721a58>, <folium.vector_layers.CircleMarker object at 0x7fc7a1721a90>, <folium.vector_layers.CircleMarker object at 0x7fc7a1721ac8>, <folium.vector_layers.CircleMarker object at 0x7fc7a1721b00>, <folium.vector_layers.CircleMarker object at 0x7fc7a1721b38>, <folium.vector_layers.CircleMarker object at 0x7fc7a1721b70>, <folium.vector_layers.CircleMarker object at 0x7fc7a1721ba8>, <folium.vector_layers.CircleMarker object at 0x7fc7a1721be0>, <folium.vector_layers.CircleMarker object at 0x7fc7a1721c18>, <folium.vector_layers.CircleMarker object at 0x7fc7a1721c50>, <folium.vector_layers.CircleMarker object at 0x7fc7a1721c88>, <folium.vector_layers.CircleMarker object at 0x7fc7a1721cc0>, <folium.vector_layers.CircleMarker object at 0x7fc7a1721cf8>, <folium.vector_layers.CircleMarker object at 0x7fc7a1721d30>, <folium.vector_layers.CircleMarker object at 0x7fc7a1721d68>, <folium.vector_layers.CircleMarker object at 0x7fc7a1721da0>, <folium.vector_layers.CircleMarker object at 0x7fc7a1721dd8>, <folium.vector_layers.CircleMarker object at 0x7fc7a1721e10>, <folium.vector_layers.CircleMarker object at 0x7fc7a1721e48>, <folium.vector_layers.CircleMarker object at 0x7fc7a1721e80>, <folium.vector_layers.CircleMarker object at 0x7fc7a1721eb8>, <folium.vector_layers.CircleMarker object at 0x7fc7a1721ef0>, <folium.vector_layers.CircleMarker object at 0x7fc7a1721f28>, <folium.vector_layers.CircleMarker object at 0x7fc7a1721f60>, <folium.vector_layers.CircleMarker object at 0x7fc7a1721f98>, <folium.vector_layers.CircleMarker object at 0x7fc7a1721fd0>, <folium.vector_layers.CircleMarker object at 0x7fc7a1721048>, <folium.vector_layers.CircleMarker object at 0x7fc7a16af080>, <folium.vector_layers.CircleMarker object at 0x7fc7a16af0b8>, <folium.vector_layers.CircleMarker object at 0x7fc7a16af0f0>, <folium.vector_layers.CircleMarker object at 0x7fc7a16af128>, <folium.vector_layers.CircleMarker object at 0x7fc7a16af160>, <folium.vector_layers.CircleMarker object at 0x7fc7a16af198>, <folium.vector_layers.CircleMarker object at 0x7fc7a16af1d0>, <folium.vector_layers.CircleMarker object at 0x7fc7a16af208>, <folium.vector_layers.CircleMarker object at 0x7fc7a16af240>, <folium.vector_layers.CircleMarker object at 0x7fc7a16af278>, <folium.vector_layers.CircleMarker object at 0x7fc7a16af2b0>, <folium.vector_layers.CircleMarker object at 0x7fc7a16af2e8>, <folium.vector_layers.CircleMarker object at 0x7fc7a16af320>, <folium.vector_layers.CircleMarker object at 0x7fc7a16af358>, <folium.vector_layers.CircleMarker object at 0x7fc7a16af390>, <folium.vector_layers.CircleMarker object at 0x7fc7a16af3c8>, <folium.vector_layers.CircleMarker object at 0x7fc7a16af400>, <folium.vector_layers.CircleMarker object at 0x7fc7a16af438>, <folium.vector_layers.CircleMarker object at 0x7fc7a16af470>, <folium.vector_layers.CircleMarker object at 0x7fc7a16af4a8>, <folium.vector_layers.CircleMarker object at 0x7fc7a16af4e0>, <folium.vector_layers.CircleMarker object at 0x7fc7a16af518>, <folium.vector_layers.CircleMarker object at 0x7fc7a16af550>, <folium.vector_layers.CircleMarker object at 0x7fc7a16af588>, <folium.vector_layers.CircleMarker object at 0x7fc7a16af5c0>, <folium.vector_layers.CircleMarker object at 0x7fc7a16af5f8>, <folium.vector_layers.CircleMarker object at 0x7fc7a16af630>, <folium.vector_layers.CircleMarker object at 0x7fc7a16af668>, <folium.vector_layers.CircleMarker object at 0x7fc7a16af6a0>, <folium.vector_layers.CircleMarker object at 0x7fc7a16af6d8>, <folium.vector_layers.CircleMarker object at 0x7fc7a16af710>, <folium.vector_layers.CircleMarker object at 0x7fc7a16af748>, <folium.vector_layers.CircleMarker object at 0x7fc7a16af780>, <folium.vector_layers.CircleMarker object at 0x7fc7a16af7b8>, <folium.vector_layers.CircleMarker object at 0x7fc7a16af7f0>, <folium.vector_layers.CircleMarker object at 0x7fc7a16af828>, <folium.vector_layers.CircleMarker object at 0x7fc7a16af860>, <folium.vector_layers.CircleMarker object at 0x7fc7a16af898>, <folium.vector_layers.CircleMarker object at 0x7fc7a16af8d0>, <folium.vector_layers.CircleMarker object at 0x7fc7a16af908>, <folium.vector_layers.CircleMarker object at 0x7fc7a16af940>, <folium.vector_layers.CircleMarker object at 0x7fc7a16af978>, <folium.vector_layers.CircleMarker object at 0x7fc7a16af9b0>, <folium.vector_layers.CircleMarker object at 0x7fc7a16af9e8>, <folium.vector_layers.CircleMarker object at 0x7fc7a16afa20>, <folium.vector_layers.CircleMarker object at 0x7fc7a16afa58>, <folium.vector_layers.CircleMarker object at 0x7fc7a16afa90>, <folium.vector_layers.CircleMarker object at 0x7fc7a16afac8>, <folium.vector_layers.CircleMarker object at 0x7fc7a16afb00>, <folium.vector_layers.CircleMarker object at 0x7fc7a16afb38>, <folium.vector_layers.CircleMarker object at 0x7fc7a16afb70>, <folium.vector_layers.CircleMarker object at 0x7fc7a16afba8>, <folium.vector_layers.CircleMarker object at 0x7fc7a16afbe0>, <folium.vector_layers.CircleMarker object at 0x7fc7a16afc18>, <folium.vector_layers.CircleMarker object at 0x7fc7a16afc50>, <folium.vector_layers.CircleMarker object at 0x7fc7a16afc88>, <folium.vector_layers.CircleMarker object at 0x7fc7a16afcc0>, <folium.vector_layers.CircleMarker object at 0x7fc7a16afcf8>, <folium.vector_layers.CircleMarker object at 0x7fc7a16afd30>, <folium.vector_layers.CircleMarker object at 0x7fc7a16afd68>, <folium.vector_layers.CircleMarker object at 0x7fc7a16afda0>, <folium.vector_layers.CircleMarker object at 0x7fc7a16afdd8>, <folium.vector_layers.CircleMarker object at 0x7fc7a16afe10>, <folium.vector_layers.CircleMarker object at 0x7fc7a16afe48>, <folium.vector_layers.CircleMarker object at 0x7fc7a16afe80>, <folium.vector_layers.CircleMarker object at 0x7fc7a16afeb8>, <folium.vector_layers.CircleMarker object at 0x7fc7a16afef0>, <folium.vector_layers.CircleMarker object at 0x7fc7a16aff28>, <folium.vector_layers.CircleMarker object at 0x7fc7a16aff60>, <folium.vector_layers.CircleMarker object at 0x7fc7a16aff98>, <folium.vector_layers.CircleMarker object at 0x7fc7a16affd0>, <folium.vector_layers.CircleMarker object at 0x7fc7a16af048>, <folium.vector_layers.CircleMarker object at 0x7fc7a16be080>, <folium.vector_layers.CircleMarker object at 0x7fc7a16be0b8>, <folium.vector_layers.CircleMarker object at 0x7fc7a16be0f0>, <folium.vector_layers.CircleMarker object at 0x7fc7a16be128>, <folium.vector_layers.CircleMarker object at 0x7fc7a16be160>, <folium.vector_layers.CircleMarker object at 0x7fc7a16be198>, <folium.vector_layers.CircleMarker object at 0x7fc7a16be1d0>, <folium.vector_layers.CircleMarker object at 0x7fc7a16be208>, <folium.vector_layers.CircleMarker object at 0x7fc7a16be240>, <folium.vector_layers.CircleMarker object at 0x7fc7a16be278>, <folium.vector_layers.CircleMarker object at 0x7fc7a16be2b0>, <folium.vector_layers.CircleMarker object at 0x7fc7a16be2e8>, <folium.vector_layers.CircleMarker object at 0x7fc7a16be320>, <folium.vector_layers.CircleMarker object at 0x7fc7a16be358>, <folium.vector_layers.CircleMarker object at 0x7fc7a16be390>, <folium.vector_layers.CircleMarker object at 0x7fc7a16be3c8>, <folium.vector_layers.CircleMarker object at 0x7fc7a16be400>, <folium.vector_layers.CircleMarker object at 0x7fc7a16be438>, <folium.vector_layers.CircleMarker object at 0x7fc7a16be470>, <folium.vector_layers.CircleMarker object at 0x7fc7a16be4a8>, <folium.vector_layers.CircleMarker object at 0x7fc7a16be4e0>, <folium.vector_layers.CircleMarker object at 0x7fc7a16be518>, <folium.vector_layers.CircleMarker object at 0x7fc7a16be550>, <folium.vector_layers.CircleMarker object at 0x7fc7a16be588>, <folium.vector_layers.CircleMarker object at 0x7fc7a16be5c0>, <folium.vector_layers.CircleMarker object at 0x7fc7a16be5f8>, <folium.vector_layers.CircleMarker object at 0x7fc7a16be630>, <folium.vector_layers.CircleMarker object at 0x7fc7a16be668>, <folium.vector_layers.CircleMarker object at 0x7fc7a16be6a0>, <folium.vector_layers.CircleMarker object at 0x7fc7a16be6d8>, <folium.vector_layers.CircleMarker object at 0x7fc7a16be710>, <folium.vector_layers.CircleMarker object at 0x7fc7a16be748>, <folium.vector_layers.CircleMarker object at 0x7fc7a16be780>, <folium.vector_layers.CircleMarker object at 0x7fc7a16be7b8>, <folium.vector_layers.CircleMarker object at 0x7fc7a16be7f0>, <folium.vector_layers.CircleMarker object at 0x7fc7a16be828>, <folium.vector_layers.CircleMarker object at 0x7fc7a16be860>, <folium.vector_layers.CircleMarker object at 0x7fc7a16be898>, <folium.vector_layers.CircleMarker object at 0x7fc7a16be8d0>, <folium.vector_layers.CircleMarker object at 0x7fc7a16be908>, <folium.vector_layers.CircleMarker object at 0x7fc7a16be940>, <folium.vector_layers.CircleMarker object at 0x7fc7a16be978>, <folium.vector_layers.CircleMarker object at 0x7fc7a16be9b0>, <folium.vector_layers.CircleMarker object at 0x7fc7a16be9e8>, <folium.vector_layers.CircleMarker object at 0x7fc7a16bea20>, <folium.vector_layers.CircleMarker object at 0x7fc7a16bea58>, <folium.vector_layers.CircleMarker object at 0x7fc7a16bea90>, <folium.vector_layers.CircleMarker object at 0x7fc7a16beac8>, <folium.vector_layers.CircleMarker object at 0x7fc7a16beb00>, <folium.vector_layers.CircleMarker object at 0x7fc7a16beb38>, <folium.vector_layers.CircleMarker object at 0x7fc7a16beb70>, <folium.vector_layers.CircleMarker object at 0x7fc7a16beba8>, <folium.vector_layers.CircleMarker object at 0x7fc7a16bebe0>, <folium.vector_layers.CircleMarker object at 0x7fc7a16bec18>, <folium.vector_layers.CircleMarker object at 0x7fc7a16bec50>, <folium.vector_layers.CircleMarker object at 0x7fc7a16bec88>, <folium.vector_layers.CircleMarker object at 0x7fc7a16becc0>, <folium.vector_layers.CircleMarker object at 0x7fc7a16becf8>, <folium.vector_layers.CircleMarker object at 0x7fc7a16bed30>, <folium.vector_layers.CircleMarker object at 0x7fc7a16bed68>, <folium.vector_layers.CircleMarker object at 0x7fc7a16beda0>, <folium.vector_layers.CircleMarker object at 0x7fc7a16bedd8>, <folium.vector_layers.CircleMarker object at 0x7fc7a16bee10>, <folium.vector_layers.CircleMarker object at 0x7fc7a16bee48>, <folium.vector_layers.CircleMarker object at 0x7fc7a16bee80>, <folium.vector_layers.CircleMarker object at 0x7fc7a16beeb8>, <folium.vector_layers.CircleMarker object at 0x7fc7a16beef0>, <folium.vector_layers.CircleMarker object at 0x7fc7a16bef28>, <folium.vector_layers.CircleMarker object at 0x7fc7a16bef60>, <folium.vector_layers.CircleMarker object at 0x7fc7a16bef98>, <folium.vector_layers.CircleMarker object at 0x7fc7a16befd0>, <folium.vector_layers.CircleMarker object at 0x7fc7a16be048>, <folium.vector_layers.CircleMarker object at 0x7fc7a16cb080>, <folium.vector_layers.CircleMarker object at 0x7fc7a16cb0b8>, <folium.vector_layers.CircleMarker object at 0x7fc7a16cb0f0>, <folium.vector_layers.CircleMarker object at 0x7fc7a16cb128>, <folium.vector_layers.CircleMarker object at 0x7fc7a16cb160>, <folium.vector_layers.CircleMarker object at 0x7fc7a16cb198>, <folium.vector_layers.CircleMarker object at 0x7fc7a16cb1d0>, <folium.vector_layers.CircleMarker object at 0x7fc7a16cb208>, <folium.vector_layers.CircleMarker object at 0x7fc7a16cb240>, <folium.vector_layers.CircleMarker object at 0x7fc7a16cb278>, <folium.vector_layers.CircleMarker object at 0x7fc7a16cb2b0>, <folium.vector_layers.CircleMarker object at 0x7fc7a16cb2e8>, <folium.vector_layers.CircleMarker object at 0x7fc7a16cb320>, <folium.vector_layers.CircleMarker object at 0x7fc7a16cb358>, <folium.vector_layers.CircleMarker object at 0x7fc7a16cb390>, <folium.vector_layers.CircleMarker object at 0x7fc7a16cb3c8>, <folium.vector_layers.CircleMarker object at 0x7fc7a16cb400>, <folium.vector_layers.CircleMarker object at 0x7fc7a16cb438>, <folium.vector_layers.CircleMarker object at 0x7fc7a16cb470>, <folium.vector_layers.CircleMarker object at 0x7fc7a16cb4a8>, <folium.vector_layers.CircleMarker object at 0x7fc7a16cb4e0>, <folium.vector_layers.CircleMarker object at 0x7fc7a16cb518>, <folium.vector_layers.CircleMarker object at 0x7fc7a16cb550>, <folium.vector_layers.CircleMarker object at 0x7fc7a16cb588>, <folium.vector_layers.CircleMarker object at 0x7fc7a16cb5c0>, <folium.vector_layers.CircleMarker object at 0x7fc7a16cb5f8>, <folium.vector_layers.CircleMarker object at 0x7fc7a16cb630>, <folium.vector_layers.CircleMarker object at 0x7fc7a16cb668>, <folium.vector_layers.CircleMarker object at 0x7fc7a16cb6a0>, <folium.vector_layers.CircleMarker object at 0x7fc7a16cb6d8>, <folium.vector_layers.CircleMarker object at 0x7fc7a16cb710>, <folium.vector_layers.CircleMarker object at 0x7fc7a16cb748>, <folium.vector_layers.CircleMarker object at 0x7fc7a16cb780>, <folium.vector_layers.CircleMarker object at 0x7fc7a16cb7b8>, <folium.vector_layers.CircleMarker object at 0x7fc7a16cb7f0>, <folium.vector_layers.CircleMarker object at 0x7fc7a16cb828>, <folium.vector_layers.CircleMarker object at 0x7fc7a16cb860>, <folium.vector_layers.CircleMarker object at 0x7fc7a16cb898>, <folium.vector_layers.CircleMarker object at 0x7fc7a16cb8d0>, <folium.vector_layers.CircleMarker object at 0x7fc7a16cb908>, <folium.vector_layers.CircleMarker object at 0x7fc7a16cb940>, <folium.vector_layers.CircleMarker object at 0x7fc7a16cb978>, <folium.vector_layers.CircleMarker object at 0x7fc7a16cb9b0>, <folium.vector_layers.CircleMarker object at 0x7fc7a16cb9e8>, <folium.vector_layers.CircleMarker object at 0x7fc7a16cba20>, <folium.vector_layers.CircleMarker object at 0x7fc7a16cba58>, <folium.vector_layers.CircleMarker object at 0x7fc7a16cba90>, <folium.vector_layers.CircleMarker object at 0x7fc7a16cbac8>, <folium.vector_layers.CircleMarker object at 0x7fc7a16cbb00>, <folium.vector_layers.CircleMarker object at 0x7fc7a16cbb38>, <folium.vector_layers.CircleMarker object at 0x7fc7a16cbb70>, <folium.vector_layers.CircleMarker object at 0x7fc7a16cbba8>, <folium.vector_layers.CircleMarker object at 0x7fc7a16cbbe0>, <folium.vector_layers.CircleMarker object at 0x7fc7a16cbc18>, <folium.vector_layers.CircleMarker object at 0x7fc7a16cbc50>, <folium.vector_layers.CircleMarker object at 0x7fc7a16cbc88>, <folium.vector_layers.CircleMarker object at 0x7fc7a16cbcc0>, <folium.vector_layers.CircleMarker object at 0x7fc7a16cbcf8>, <folium.vector_layers.CircleMarker object at 0x7fc7a16cbd30>, <folium.vector_layers.CircleMarker object at 0x7fc7a16cbd68>, <folium.vector_layers.CircleMarker object at 0x7fc7a16cbda0>, <folium.vector_layers.CircleMarker object at 0x7fc7a16cbdd8>, <folium.vector_layers.CircleMarker object at 0x7fc7a16cbe10>, <folium.vector_layers.CircleMarker object at 0x7fc7a16cbe48>, <folium.vector_layers.CircleMarker object at 0x7fc7a16cbe80>, <folium.vector_layers.CircleMarker object at 0x7fc7a16cbeb8>, <folium.vector_layers.CircleMarker object at 0x7fc7a16cbef0>, <folium.vector_layers.CircleMarker object at 0x7fc7a16cbf28>, <folium.vector_layers.CircleMarker object at 0x7fc7a16cbf60>, <folium.vector_layers.CircleMarker object at 0x7fc7a16cbf98>, <folium.vector_layers.CircleMarker object at 0x7fc7a16cbfd0>, <folium.vector_layers.CircleMarker object at 0x7fc7a16cb048>, <folium.vector_layers.CircleMarker object at 0x7fc7a16d9080>, <folium.vector_layers.CircleMarker object at 0x7fc7a16d90b8>, <folium.vector_layers.CircleMarker object at 0x7fc7a16d90f0>, <folium.vector_layers.CircleMarker object at 0x7fc7a16d9128>, <folium.vector_layers.CircleMarker object at 0x7fc7a16d9160>, <folium.vector_layers.CircleMarker object at 0x7fc7a16d9198>, <folium.vector_layers.CircleMarker object at 0x7fc7a16d91d0>, <folium.vector_layers.CircleMarker object at 0x7fc7a16d9208>, <folium.vector_layers.CircleMarker object at 0x7fc7a16d9240>, <folium.vector_layers.CircleMarker object at 0x7fc7a16d9278>, <folium.vector_layers.CircleMarker object at 0x7fc7a16d92b0>, <folium.vector_layers.CircleMarker object at 0x7fc7a16d92e8>, <folium.vector_layers.CircleMarker object at 0x7fc7a16d9320>, <folium.vector_layers.CircleMarker object at 0x7fc7a16d9358>, <folium.vector_layers.CircleMarker object at 0x7fc7a16d9390>, <folium.vector_layers.CircleMarker object at 0x7fc7a16d93c8>, <folium.vector_layers.CircleMarker object at 0x7fc7a16d9400>, <folium.vector_layers.CircleMarker object at 0x7fc7a16d9438>, <folium.vector_layers.CircleMarker object at 0x7fc7a16d9470>, <folium.vector_layers.CircleMarker object at 0x7fc7a16d94a8>, <folium.vector_layers.CircleMarker object at 0x7fc7a16d94e0>, <folium.vector_layers.CircleMarker object at 0x7fc7a16d9518>, <folium.vector_layers.CircleMarker object at 0x7fc7a16d9550>, <folium.vector_layers.CircleMarker object at 0x7fc7a16d9588>, <folium.vector_layers.CircleMarker object at 0x7fc7a16d95c0>, <folium.vector_layers.CircleMarker object at 0x7fc7a16d95f8>, <folium.vector_layers.CircleMarker object at 0x7fc7a16d9630>, <folium.vector_layers.CircleMarker object at 0x7fc7a16d9668>, <folium.vector_layers.CircleMarker object at 0x7fc7a16d96a0>, <folium.vector_layers.CircleMarker object at 0x7fc7a16d96d8>, <folium.vector_layers.CircleMarker object at 0x7fc7a16d9710>, <folium.vector_layers.CircleMarker object at 0x7fc7a16d9748>, <folium.vector_layers.CircleMarker object at 0x7fc7a16d9780>, <folium.vector_layers.CircleMarker object at 0x7fc7a16d97b8>, <folium.vector_layers.CircleMarker object at 0x7fc7a16d97f0>, <folium.vector_layers.CircleMarker object at 0x7fc7a16d9828>, <folium.vector_layers.CircleMarker object at 0x7fc7a16d9860>, <folium.vector_layers.CircleMarker object at 0x7fc7a16d9898>, <folium.vector_layers.CircleMarker object at 0x7fc7a16d98d0>, <folium.vector_layers.CircleMarker object at 0x7fc7a16d9908>, <folium.vector_layers.CircleMarker object at 0x7fc7a16d9940>, <folium.vector_layers.CircleMarker object at 0x7fc7a16d9978>, <folium.vector_layers.CircleMarker object at 0x7fc7a16d99b0>, <folium.vector_layers.CircleMarker object at 0x7fc7a16d99e8>, <folium.vector_layers.CircleMarker object at 0x7fc7a16d9a20>, <folium.vector_layers.CircleMarker object at 0x7fc7a16d9a58>, <folium.vector_layers.CircleMarker object at 0x7fc7a16d9a90>, <folium.vector_layers.CircleMarker object at 0x7fc7a16d9ac8>, <folium.vector_layers.CircleMarker object at 0x7fc7a16d9b00>, <folium.vector_layers.CircleMarker object at 0x7fc7a16d9b38>, <folium.vector_layers.CircleMarker object at 0x7fc7a16d9b70>, <folium.vector_layers.CircleMarker object at 0x7fc7a16d9ba8>, <folium.vector_layers.CircleMarker object at 0x7fc7a16d9be0>, <folium.vector_layers.CircleMarker object at 0x7fc7a16d9c18>, <folium.vector_layers.CircleMarker object at 0x7fc7a16d9c50>, <folium.vector_layers.CircleMarker object at 0x7fc7a16d9c88>, <folium.vector_layers.CircleMarker object at 0x7fc7a16d9cc0>, <folium.vector_layers.CircleMarker object at 0x7fc7a16d9cf8>, <folium.vector_layers.CircleMarker object at 0x7fc7a16d9d30>, <folium.vector_layers.CircleMarker object at 0x7fc7a16d9d68>, <folium.vector_layers.CircleMarker object at 0x7fc7a16d9da0>, <folium.vector_layers.CircleMarker object at 0x7fc7a16d9dd8>, <folium.vector_layers.CircleMarker object at 0x7fc7a16d9e10>, <folium.vector_layers.CircleMarker object at 0x7fc7a16d9e48>, <folium.vector_layers.CircleMarker object at 0x7fc7a16d9e80>, <folium.vector_layers.CircleMarker object at 0x7fc7a16d9eb8>, <folium.vector_layers.CircleMarker object at 0x7fc7a16d9ef0>, <folium.vector_layers.CircleMarker object at 0x7fc7a16d9f28>, <folium.vector_layers.CircleMarker object at 0x7fc7a16d9f60>, <folium.vector_layers.CircleMarker object at 0x7fc7a16d9f98>, <folium.vector_layers.CircleMarker object at 0x7fc7a16d9fd0>, <folium.vector_layers.CircleMarker object at 0x7fc7a16d9048>, <folium.vector_layers.CircleMarker object at 0x7fc7a16e6080>, <folium.vector_layers.CircleMarker object at 0x7fc7a16e60b8>, <folium.vector_layers.CircleMarker object at 0x7fc7a16e60f0>, <folium.vector_layers.CircleMarker object at 0x7fc7a16e6128>, <folium.vector_layers.CircleMarker object at 0x7fc7a16e6160>, <folium.vector_layers.CircleMarker object at 0x7fc7a16e6198>, <folium.vector_layers.CircleMarker object at 0x7fc7a16e61d0>, <folium.vector_layers.CircleMarker object at 0x7fc7a16e6208>, <folium.vector_layers.CircleMarker object at 0x7fc7a16e6240>, <folium.vector_layers.CircleMarker object at 0x7fc7a16e6278>, <folium.vector_layers.CircleMarker object at 0x7fc7a16e62b0>, <folium.vector_layers.CircleMarker object at 0x7fc7a16e62e8>, <folium.vector_layers.CircleMarker object at 0x7fc7a16e6320>, <folium.vector_layers.CircleMarker object at 0x7fc7a16e6358>, <folium.vector_layers.CircleMarker object at 0x7fc7a16e6390>, <folium.vector_layers.CircleMarker object at 0x7fc7a16e63c8>, <folium.vector_layers.CircleMarker object at 0x7fc7a16e6400>, <folium.vector_layers.CircleMarker object at 0x7fc7a16e6438>, <folium.vector_layers.CircleMarker object at 0x7fc7a16e6470>, <folium.vector_layers.CircleMarker object at 0x7fc7a16e64a8>, <folium.vector_layers.CircleMarker object at 0x7fc7a16e64e0>, <folium.vector_layers.CircleMarker object at 0x7fc7a16e6518>, <folium.vector_layers.CircleMarker object at 0x7fc7a16e6550>, <folium.vector_layers.CircleMarker object at 0x7fc7a16e6588>, <folium.vector_layers.CircleMarker object at 0x7fc7a16e65c0>, <folium.vector_layers.CircleMarker object at 0x7fc7a16e65f8>, <folium.vector_layers.CircleMarker object at 0x7fc7a16e6630>, <folium.vector_layers.CircleMarker object at 0x7fc7a16e6668>, <folium.vector_layers.CircleMarker object at 0x7fc7a16e66a0>, <folium.vector_layers.CircleMarker object at 0x7fc7a16e66d8>, <folium.vector_layers.CircleMarker object at 0x7fc7a16e6710>, <folium.vector_layers.CircleMarker object at 0x7fc7a16e6748>, <folium.vector_layers.CircleMarker object at 0x7fc7a16e6780>, <folium.vector_layers.CircleMarker object at 0x7fc7a16e67b8>, <folium.vector_layers.CircleMarker object at 0x7fc7a16e67f0>, <folium.vector_layers.CircleMarker object at 0x7fc7a16e6828>, <folium.vector_layers.CircleMarker object at 0x7fc7a16e6860>, <folium.vector_layers.CircleMarker object at 0x7fc7a16e6898>, <folium.vector_layers.CircleMarker object at 0x7fc7a16e68d0>, <folium.vector_layers.CircleMarker object at 0x7fc7a16e6908>, <folium.vector_layers.CircleMarker object at 0x7fc7a16e6940>, <folium.vector_layers.CircleMarker object at 0x7fc7a16e6978>, <folium.vector_layers.CircleMarker object at 0x7fc7a16e69b0>, <folium.vector_layers.CircleMarker object at 0x7fc7a16e69e8>, <folium.vector_layers.CircleMarker object at 0x7fc7a16e6a20>, <folium.vector_layers.CircleMarker object at 0x7fc7a16e6a58>, <folium.vector_layers.CircleMarker object at 0x7fc7a16e6a90>, <folium.vector_layers.CircleMarker object at 0x7fc7a16e6ac8>, <folium.vector_layers.CircleMarker object at 0x7fc7a16e6b00>, <folium.vector_layers.CircleMarker object at 0x7fc7a16e6b38>, <folium.vector_layers.CircleMarker object at 0x7fc7a16e6b70>, <folium.vector_layers.CircleMarker object at 0x7fc7a16e6ba8>, <folium.vector_layers.CircleMarker object at 0x7fc7a16e6be0>, <folium.vector_layers.CircleMarker object at 0x7fc7a16e6c18>, <folium.vector_layers.CircleMarker object at 0x7fc7a16e6c50>, <folium.vector_layers.CircleMarker object at 0x7fc7a16e6c88>, <folium.vector_layers.CircleMarker object at 0x7fc7a16e6cc0>, <folium.vector_layers.CircleMarker object at 0x7fc7a16e6cf8>, <folium.vector_layers.CircleMarker object at 0x7fc7a16e6d30>, <folium.vector_layers.CircleMarker object at 0x7fc7a16e6d68>, <folium.vector_layers.CircleMarker object at 0x7fc7a16e6da0>, <folium.vector_layers.CircleMarker object at 0x7fc7a16e6dd8>, <folium.vector_layers.CircleMarker object at 0x7fc7a16e6e10>, <folium.vector_layers.CircleMarker object at 0x7fc7a16e6e48>, <folium.vector_layers.CircleMarker object at 0x7fc7a16e6e80>, <folium.vector_layers.CircleMarker object at 0x7fc7a16e6eb8>, <folium.vector_layers.CircleMarker object at 0x7fc7a16e6ef0>, <folium.vector_layers.CircleMarker object at 0x7fc7a16e6f28>, <folium.vector_layers.CircleMarker object at 0x7fc7a16e6f60>, <folium.vector_layers.CircleMarker object at 0x7fc7a16e6f98>, <folium.vector_layers.CircleMarker object at 0x7fc7a16e6fd0>, <folium.vector_layers.CircleMarker object at 0x7fc7a16e6048>, <folium.vector_layers.CircleMarker object at 0x7fc7a1675080>, <folium.vector_layers.CircleMarker object at 0x7fc7a16750b8>, <folium.vector_layers.CircleMarker object at 0x7fc7a16750f0>, <folium.vector_layers.CircleMarker object at 0x7fc7a1675128>, <folium.vector_layers.CircleMarker object at 0x7fc7a1675160>, <folium.vector_layers.CircleMarker object at 0x7fc7a1675198>, <folium.vector_layers.CircleMarker object at 0x7fc7a16751d0>, <folium.vector_layers.CircleMarker object at 0x7fc7a1675208>, <folium.vector_layers.CircleMarker object at 0x7fc7a1675240>, <folium.vector_layers.CircleMarker object at 0x7fc7a1675278>, <folium.vector_layers.CircleMarker object at 0x7fc7a16752b0>, <folium.vector_layers.CircleMarker object at 0x7fc7a16752e8>, <folium.vector_layers.CircleMarker object at 0x7fc7a1675320>, <folium.vector_layers.CircleMarker object at 0x7fc7a1675358>, <folium.vector_layers.CircleMarker object at 0x7fc7a1675390>, <folium.vector_layers.CircleMarker object at 0x7fc7a16753c8>, <folium.vector_layers.CircleMarker object at 0x7fc7a1675400>, <folium.vector_layers.CircleMarker object at 0x7fc7a1675438>, <folium.vector_layers.CircleMarker object at 0x7fc7a1675470>, <folium.vector_layers.CircleMarker object at 0x7fc7a16754a8>, <folium.vector_layers.CircleMarker object at 0x7fc7a16754e0>, <folium.vector_layers.CircleMarker object at 0x7fc7a1675518>, <folium.vector_layers.CircleMarker object at 0x7fc7a1675550>, <folium.vector_layers.CircleMarker object at 0x7fc7a1675588>, <folium.vector_layers.CircleMarker object at 0x7fc7a16755c0>, <folium.vector_layers.CircleMarker object at 0x7fc7a16755f8>, <folium.vector_layers.CircleMarker object at 0x7fc7a1675630>, <folium.vector_layers.CircleMarker object at 0x7fc7a1675668>, <folium.vector_layers.CircleMarker object at 0x7fc7a16756a0>, <folium.vector_layers.CircleMarker object at 0x7fc7a16756d8>, <folium.vector_layers.CircleMarker object at 0x7fc7a1675710>, <folium.vector_layers.CircleMarker object at 0x7fc7a1675748>, <folium.vector_layers.CircleMarker object at 0x7fc7a1675780>, <folium.vector_layers.CircleMarker object at 0x7fc7a16757b8>, <folium.vector_layers.CircleMarker object at 0x7fc7a16757f0>, <folium.vector_layers.CircleMarker object at 0x7fc7a1675828>, <folium.vector_layers.CircleMarker object at 0x7fc7a1675860>, <folium.vector_layers.CircleMarker object at 0x7fc7a1675898>, <folium.vector_layers.CircleMarker object at 0x7fc7a16758d0>, <folium.vector_layers.CircleMarker object at 0x7fc7a1675908>, <folium.vector_layers.CircleMarker object at 0x7fc7a1675940>, <folium.vector_layers.CircleMarker object at 0x7fc7a1675978>, <folium.vector_layers.CircleMarker object at 0x7fc7a16759b0>, <folium.vector_layers.CircleMarker object at 0x7fc7a16759e8>, <folium.vector_layers.CircleMarker object at 0x7fc7a1675a20>, <folium.vector_layers.CircleMarker object at 0x7fc7a1675a58>, <folium.vector_layers.CircleMarker object at 0x7fc7a1675a90>, <folium.vector_layers.CircleMarker object at 0x7fc7a1675ac8>, <folium.vector_layers.CircleMarker object at 0x7fc7a1675b00>, <folium.vector_layers.CircleMarker object at 0x7fc7a1675b38>, <folium.vector_layers.CircleMarker object at 0x7fc7a1675b70>, <folium.vector_layers.CircleMarker object at 0x7fc7a1675ba8>, <folium.vector_layers.CircleMarker object at 0x7fc7a1675be0>, <folium.vector_layers.CircleMarker object at 0x7fc7a1675c18>, <folium.vector_layers.CircleMarker object at 0x7fc7a1675c50>, <folium.vector_layers.CircleMarker object at 0x7fc7a1675c88>, <folium.vector_layers.CircleMarker object at 0x7fc7a1675cc0>, <folium.vector_layers.CircleMarker object at 0x7fc7a1675cf8>, <folium.vector_layers.CircleMarker object at 0x7fc7a1675d30>, <folium.vector_layers.CircleMarker object at 0x7fc7a1675d68>, <folium.vector_layers.CircleMarker object at 0x7fc7a1675da0>, <folium.vector_layers.CircleMarker object at 0x7fc7a1675dd8>, <folium.vector_layers.CircleMarker object at 0x7fc7a1675e10>, <folium.vector_layers.CircleMarker object at 0x7fc7a1675e48>, <folium.vector_layers.CircleMarker object at 0x7fc7a1675e80>, <folium.vector_layers.CircleMarker object at 0x7fc7a1675eb8>, <folium.vector_layers.CircleMarker object at 0x7fc7a1675ef0>, <folium.vector_layers.CircleMarker object at 0x7fc7a1675f28>, <folium.vector_layers.CircleMarker object at 0x7fc7a1675f60>, <folium.vector_layers.CircleMarker object at 0x7fc7a1675f98>, <folium.vector_layers.CircleMarker object at 0x7fc7a1675fd0>, <folium.vector_layers.CircleMarker object at 0x7fc7a1675048>, <folium.vector_layers.CircleMarker object at 0x7fc7a1682080>, <folium.vector_layers.CircleMarker object at 0x7fc7a16820b8>, <folium.vector_layers.CircleMarker object at 0x7fc7a16820f0>, <folium.vector_layers.CircleMarker object at 0x7fc7a1682128>, <folium.vector_layers.CircleMarker object at 0x7fc7a1682160>, <folium.vector_layers.CircleMarker object at 0x7fc7a1682198>, <folium.vector_layers.CircleMarker object at 0x7fc7a16821d0>, <folium.vector_layers.CircleMarker object at 0x7fc7a1682208>, <folium.vector_layers.CircleMarker object at 0x7fc7a1682240>, <folium.vector_layers.CircleMarker object at 0x7fc7a1682278>, <folium.vector_layers.CircleMarker object at 0x7fc7a16822b0>, <folium.vector_layers.CircleMarker object at 0x7fc7a16822e8>, <folium.vector_layers.CircleMarker object at 0x7fc7a1682320>, <folium.vector_layers.CircleMarker object at 0x7fc7a1682358>, <folium.vector_layers.CircleMarker object at 0x7fc7a1682390>, <folium.vector_layers.CircleMarker object at 0x7fc7a16823c8>, <folium.vector_layers.CircleMarker object at 0x7fc7a1682400>, <folium.vector_layers.CircleMarker object at 0x7fc7a1682438>, <folium.vector_layers.CircleMarker object at 0x7fc7a1682470>, <folium.vector_layers.CircleMarker object at 0x7fc7a16824a8>, <folium.vector_layers.CircleMarker object at 0x7fc7a16824e0>, <folium.vector_layers.CircleMarker object at 0x7fc7a1682518>, <folium.vector_layers.CircleMarker object at 0x7fc7a1682550>, <folium.vector_layers.CircleMarker object at 0x7fc7a1682588>, <folium.vector_layers.CircleMarker object at 0x7fc7a16825c0>, <folium.vector_layers.CircleMarker object at 0x7fc7a16825f8>, <folium.vector_layers.CircleMarker object at 0x7fc7a1682630>, <folium.vector_layers.CircleMarker object at 0x7fc7a1682668>, <folium.vector_layers.CircleMarker object at 0x7fc7a16826a0>, <folium.vector_layers.CircleMarker object at 0x7fc7a16826d8>, <folium.vector_layers.CircleMarker object at 0x7fc7a1682710>, <folium.vector_layers.CircleMarker object at 0x7fc7a1682748>, <folium.vector_layers.CircleMarker object at 0x7fc7a1682780>, <folium.vector_layers.CircleMarker object at 0x7fc7a16827b8>, <folium.vector_layers.CircleMarker object at 0x7fc7a16827f0>, <folium.vector_layers.CircleMarker object at 0x7fc7a1682828>, <folium.vector_layers.CircleMarker object at 0x7fc7a1682860>, <folium.vector_layers.CircleMarker object at 0x7fc7a1682898>, <folium.vector_layers.CircleMarker object at 0x7fc7a16828d0>, <folium.vector_layers.CircleMarker object at 0x7fc7a1682908>, <folium.vector_layers.CircleMarker object at 0x7fc7a1682940>, <folium.vector_layers.CircleMarker object at 0x7fc7a1682978>, <folium.vector_layers.CircleMarker object at 0x7fc7a16829b0>, <folium.vector_layers.CircleMarker object at 0x7fc7a16829e8>, <folium.vector_layers.CircleMarker object at 0x7fc7a1682a20>, <folium.vector_layers.CircleMarker object at 0x7fc7a1682a58>, <folium.vector_layers.CircleMarker object at 0x7fc7a1682a90>, <folium.vector_layers.CircleMarker object at 0x7fc7a1682ac8>, <folium.vector_layers.CircleMarker object at 0x7fc7a1682b00>, <folium.vector_layers.CircleMarker object at 0x7fc7a1682b38>, <folium.vector_layers.CircleMarker object at 0x7fc7a1682b70>, <folium.vector_layers.CircleMarker object at 0x7fc7a1682ba8>, <folium.vector_layers.CircleMarker object at 0x7fc7a1682be0>, <folium.vector_layers.CircleMarker object at 0x7fc7a1682c18>, <folium.vector_layers.CircleMarker object at 0x7fc7a1682c50>, <folium.vector_layers.CircleMarker object at 0x7fc7a1682c88>, <folium.vector_layers.CircleMarker object at 0x7fc7a1682cc0>, <folium.vector_layers.CircleMarker object at 0x7fc7a1682cf8>, <folium.vector_layers.CircleMarker object at 0x7fc7a1682d30>, <folium.vector_layers.CircleMarker object at 0x7fc7a1682d68>, <folium.vector_layers.CircleMarker object at 0x7fc7a1682da0>, <folium.vector_layers.CircleMarker object at 0x7fc7a1682dd8>, <folium.vector_layers.CircleMarker object at 0x7fc7a1682e10>, <folium.vector_layers.CircleMarker object at 0x7fc7a1682e48>, <folium.vector_layers.CircleMarker object at 0x7fc7a1682e80>, <folium.vector_layers.CircleMarker object at 0x7fc7a1682eb8>, <folium.vector_layers.CircleMarker object at 0x7fc7a1682ef0>, <folium.vector_layers.CircleMarker object at 0x7fc7a1682f28>, <folium.vector_layers.CircleMarker object at 0x7fc7a1682f60>, <folium.vector_layers.CircleMarker object at 0x7fc7a1682f98>, <folium.vector_layers.CircleMarker object at 0x7fc7a1682fd0>, <folium.vector_layers.CircleMarker object at 0x7fc7a1682048>, <folium.vector_layers.CircleMarker object at 0x7fc7a168f080>, <folium.vector_layers.CircleMarker object at 0x7fc7a168f0b8>, <folium.vector_layers.CircleMarker object at 0x7fc7a168f0f0>, <folium.vector_layers.CircleMarker object at 0x7fc7a168f128>, <folium.vector_layers.CircleMarker object at 0x7fc7a168f160>, <folium.vector_layers.CircleMarker object at 0x7fc7a168f198>, <folium.vector_layers.CircleMarker object at 0x7fc7a168f1d0>, <folium.vector_layers.CircleMarker object at 0x7fc7a168f208>, <folium.vector_layers.CircleMarker object at 0x7fc7a168f240>, <folium.vector_layers.CircleMarker object at 0x7fc7a168f278>, <folium.vector_layers.CircleMarker object at 0x7fc7a168f2b0>, <folium.vector_layers.CircleMarker object at 0x7fc7a168f2e8>, <folium.vector_layers.CircleMarker object at 0x7fc7a168f320>, <folium.vector_layers.CircleMarker object at 0x7fc7a168f358>, <folium.vector_layers.CircleMarker object at 0x7fc7a168f390>, <folium.vector_layers.CircleMarker object at 0x7fc7a168f3c8>, <folium.vector_layers.CircleMarker object at 0x7fc7a168f400>, <folium.vector_layers.CircleMarker object at 0x7fc7a168f438>, <folium.vector_layers.CircleMarker object at 0x7fc7a168f470>, <folium.vector_layers.CircleMarker object at 0x7fc7a168f4a8>, <folium.vector_layers.CircleMarker object at 0x7fc7a168f4e0>, <folium.vector_layers.CircleMarker object at 0x7fc7a168f518>, <folium.vector_layers.CircleMarker object at 0x7fc7a168f550>, <folium.vector_layers.CircleMarker object at 0x7fc7a168f588>, <folium.vector_layers.CircleMarker object at 0x7fc7a168f5c0>, <folium.vector_layers.CircleMarker object at 0x7fc7a168f5f8>, <folium.vector_layers.CircleMarker object at 0x7fc7a168f630>, <folium.vector_layers.CircleMarker object at 0x7fc7a168f668>, <folium.vector_layers.CircleMarker object at 0x7fc7a168f6a0>, <folium.vector_layers.CircleMarker object at 0x7fc7a168f6d8>, <folium.vector_layers.CircleMarker object at 0x7fc7a168f710>, <folium.vector_layers.CircleMarker object at 0x7fc7a168f748>, <folium.vector_layers.CircleMarker object at 0x7fc7a168f780>, <folium.vector_layers.CircleMarker object at 0x7fc7a168f7b8>, <folium.vector_layers.CircleMarker object at 0x7fc7a168f7f0>, <folium.vector_layers.CircleMarker object at 0x7fc7a168f828>, <folium.vector_layers.CircleMarker object at 0x7fc7a168f860>, <folium.vector_layers.CircleMarker object at 0x7fc7a168f898>, <folium.vector_layers.CircleMarker object at 0x7fc7a168f8d0>, <folium.vector_layers.CircleMarker object at 0x7fc7a168f908>, <folium.vector_layers.CircleMarker object at 0x7fc7a168f940>, <folium.vector_layers.CircleMarker object at 0x7fc7a168f978>, <folium.vector_layers.CircleMarker object at 0x7fc7a168f9b0>, <folium.vector_layers.CircleMarker object at 0x7fc7a168f9e8>, <folium.vector_layers.CircleMarker object at 0x7fc7a168fa20>, <folium.vector_layers.CircleMarker object at 0x7fc7a168fa58>, <folium.vector_layers.CircleMarker object at 0x7fc7a168fa90>, <folium.vector_layers.CircleMarker object at 0x7fc7a168fac8>, <folium.vector_layers.CircleMarker object at 0x7fc7a168fb00>, <folium.vector_layers.CircleMarker object at 0x7fc7a168fb38>, <folium.vector_layers.CircleMarker object at 0x7fc7a168fb70>, <folium.vector_layers.CircleMarker object at 0x7fc7a168fba8>, <folium.vector_layers.CircleMarker object at 0x7fc7a168fbe0>, <folium.vector_layers.CircleMarker object at 0x7fc7a168fc18>, <folium.vector_layers.CircleMarker object at 0x7fc7a168fc50>, <folium.vector_layers.CircleMarker object at 0x7fc7a168fc88>, <folium.vector_layers.CircleMarker object at 0x7fc7a168fcc0>, <folium.vector_layers.CircleMarker object at 0x7fc7a168fcf8>, <folium.vector_layers.CircleMarker object at 0x7fc7a168fd30>, <folium.vector_layers.CircleMarker object at 0x7fc7a168fd68>, <folium.vector_layers.CircleMarker object at 0x7fc7a168fda0>, <folium.vector_layers.CircleMarker object at 0x7fc7a168fdd8>, <folium.vector_layers.CircleMarker object at 0x7fc7a168fe10>, <folium.vector_layers.CircleMarker object at 0x7fc7a168fe48>, <folium.vector_layers.CircleMarker object at 0x7fc7a168fe80>, <folium.vector_layers.CircleMarker object at 0x7fc7a168feb8>, <folium.vector_layers.CircleMarker object at 0x7fc7a168fef0>, <folium.vector_layers.CircleMarker object at 0x7fc7a168ff28>, <folium.vector_layers.CircleMarker object at 0x7fc7a168ff60>, <folium.vector_layers.CircleMarker object at 0x7fc7a168ff98>, <folium.vector_layers.CircleMarker object at 0x7fc7a168ffd0>, <folium.vector_layers.CircleMarker object at 0x7fc7a168f048>, <folium.vector_layers.CircleMarker object at 0x7fc7a169f048>, <folium.vector_layers.CircleMarker object at 0x7fc7a169f0b8>, <folium.vector_layers.CircleMarker object at 0x7fc7a169f0f0>, <folium.vector_layers.CircleMarker object at 0x7fc7a169f128>, <folium.vector_layers.CircleMarker object at 0x7fc7a169f160>, <folium.vector_layers.CircleMarker object at 0x7fc7a169f198>, <folium.vector_layers.CircleMarker object at 0x7fc7a169f1d0>, <folium.vector_layers.CircleMarker object at 0x7fc7a169f208>, <folium.vector_layers.CircleMarker object at 0x7fc7a169f240>, <folium.vector_layers.CircleMarker object at 0x7fc7a169f278>, <folium.vector_layers.CircleMarker object at 0x7fc7a169f2b0>, <folium.vector_layers.CircleMarker object at 0x7fc7a169f2e8>, <folium.vector_layers.CircleMarker object at 0x7fc7a169f320>, <folium.vector_layers.CircleMarker object at 0x7fc7a169f358>, <folium.vector_layers.CircleMarker object at 0x7fc7a169f390>, <folium.vector_layers.CircleMarker object at 0x7fc7a169f3c8>, <folium.vector_layers.CircleMarker object at 0x7fc7a169f400>, <folium.vector_layers.CircleMarker object at 0x7fc7a169f438>, <folium.vector_layers.CircleMarker object at 0x7fc7a169f470>, <folium.vector_layers.CircleMarker object at 0x7fc7a169f4a8>, <folium.vector_layers.CircleMarker object at 0x7fc7a169f4e0>, <folium.vector_layers.CircleMarker object at 0x7fc7a169f518>, <folium.vector_layers.CircleMarker object at 0x7fc7a169f550>, <folium.vector_layers.CircleMarker object at 0x7fc7a169f588>, <folium.vector_layers.CircleMarker object at 0x7fc7a169f5c0>, <folium.vector_layers.CircleMarker object at 0x7fc7a169f5f8>, <folium.vector_layers.CircleMarker object at 0x7fc7a169f630>, <folium.vector_layers.CircleMarker object at 0x7fc7a169f668>, <folium.vector_layers.CircleMarker object at 0x7fc7a169f6a0>, <folium.vector_layers.CircleMarker object at 0x7fc7a169f6d8>, <folium.vector_layers.CircleMarker object at 0x7fc7a169f710>, <folium.vector_layers.CircleMarker object at 0x7fc7a169f748>, <folium.vector_layers.CircleMarker object at 0x7fc7a169f780>, <folium.vector_layers.CircleMarker object at 0x7fc7a169f7b8>, <folium.vector_layers.CircleMarker object at 0x7fc7a169f7f0>, <folium.vector_layers.CircleMarker object at 0x7fc7a169f828>, <folium.vector_layers.CircleMarker object at 0x7fc7a169f860>, <folium.vector_layers.CircleMarker object at 0x7fc7a169f898>, <folium.vector_layers.CircleMarker object at 0x7fc7a169f8d0>, <folium.vector_layers.CircleMarker object at 0x7fc7a169f908>, <folium.vector_layers.CircleMarker object at 0x7fc7a169f940>, <folium.vector_layers.CircleMarker object at 0x7fc7a169f978>, <folium.vector_layers.CircleMarker object at 0x7fc7a169f9b0>, <folium.vector_layers.CircleMarker object at 0x7fc7a169f9e8>, <folium.vector_layers.CircleMarker object at 0x7fc7a169fa20>, <folium.vector_layers.CircleMarker object at 0x7fc7a169fa58>, <folium.vector_layers.CircleMarker object at 0x7fc7a169fa90>, <folium.vector_layers.CircleMarker object at 0x7fc7a169fac8>, <folium.vector_layers.CircleMarker object at 0x7fc7a169fb00>, <folium.vector_layers.CircleMarker object at 0x7fc7a169fb38>, <folium.vector_layers.CircleMarker object at 0x7fc7a169fb70>, <folium.vector_layers.CircleMarker object at 0x7fc7a169fba8>, <folium.vector_layers.CircleMarker object at 0x7fc7a169fbe0>, <folium.vector_layers.CircleMarker object at 0x7fc7a169fc18>, <folium.vector_layers.CircleMarker object at 0x7fc7a169fc50>, <folium.vector_layers.CircleMarker object at 0x7fc7a169fc88>, <folium.vector_layers.CircleMarker object at 0x7fc7a169fcc0>, <folium.vector_layers.CircleMarker object at 0x7fc7a169fcf8>, <folium.vector_layers.CircleMarker object at 0x7fc7a169fd30>, <folium.vector_layers.CircleMarker object at 0x7fc7a169fd68>, <folium.vector_layers.CircleMarker object at 0x7fc7a169fda0>, <folium.vector_layers.CircleMarker object at 0x7fc7a169fdd8>, <folium.vector_layers.CircleMarker object at 0x7fc7a169fe10>, <folium.vector_layers.CircleMarker object at 0x7fc7a169fe48>, <folium.vector_layers.CircleMarker object at 0x7fc7a169fe80>, <folium.vector_layers.CircleMarker object at 0x7fc7a169feb8>, <folium.vector_layers.CircleMarker object at 0x7fc7a169fef0>, <folium.vector_layers.CircleMarker object at 0x7fc7a169ff28>, <folium.vector_layers.CircleMarker object at 0x7fc7a169ff60>, <folium.vector_layers.CircleMarker object at 0x7fc7a169ff98>, <folium.vector_layers.CircleMarker object at 0x7fc7a169ffd0>, <folium.vector_layers.CircleMarker object at 0x7fc7a169f080>, <folium.vector_layers.CircleMarker object at 0x7fc7a162b048>, <folium.vector_layers.CircleMarker object at 0x7fc7a162b0b8>, <folium.vector_layers.CircleMarker object at 0x7fc7a162b0f0>, <folium.vector_layers.CircleMarker object at 0x7fc7a162b128>, <folium.vector_layers.CircleMarker object at 0x7fc7a162b160>, <folium.vector_layers.CircleMarker object at 0x7fc7a162b198>, <folium.vector_layers.CircleMarker object at 0x7fc7a162b1d0>, <folium.vector_layers.CircleMarker object at 0x7fc7a162b208>, <folium.vector_layers.CircleMarker object at 0x7fc7a162b240>, <folium.vector_layers.CircleMarker object at 0x7fc7a162b278>, <folium.vector_layers.CircleMarker object at 0x7fc7a162b2b0>, <folium.vector_layers.CircleMarker object at 0x7fc7a162b2e8>, <folium.vector_layers.CircleMarker object at 0x7fc7a162b320>, <folium.vector_layers.CircleMarker object at 0x7fc7a162b358>, <folium.vector_layers.CircleMarker object at 0x7fc7a162b390>, <folium.vector_layers.CircleMarker object at 0x7fc7a162b3c8>, <folium.vector_layers.CircleMarker object at 0x7fc7a162b400>, <folium.vector_layers.CircleMarker object at 0x7fc7a162b438>, <folium.vector_layers.CircleMarker object at 0x7fc7a162b470>, <folium.vector_layers.CircleMarker object at 0x7fc7a162b4a8>, <folium.vector_layers.CircleMarker object at 0x7fc7a162b4e0>, <folium.vector_layers.CircleMarker object at 0x7fc7a162b518>, <folium.vector_layers.CircleMarker object at 0x7fc7a162b550>, <folium.vector_layers.CircleMarker object at 0x7fc7a162b588>, <folium.vector_layers.CircleMarker object at 0x7fc7a162b5c0>, <folium.vector_layers.CircleMarker object at 0x7fc7a162b5f8>, <folium.vector_layers.CircleMarker object at 0x7fc7a162b630>, <folium.vector_layers.CircleMarker object at 0x7fc7a162b668>, <folium.vector_layers.CircleMarker object at 0x7fc7a162b6a0>, <folium.vector_layers.CircleMarker object at 0x7fc7a162b6d8>, <folium.vector_layers.CircleMarker object at 0x7fc7a162b710>, <folium.vector_layers.CircleMarker object at 0x7fc7a162b748>, <folium.vector_layers.CircleMarker object at 0x7fc7a162b780>, <folium.vector_layers.CircleMarker object at 0x7fc7a162b7b8>, <folium.vector_layers.CircleMarker object at 0x7fc7a162b7f0>, <folium.vector_layers.CircleMarker object at 0x7fc7a162b828>, <folium.vector_layers.CircleMarker object at 0x7fc7a162b860>, <folium.vector_layers.CircleMarker object at 0x7fc7a162b898>, <folium.vector_layers.CircleMarker object at 0x7fc7a162b8d0>, <folium.vector_layers.CircleMarker object at 0x7fc7a162b908>, <folium.vector_layers.CircleMarker object at 0x7fc7a162b940>, <folium.vector_layers.CircleMarker object at 0x7fc7a162b978>, <folium.vector_layers.CircleMarker object at 0x7fc7a162b9b0>, <folium.vector_layers.CircleMarker object at 0x7fc7a162b9e8>, <folium.vector_layers.CircleMarker object at 0x7fc7a162ba20>, <folium.vector_layers.CircleMarker object at 0x7fc7a162ba58>, <folium.vector_layers.CircleMarker object at 0x7fc7a162ba90>, <folium.vector_layers.CircleMarker object at 0x7fc7a162bac8>, <folium.vector_layers.CircleMarker object at 0x7fc7a162bb00>, <folium.vector_layers.CircleMarker object at 0x7fc7a162bb38>, <folium.vector_layers.CircleMarker object at 0x7fc7a162bb70>, <folium.vector_layers.CircleMarker object at 0x7fc7a162bba8>, <folium.vector_layers.CircleMarker object at 0x7fc7a162bbe0>, <folium.vector_layers.CircleMarker object at 0x7fc7a162bc18>, <folium.vector_layers.CircleMarker object at 0x7fc7a162bc50>, <folium.vector_layers.CircleMarker object at 0x7fc7a162bc88>, <folium.vector_layers.CircleMarker object at 0x7fc7a162bcc0>, <folium.vector_layers.CircleMarker object at 0x7fc7a162bcf8>, <folium.vector_layers.CircleMarker object at 0x7fc7a162bd30>, <folium.vector_layers.CircleMarker object at 0x7fc7a162bd68>, <folium.vector_layers.CircleMarker object at 0x7fc7a162bda0>, <folium.vector_layers.CircleMarker object at 0x7fc7a162bdd8>, <folium.vector_layers.CircleMarker object at 0x7fc7a162be10>, <folium.vector_layers.CircleMarker object at 0x7fc7a162be48>, <folium.vector_layers.CircleMarker object at 0x7fc7a162be80>, <folium.vector_layers.CircleMarker object at 0x7fc7a162beb8>, <folium.vector_layers.CircleMarker object at 0x7fc7a162bef0>, <folium.vector_layers.CircleMarker object at 0x7fc7a162bf28>, <folium.vector_layers.CircleMarker object at 0x7fc7a162bf60>, <folium.vector_layers.CircleMarker object at 0x7fc7a162bf98>, <folium.vector_layers.CircleMarker object at 0x7fc7a162bfd0>, <folium.vector_layers.CircleMarker object at 0x7fc7a162b080>, <folium.vector_layers.CircleMarker object at 0x7fc7a1639048>, <folium.vector_layers.CircleMarker object at 0x7fc7a16390b8>, <folium.vector_layers.CircleMarker object at 0x7fc7a16390f0>, <folium.vector_layers.CircleMarker object at 0x7fc7a1639128>, <folium.vector_layers.CircleMarker object at 0x7fc7a1639160>, <folium.vector_layers.CircleMarker object at 0x7fc7a1639198>, <folium.vector_layers.CircleMarker object at 0x7fc7a16391d0>, <folium.vector_layers.CircleMarker object at 0x7fc7a1639208>, <folium.vector_layers.CircleMarker object at 0x7fc7a1639240>, <folium.vector_layers.CircleMarker object at 0x7fc7a1639278>, <folium.vector_layers.CircleMarker object at 0x7fc7a16392b0>, <folium.vector_layers.CircleMarker object at 0x7fc7a16392e8>, <folium.vector_layers.CircleMarker object at 0x7fc7a1639320>, <folium.vector_layers.CircleMarker object at 0x7fc7a1639358>, <folium.vector_layers.CircleMarker object at 0x7fc7a1639390>, <folium.vector_layers.CircleMarker object at 0x7fc7a16393c8>, <folium.vector_layers.CircleMarker object at 0x7fc7a1639400>, <folium.vector_layers.CircleMarker object at 0x7fc7a1639438>, <folium.vector_layers.CircleMarker object at 0x7fc7a1639470>, <folium.vector_layers.CircleMarker object at 0x7fc7a16394a8>, <folium.vector_layers.CircleMarker object at 0x7fc7a16394e0>, <folium.vector_layers.CircleMarker object at 0x7fc7a1639518>, <folium.vector_layers.CircleMarker object at 0x7fc7a1639550>, <folium.vector_layers.CircleMarker object at 0x7fc7a1639588>].",
     "output_type": "error",
     "traceback": [
      "\u001b[0;31m\u001b[0m",
      "\u001b[0;31mValueError\u001b[0mTraceback (most recent call last)",
      "\u001b[0;32m<ipython-input-80-cc1a912a8e96>\u001b[0m in \u001b[0;36m<module>\u001b[0;34m\u001b[0m\n\u001b[0;32m----> 1\u001b[0;31m \u001b[0mmap_with_markers\u001b[0m \u001b[0;34m=\u001b[0m \u001b[0madd_markers\u001b[0m\u001b[0;34m(\u001b[0m\u001b[0mtrip_markers\u001b[0m\u001b[0;34m,\u001b[0m \u001b[0mmanhattan_map\u001b[0m\u001b[0;34m)\u001b[0m\u001b[0;34m\u001b[0m\u001b[0;34m\u001b[0m\u001b[0m\n\u001b[0m",
      "\u001b[0;32m<ipython-input-79-1734348cb3d7>\u001b[0m in \u001b[0;36madd_markers\u001b[0;34m(markers, map_obj)\u001b[0m\n\u001b[1;32m      1\u001b[0m \u001b[0;32mdef\u001b[0m \u001b[0madd_markers\u001b[0m\u001b[0;34m(\u001b[0m\u001b[0mmarkers\u001b[0m\u001b[0;34m,\u001b[0m \u001b[0mmap_obj\u001b[0m\u001b[0;34m)\u001b[0m\u001b[0;34m:\u001b[0m\u001b[0;34m\u001b[0m\u001b[0;34m\u001b[0m\u001b[0m\n\u001b[0;32m----> 2\u001b[0;31m     \u001b[0;32mreturn\u001b[0m \u001b[0mfolium\u001b[0m\u001b[0;34m.\u001b[0m\u001b[0mCircleMarker\u001b[0m\u001b[0;34m(\u001b[0m\u001b[0mtrip_markers\u001b[0m\u001b[0;34m,\u001b[0m \u001b[0mradius\u001b[0m \u001b[0;34m=\u001b[0m \u001b[0;36m6\u001b[0m\u001b[0;34m)\u001b[0m\u001b[0;34m\u001b[0m\u001b[0;34m\u001b[0m\u001b[0m\n\u001b[0m\u001b[1;32m      3\u001b[0m \u001b[0;34m\u001b[0m\u001b[0m\n",
      "\u001b[0;32m/opt/conda/envs/learn-env/lib/python3.6/site-packages/folium/vector_layers.py\u001b[0m in \u001b[0;36m__init__\u001b[0;34m(self, location, radius, popup, tooltip, **kwargs)\u001b[0m\n\u001b[1;32m    303\u001b[0m     \u001b[0;32mdef\u001b[0m \u001b[0m__init__\u001b[0m\u001b[0;34m(\u001b[0m\u001b[0mself\u001b[0m\u001b[0;34m,\u001b[0m \u001b[0mlocation\u001b[0m\u001b[0;34m,\u001b[0m \u001b[0mradius\u001b[0m\u001b[0;34m=\u001b[0m\u001b[0;36m10\u001b[0m\u001b[0;34m,\u001b[0m \u001b[0mpopup\u001b[0m\u001b[0;34m=\u001b[0m\u001b[0;32mNone\u001b[0m\u001b[0;34m,\u001b[0m \u001b[0mtooltip\u001b[0m\u001b[0;34m=\u001b[0m\u001b[0;32mNone\u001b[0m\u001b[0;34m,\u001b[0m \u001b[0;34m**\u001b[0m\u001b[0mkwargs\u001b[0m\u001b[0;34m)\u001b[0m\u001b[0;34m:\u001b[0m\u001b[0;34m\u001b[0m\u001b[0;34m\u001b[0m\u001b[0m\n\u001b[1;32m    304\u001b[0m         super(CircleMarker, self).__init__(location, popup=popup,\n\u001b[0;32m--> 305\u001b[0;31m                                            tooltip=tooltip)\n\u001b[0m\u001b[1;32m    306\u001b[0m         \u001b[0mself\u001b[0m\u001b[0;34m.\u001b[0m\u001b[0m_name\u001b[0m \u001b[0;34m=\u001b[0m \u001b[0;34m'CircleMarker'\u001b[0m\u001b[0;34m\u001b[0m\u001b[0;34m\u001b[0m\u001b[0m\n\u001b[1;32m    307\u001b[0m         \u001b[0mself\u001b[0m\u001b[0;34m.\u001b[0m\u001b[0moptions\u001b[0m \u001b[0;34m=\u001b[0m \u001b[0mpath_options\u001b[0m\u001b[0;34m(\u001b[0m\u001b[0mline\u001b[0m\u001b[0;34m=\u001b[0m\u001b[0;32mFalse\u001b[0m\u001b[0;34m,\u001b[0m \u001b[0mradius\u001b[0m\u001b[0;34m=\u001b[0m\u001b[0mradius\u001b[0m\u001b[0;34m,\u001b[0m \u001b[0;34m**\u001b[0m\u001b[0mkwargs\u001b[0m\u001b[0;34m)\u001b[0m\u001b[0;34m\u001b[0m\u001b[0;34m\u001b[0m\u001b[0m\n",
      "\u001b[0;32m/opt/conda/envs/learn-env/lib/python3.6/site-packages/folium/map.py\u001b[0m in \u001b[0;36m__init__\u001b[0;34m(self, location, popup, tooltip, icon, draggable, **kwargs)\u001b[0m\n\u001b[1;32m    275\u001b[0m         \u001b[0msuper\u001b[0m\u001b[0;34m(\u001b[0m\u001b[0mMarker\u001b[0m\u001b[0;34m,\u001b[0m \u001b[0mself\u001b[0m\u001b[0;34m)\u001b[0m\u001b[0;34m.\u001b[0m\u001b[0m__init__\u001b[0m\u001b[0;34m(\u001b[0m\u001b[0;34m)\u001b[0m\u001b[0;34m\u001b[0m\u001b[0;34m\u001b[0m\u001b[0m\n\u001b[1;32m    276\u001b[0m         \u001b[0mself\u001b[0m\u001b[0;34m.\u001b[0m\u001b[0m_name\u001b[0m \u001b[0;34m=\u001b[0m \u001b[0;34m'Marker'\u001b[0m\u001b[0;34m\u001b[0m\u001b[0;34m\u001b[0m\u001b[0m\n\u001b[0;32m--> 277\u001b[0;31m         \u001b[0mself\u001b[0m\u001b[0;34m.\u001b[0m\u001b[0mlocation\u001b[0m \u001b[0;34m=\u001b[0m \u001b[0mvalidate_location\u001b[0m\u001b[0;34m(\u001b[0m\u001b[0mlocation\u001b[0m\u001b[0;34m)\u001b[0m\u001b[0;34m\u001b[0m\u001b[0;34m\u001b[0m\u001b[0m\n\u001b[0m\u001b[1;32m    278\u001b[0m         self.options = parse_options(\n\u001b[1;32m    279\u001b[0m             \u001b[0mdraggable\u001b[0m\u001b[0;34m=\u001b[0m\u001b[0mdraggable\u001b[0m \u001b[0;32mor\u001b[0m \u001b[0;32mNone\u001b[0m\u001b[0;34m,\u001b[0m\u001b[0;34m\u001b[0m\u001b[0;34m\u001b[0m\u001b[0m\n",
      "\u001b[0;32m/opt/conda/envs/learn-env/lib/python3.6/site-packages/folium/utilities.py\u001b[0m in \u001b[0;36mvalidate_location\u001b[0;34m(location)\u001b[0m\n\u001b[1;32m     48\u001b[0m     \u001b[0;32mif\u001b[0m \u001b[0mlen\u001b[0m\u001b[0;34m(\u001b[0m\u001b[0mlocation\u001b[0m\u001b[0;34m)\u001b[0m \u001b[0;34m!=\u001b[0m \u001b[0;36m2\u001b[0m\u001b[0;34m:\u001b[0m\u001b[0;34m\u001b[0m\u001b[0;34m\u001b[0m\u001b[0m\n\u001b[1;32m     49\u001b[0m         raise ValueError('Expected two (lat, lon) values for location, '\n\u001b[0;32m---> 50\u001b[0;31m                          'instead got: {!r}.'.format(location))\n\u001b[0m\u001b[1;32m     51\u001b[0m     \u001b[0;32mtry\u001b[0m\u001b[0;34m:\u001b[0m\u001b[0;34m\u001b[0m\u001b[0;34m\u001b[0m\u001b[0m\n\u001b[1;32m     52\u001b[0m         \u001b[0mcoords\u001b[0m \u001b[0;34m=\u001b[0m \u001b[0;34m(\u001b[0m\u001b[0mlocation\u001b[0m\u001b[0;34m[\u001b[0m\u001b[0;36m0\u001b[0m\u001b[0;34m]\u001b[0m\u001b[0;34m,\u001b[0m \u001b[0mlocation\u001b[0m\u001b[0;34m[\u001b[0m\u001b[0;36m1\u001b[0m\u001b[0;34m]\u001b[0m\u001b[0;34m)\u001b[0m\u001b[0;34m\u001b[0m\u001b[0;34m\u001b[0m\u001b[0m\n",
      "\u001b[0;31mValueError\u001b[0m: Expected two (lat, lon) values for location, instead got: [<folium.vector_layers.CircleMarker object at 0x7fc7a16fa9b0>, <folium.vector_layers.CircleMarker object at 0x7fc7a16fa9e8>, <folium.vector_layers.CircleMarker object at 0x7fc7a16faa90>, <folium.vector_layers.CircleMarker object at 0x7fc7a16faac8>, <folium.vector_layers.CircleMarker object at 0x7fc7a16faba8>, <folium.vector_layers.CircleMarker object at 0x7fc7a16fab38>, <folium.vector_layers.CircleMarker object at 0x7fc7a16fab00>, <folium.vector_layers.CircleMarker object at 0x7fc7a16fa8d0>, <folium.vector_layers.CircleMarker object at 0x7fc7a16fa6a0>, <folium.vector_layers.CircleMarker object at 0x7fc7a16faa20>, <folium.vector_layers.CircleMarker object at 0x7fc7a16fa978>, <folium.vector_layers.CircleMarker object at 0x7fc7a16fa710>, <folium.vector_layers.CircleMarker object at 0x7fc7a16fab70>, <folium.vector_layers.CircleMarker object at 0x7fc7a16fa860>, <folium.vector_layers.CircleMarker object at 0x7fc7a16fa828>, <folium.vector_layers.CircleMarker object at 0x7fc7a16fa7b8>, <folium.vector_layers.CircleMarker object at 0x7fc7a16fa6d8>, <folium.vector_layers.CircleMarker object at 0x7fc7a16faf28>, <folium.vector_layers.CircleMarker object at 0x7fc7a16faf60>, <folium.vector_layers.CircleMarker object at 0x7fc7a16faf98>, <folium.vector_layers.CircleMarker object at 0x7fc7a16fa898>, <folium.vector_layers.CircleMarker object at 0x7fc7a16fabe0>, <folium.vector_layers.CircleMarker object at 0x7fc7a16fa908>, <folium.vector_layers.CircleMarker object at 0x7fc7a16fa940>, <folium.vector_layers.CircleMarker object at 0x7fc7a16fadd8>, <folium.vector_layers.CircleMarker object at 0x7fc7a16faef0>, <folium.vector_layers.CircleMarker object at 0x7fc7a16facc0>, <folium.vector_layers.CircleMarker object at 0x7fc7a16fafd0>, <folium.vector_layers.CircleMarker object at 0x7fc7a16fae80>, <folium.vector_layers.CircleMarker object at 0x7fc7a16fae48>, <folium.vector_layers.CircleMarker object at 0x7fc7a16fac50>, <folium.vector_layers.CircleMarker object at 0x7fc7a16faeb8>, <folium.vector_layers.CircleMarker object at 0x7fc7a16fae10>, <folium.vector_layers.CircleMarker object at 0x7fc7a16fad68>, <folium.vector_layers.CircleMarker object at 0x7fc7a16fad30>, <folium.vector_layers.CircleMarker object at 0x7fc7a16fac18>, <folium.vector_layers.CircleMarker object at 0x7fc7a16fada0>, <folium.vector_layers.CircleMarker object at 0x7fc7a16facf8>, <folium.vector_layers.CircleMarker object at 0x7fc7a16fac88>, <folium.vector_layers.CircleMarker object at 0x7fc7a16faa58>, <folium.vector_layers.CircleMarker object at 0x7fc7a1706080>, <folium.vector_layers.CircleMarker object at 0x7fc7a17060b8>, <folium.vector_layers.CircleMarker object at 0x7fc7a17060f0>, <folium.vector_layers.CircleMarker object at 0x7fc7a1706128>, <folium.vector_layers.CircleMarker object at 0x7fc7a1706160>, <folium.vector_layers.CircleMarker object at 0x7fc7a1706198>, <folium.vector_layers.CircleMarker object at 0x7fc7a17061d0>, <folium.vector_layers.CircleMarker object at 0x7fc7a1706208>, <folium.vector_layers.CircleMarker object at 0x7fc7a1706240>, <folium.vector_layers.CircleMarker object at 0x7fc7a1706278>, <folium.vector_layers.CircleMarker object at 0x7fc7a17062b0>, <folium.vector_layers.CircleMarker object at 0x7fc7a17062e8>, <folium.vector_layers.CircleMarker object at 0x7fc7a1706320>, <folium.vector_layers.CircleMarker object at 0x7fc7a1706358>, <folium.vector_layers.CircleMarker object at 0x7fc7a1706390>, <folium.vector_layers.CircleMarker object at 0x7fc7a17063c8>, <folium.vector_layers.CircleMarker object at 0x7fc7a1706400>, <folium.vector_layers.CircleMarker object at 0x7fc7a1706438>, <folium.vector_layers.CircleMarker object at 0x7fc7a1706470>, <folium.vector_layers.CircleMarker object at 0x7fc7a17064a8>, <folium.vector_layers.CircleMarker object at 0x7fc7a17064e0>, <folium.vector_layers.CircleMarker object at 0x7fc7a1706518>, <folium.vector_layers.CircleMarker object at 0x7fc7a1706550>, <folium.vector_layers.CircleMarker object at 0x7fc7a1706588>, <folium.vector_layers.CircleMarker object at 0x7fc7a17065c0>, <folium.vector_layers.CircleMarker object at 0x7fc7a17065f8>, <folium.vector_layers.CircleMarker object at 0x7fc7a1706630>, <folium.vector_layers.CircleMarker object at 0x7fc7a1706668>, <folium.vector_layers.CircleMarker object at 0x7fc7a17066a0>, <folium.vector_layers.CircleMarker object at 0x7fc7a17066d8>, <folium.vector_layers.CircleMarker object at 0x7fc7a1706710>, <folium.vector_layers.CircleMarker object at 0x7fc7a1706748>, <folium.vector_layers.CircleMarker object at 0x7fc7a1706780>, <folium.vector_layers.CircleMarker object at 0x7fc7a17067b8>, <folium.vector_layers.CircleMarker object at 0x7fc7a17067f0>, <folium.vector_layers.CircleMarker object at 0x7fc7a1706828>, <folium.vector_layers.CircleMarker object at 0x7fc7a1706860>, <folium.vector_layers.CircleMarker object at 0x7fc7a1706898>, <folium.vector_layers.CircleMarker object at 0x7fc7a17068d0>, <folium.vector_layers.CircleMarker object at 0x7fc7a1706908>, <folium.vector_layers.CircleMarker object at 0x7fc7a1706940>, <folium.vector_layers.CircleMarker object at 0x7fc7a1706978>, <folium.vector_layers.CircleMarker object at 0x7fc7a17069b0>, <folium.vector_layers.CircleMarker object at 0x7fc7a17069e8>, <folium.vector_layers.CircleMarker object at 0x7fc7a1706a20>, <folium.vector_layers.CircleMarker object at 0x7fc7a1706a58>, <folium.vector_layers.CircleMarker object at 0x7fc7a1706a90>, <folium.vector_layers.CircleMarker object at 0x7fc7a1706ac8>, <folium.vector_layers.CircleMarker object at 0x7fc7a1706b00>, <folium.vector_layers.CircleMarker object at 0x7fc7a1706b38>, <folium.vector_layers.CircleMarker object at 0x7fc7a1706b70>, <folium.vector_layers.CircleMarker object at 0x7fc7a1706ba8>, <folium.vector_layers.CircleMarker object at 0x7fc7a1706be0>, <folium.vector_layers.CircleMarker object at 0x7fc7a1706c18>, <folium.vector_layers.CircleMarker object at 0x7fc7a1706c50>, <folium.vector_layers.CircleMarker object at 0x7fc7a1706c88>, <folium.vector_layers.CircleMarker object at 0x7fc7a1706cc0>, <folium.vector_layers.CircleMarker object at 0x7fc7a1706cf8>, <folium.vector_layers.CircleMarker object at 0x7fc7a1706d30>, <folium.vector_layers.CircleMarker object at 0x7fc7a1706d68>, <folium.vector_layers.CircleMarker object at 0x7fc7a1706da0>, <folium.vector_layers.CircleMarker object at 0x7fc7a1706dd8>, <folium.vector_layers.CircleMarker object at 0x7fc7a1706e10>, <folium.vector_layers.CircleMarker object at 0x7fc7a1706e48>, <folium.vector_layers.CircleMarker object at 0x7fc7a1706e80>, <folium.vector_layers.CircleMarker object at 0x7fc7a1706eb8>, <folium.vector_layers.CircleMarker object at 0x7fc7a1706ef0>, <folium.vector_layers.CircleMarker object at 0x7fc7a1706f28>, <folium.vector_layers.CircleMarker object at 0x7fc7a1706f60>, <folium.vector_layers.CircleMarker object at 0x7fc7a1706f98>, <folium.vector_layers.CircleMarker object at 0x7fc7a1706fd0>, <folium.vector_layers.CircleMarker object at 0x7fc7a1706048>, <folium.vector_layers.CircleMarker object at 0x7fc7a1714048>, <folium.vector_layers.CircleMarker object at 0x7fc7a17140b8>, <folium.vector_layers.CircleMarker object at 0x7fc7a17140f0>, <folium.vector_layers.CircleMarker object at 0x7fc7a1714128>, <folium.vector_layers.CircleMarker object at 0x7fc7a1714160>, <folium.vector_layers.CircleMarker object at 0x7fc7a1714198>, <folium.vector_layers.CircleMarker object at 0x7fc7a17141d0>, <folium.vector_layers.CircleMarker object at 0x7fc7a1714208>, <folium.vector_layers.CircleMarker object at 0x7fc7a1714240>, <folium.vector_layers.CircleMarker object at 0x7fc7a1714278>, <folium.vector_layers.CircleMarker object at 0x7fc7a17142b0>, <folium.vector_layers.CircleMarker object at 0x7fc7a17142e8>, <folium.vector_layers.CircleMarker object at 0x7fc7a1714320>, <folium.vector_layers.CircleMarker object at 0x7fc7a1714358>, <folium.vector_layers.CircleMarker object at 0x7fc7a1714390>, <folium.vector_layers.CircleMarker object at 0x7fc7a17143c8>, <folium.vector_layers.CircleMarker object at 0x7fc7a1714400>, <folium.vector_layers.CircleMarker object at 0x7fc7a1714438>, <folium.vector_layers.CircleMarker object at 0x7fc7a1714470>, <folium.vector_layers.CircleMarker object at 0x7fc7a17144a8>, <folium.vector_layers.CircleMarker object at 0x7fc7a17144e0>, <folium.vector_layers.CircleMarker object at 0x7fc7a1714518>, <folium.vector_layers.CircleMarker object at 0x7fc7a1714550>, <folium.vector_layers.CircleMarker object at 0x7fc7a1714588>, <folium.vector_layers.CircleMarker object at 0x7fc7a17145c0>, <folium.vector_layers.CircleMarker object at 0x7fc7a17145f8>, <folium.vector_layers.CircleMarker object at 0x7fc7a1714630>, <folium.vector_layers.CircleMarker object at 0x7fc7a1714668>, <folium.vector_layers.CircleMarker object at 0x7fc7a17146a0>, <folium.vector_layers.CircleMarker object at 0x7fc7a17146d8>, <folium.vector_layers.CircleMarker object at 0x7fc7a1714710>, <folium.vector_layers.CircleMarker object at 0x7fc7a1714748>, <folium.vector_layers.CircleMarker object at 0x7fc7a1714780>, <folium.vector_layers.CircleMarker object at 0x7fc7a17147b8>, <folium.vector_layers.CircleMarker object at 0x7fc7a17147f0>, <folium.vector_layers.CircleMarker object at 0x7fc7a1714828>, <folium.vector_layers.CircleMarker object at 0x7fc7a1714860>, <folium.vector_layers.CircleMarker object at 0x7fc7a1714898>, <folium.vector_layers.CircleMarker object at 0x7fc7a17148d0>, <folium.vector_layers.CircleMarker object at 0x7fc7a1714908>, <folium.vector_layers.CircleMarker object at 0x7fc7a1714940>, <folium.vector_layers.CircleMarker object at 0x7fc7a1714978>, <folium.vector_layers.CircleMarker object at 0x7fc7a17149b0>, <folium.vector_layers.CircleMarker object at 0x7fc7a17149e8>, <folium.vector_layers.CircleMarker object at 0x7fc7a1714a20>, <folium.vector_layers.CircleMarker object at 0x7fc7a1714a58>, <folium.vector_layers.CircleMarker object at 0x7fc7a1714a90>, <folium.vector_layers.CircleMarker object at 0x7fc7a1714ac8>, <folium.vector_layers.CircleMarker object at 0x7fc7a1714b00>, <folium.vector_layers.CircleMarker object at 0x7fc7a1714b38>, <folium.vector_layers.CircleMarker object at 0x7fc7a1714b70>, <folium.vector_layers.CircleMarker object at 0x7fc7a1714ba8>, <folium.vector_layers.CircleMarker object at 0x7fc7a1714be0>, <folium.vector_layers.CircleMarker object at 0x7fc7a1714c18>, <folium.vector_layers.CircleMarker object at 0x7fc7a1714c50>, <folium.vector_layers.CircleMarker object at 0x7fc7a1714c88>, <folium.vector_layers.CircleMarker object at 0x7fc7a1714cc0>, <folium.vector_layers.CircleMarker object at 0x7fc7a1714cf8>, <folium.vector_layers.CircleMarker object at 0x7fc7a1714d30>, <folium.vector_layers.CircleMarker object at 0x7fc7a1714d68>, <folium.vector_layers.CircleMarker object at 0x7fc7a1714da0>, <folium.vector_layers.CircleMarker object at 0x7fc7a1714dd8>, <folium.vector_layers.CircleMarker object at 0x7fc7a1714e10>, <folium.vector_layers.CircleMarker object at 0x7fc7a1714e48>, <folium.vector_layers.CircleMarker object at 0x7fc7a1714e80>, <folium.vector_layers.CircleMarker object at 0x7fc7a1714eb8>, <folium.vector_layers.CircleMarker object at 0x7fc7a1714ef0>, <folium.vector_layers.CircleMarker object at 0x7fc7a1714f28>, <folium.vector_layers.CircleMarker object at 0x7fc7a1714f60>, <folium.vector_layers.CircleMarker object at 0x7fc7a1714f98>, <folium.vector_layers.CircleMarker object at 0x7fc7a1714fd0>, <folium.vector_layers.CircleMarker object at 0x7fc7a1714080>, <folium.vector_layers.CircleMarker object at 0x7fc7a1721080>, <folium.vector_layers.CircleMarker object at 0x7fc7a17210b8>, <folium.vector_layers.CircleMarker object at 0x7fc7a17210f0>, <folium.vector_layers.CircleMarker object at 0x7fc7a1721128>, <folium.vector_layers.CircleMarker object at 0x7fc7a1721160>, <folium.vector_layers.CircleMarker object at 0x7fc7a1721198>, <folium.vector_layers.CircleMarker object at 0x7fc7a17211d0>, <folium.vector_layers.CircleMarker object at 0x7fc7a1721208>, <folium.vector_layers.CircleMarker object at 0x7fc7a1721240>, <folium.vector_layers.CircleMarker object at 0x7fc7a1721278>, <folium.vector_layers.CircleMarker object at 0x7fc7a17212b0>, <folium.vector_layers.CircleMarker object at 0x7fc7a17212e8>, <folium.vector_layers.CircleMarker object at 0x7fc7a1721320>, <folium.vector_layers.CircleMarker object at 0x7fc7a1721358>, <folium.vector_layers.CircleMarker object at 0x7fc7a1721390>, <folium.vector_layers.CircleMarker object at 0x7fc7a17213c8>, <folium.vector_layers.CircleMarker object at 0x7fc7a1721400>, <folium.vector_layers.CircleMarker object at 0x7fc7a1721438>, <folium.vector_layers.CircleMarker object at 0x7fc7a1721470>, <folium.vector_layers.CircleMarker object at 0x7fc7a17214a8>, <folium.vector_layers.CircleMarker object at 0x7fc7a17214e0>, <folium.vector_layers.CircleMarker object at 0x7fc7a1721518>, <folium.vector_layers.CircleMarker object at 0x7fc7a1721550>, <folium.vector_layers.CircleMarker object at 0x7fc7a1721588>, <folium.vector_layers.CircleMarker object at 0x7fc7a17215c0>, <folium.vector_layers.CircleMarker object at 0x7fc7a17215f8>, <folium.vector_layers.CircleMarker object at 0x7fc7a1721630>, <folium.vector_layers.CircleMarker object at 0x7fc7a1721668>, <folium.vector_layers.CircleMarker object at 0x7fc7a17216a0>, <folium.vector_layers.CircleMarker object at 0x7fc7a17216d8>, <folium.vector_layers.CircleMarker object at 0x7fc7a1721710>, <folium.vector_layers.CircleMarker object at 0x7fc7a1721748>, <folium.vector_layers.CircleMarker object at 0x7fc7a1721780>, <folium.vector_layers.CircleMarker object at 0x7fc7a17217b8>, <folium.vector_layers.CircleMarker object at 0x7fc7a17217f0>, <folium.vector_layers.CircleMarker object at 0x7fc7a1721828>, <folium.vector_layers.CircleMarker object at 0x7fc7a1721860>, <folium.vector_layers.CircleMarker object at 0x7fc7a1721898>, <folium.vector_layers.CircleMarker object at 0x7fc7a17218d0>, <folium.vector_layers.CircleMarker object at 0x7fc7a1721908>, <folium.vector_layers.CircleMarker object at 0x7fc7a1721940>, <folium.vector_layers.CircleMarker object at 0x7fc7a1721978>, <folium.vector_layers.CircleMarker object at 0x7fc7a17219b0>, <folium.vector_layers.CircleMarker object at 0x7fc7a17219e8>, <folium.vector_layers.CircleMarker object at 0x7fc7a1721a20>, <folium.vector_layers.CircleMarker object at 0x7fc7a1721a58>, <folium.vector_layers.CircleMarker object at 0x7fc7a1721a90>, <folium.vector_layers.CircleMarker object at 0x7fc7a1721ac8>, <folium.vector_layers.CircleMarker object at 0x7fc7a1721b00>, <folium.vector_layers.CircleMarker object at 0x7fc7a1721b38>, <folium.vector_layers.CircleMarker object at 0x7fc7a1721b70>, <folium.vector_layers.CircleMarker object at 0x7fc7a1721ba8>, <folium.vector_layers.CircleMarker object at 0x7fc7a1721be0>, <folium.vector_layers.CircleMarker object at 0x7fc7a1721c18>, <folium.vector_layers.CircleMarker object at 0x7fc7a1721c50>, <folium.vector_layers.CircleMarker object at 0x7fc7a1721c88>, <folium.vector_layers.CircleMarker object at 0x7fc7a1721cc0>, <folium.vector_layers.CircleMarker object at 0x7fc7a1721cf8>, <folium.vector_layers.CircleMarker object at 0x7fc7a1721d30>, <folium.vector_layers.CircleMarker object at 0x7fc7a1721d68>, <folium.vector_layers.CircleMarker object at 0x7fc7a1721da0>, <folium.vector_layers.CircleMarker object at 0x7fc7a1721dd8>, <folium.vector_layers.CircleMarker object at 0x7fc7a1721e10>, <folium.vector_layers.CircleMarker object at 0x7fc7a1721e48>, <folium.vector_layers.CircleMarker object at 0x7fc7a1721e80>, <folium.vector_layers.CircleMarker object at 0x7fc7a1721eb8>, <folium.vector_layers.CircleMarker object at 0x7fc7a1721ef0>, <folium.vector_layers.CircleMarker object at 0x7fc7a1721f28>, <folium.vector_layers.CircleMarker object at 0x7fc7a1721f60>, <folium.vector_layers.CircleMarker object at 0x7fc7a1721f98>, <folium.vector_layers.CircleMarker object at 0x7fc7a1721fd0>, <folium.vector_layers.CircleMarker object at 0x7fc7a1721048>, <folium.vector_layers.CircleMarker object at 0x7fc7a16af080>, <folium.vector_layers.CircleMarker object at 0x7fc7a16af0b8>, <folium.vector_layers.CircleMarker object at 0x7fc7a16af0f0>, <folium.vector_layers.CircleMarker object at 0x7fc7a16af128>, <folium.vector_layers.CircleMarker object at 0x7fc7a16af160>, <folium.vector_layers.CircleMarker object at 0x7fc7a16af198>, <folium.vector_layers.CircleMarker object at 0x7fc7a16af1d0>, <folium.vector_layers.CircleMarker object at 0x7fc7a16af208>, <folium.vector_layers.CircleMarker object at 0x7fc7a16af240>, <folium.vector_layers.CircleMarker object at 0x7fc7a16af278>, <folium.vector_layers.CircleMarker object at 0x7fc7a16af2b0>, <folium.vector_layers.CircleMarker object at 0x7fc7a16af2e8>, <folium.vector_layers.CircleMarker object at 0x7fc7a16af320>, <folium.vector_layers.CircleMarker object at 0x7fc7a16af358>, <folium.vector_layers.CircleMarker object at 0x7fc7a16af390>, <folium.vector_layers.CircleMarker object at 0x7fc7a16af3c8>, <folium.vector_layers.CircleMarker object at 0x7fc7a16af400>, <folium.vector_layers.CircleMarker object at 0x7fc7a16af438>, <folium.vector_layers.CircleMarker object at 0x7fc7a16af470>, <folium.vector_layers.CircleMarker object at 0x7fc7a16af4a8>, <folium.vector_layers.CircleMarker object at 0x7fc7a16af4e0>, <folium.vector_layers.CircleMarker object at 0x7fc7a16af518>, <folium.vector_layers.CircleMarker object at 0x7fc7a16af550>, <folium.vector_layers.CircleMarker object at 0x7fc7a16af588>, <folium.vector_layers.CircleMarker object at 0x7fc7a16af5c0>, <folium.vector_layers.CircleMarker object at 0x7fc7a16af5f8>, <folium.vector_layers.CircleMarker object at 0x7fc7a16af630>, <folium.vector_layers.CircleMarker object at 0x7fc7a16af668>, <folium.vector_layers.CircleMarker object at 0x7fc7a16af6a0>, <folium.vector_layers.CircleMarker object at 0x7fc7a16af6d8>, <folium.vector_layers.CircleMarker object at 0x7fc7a16af710>, <folium.vector_layers.CircleMarker object at 0x7fc7a16af748>, <folium.vector_layers.CircleMarker object at 0x7fc7a16af780>, <folium.vector_layers.CircleMarker object at 0x7fc7a16af7b8>, <folium.vector_layers.CircleMarker object at 0x7fc7a16af7f0>, <folium.vector_layers.CircleMarker object at 0x7fc7a16af828>, <folium.vector_layers.CircleMarker object at 0x7fc7a16af860>, <folium.vector_layers.CircleMarker object at 0x7fc7a16af898>, <folium.vector_layers.CircleMarker object at 0x7fc7a16af8d0>, <folium.vector_layers.CircleMarker object at 0x7fc7a16af908>, <folium.vector_layers.CircleMarker object at 0x7fc7a16af940>, <folium.vector_layers.CircleMarker object at 0x7fc7a16af978>, <folium.vector_layers.CircleMarker object at 0x7fc7a16af9b0>, <folium.vector_layers.CircleMarker object at 0x7fc7a16af9e8>, <folium.vector_layers.CircleMarker object at 0x7fc7a16afa20>, <folium.vector_layers.CircleMarker object at 0x7fc7a16afa58>, <folium.vector_layers.CircleMarker object at 0x7fc7a16afa90>, <folium.vector_layers.CircleMarker object at 0x7fc7a16afac8>, <folium.vector_layers.CircleMarker object at 0x7fc7a16afb00>, <folium.vector_layers.CircleMarker object at 0x7fc7a16afb38>, <folium.vector_layers.CircleMarker object at 0x7fc7a16afb70>, <folium.vector_layers.CircleMarker object at 0x7fc7a16afba8>, <folium.vector_layers.CircleMarker object at 0x7fc7a16afbe0>, <folium.vector_layers.CircleMarker object at 0x7fc7a16afc18>, <folium.vector_layers.CircleMarker object at 0x7fc7a16afc50>, <folium.vector_layers.CircleMarker object at 0x7fc7a16afc88>, <folium.vector_layers.CircleMarker object at 0x7fc7a16afcc0>, <folium.vector_layers.CircleMarker object at 0x7fc7a16afcf8>, <folium.vector_layers.CircleMarker object at 0x7fc7a16afd30>, <folium.vector_layers.CircleMarker object at 0x7fc7a16afd68>, <folium.vector_layers.CircleMarker object at 0x7fc7a16afda0>, <folium.vector_layers.CircleMarker object at 0x7fc7a16afdd8>, <folium.vector_layers.CircleMarker object at 0x7fc7a16afe10>, <folium.vector_layers.CircleMarker object at 0x7fc7a16afe48>, <folium.vector_layers.CircleMarker object at 0x7fc7a16afe80>, <folium.vector_layers.CircleMarker object at 0x7fc7a16afeb8>, <folium.vector_layers.CircleMarker object at 0x7fc7a16afef0>, <folium.vector_layers.CircleMarker object at 0x7fc7a16aff28>, <folium.vector_layers.CircleMarker object at 0x7fc7a16aff60>, <folium.vector_layers.CircleMarker object at 0x7fc7a16aff98>, <folium.vector_layers.CircleMarker object at 0x7fc7a16affd0>, <folium.vector_layers.CircleMarker object at 0x7fc7a16af048>, <folium.vector_layers.CircleMarker object at 0x7fc7a16be080>, <folium.vector_layers.CircleMarker object at 0x7fc7a16be0b8>, <folium.vector_layers.CircleMarker object at 0x7fc7a16be0f0>, <folium.vector_layers.CircleMarker object at 0x7fc7a16be128>, <folium.vector_layers.CircleMarker object at 0x7fc7a16be160>, <folium.vector_layers.CircleMarker object at 0x7fc7a16be198>, <folium.vector_layers.CircleMarker object at 0x7fc7a16be1d0>, <folium.vector_layers.CircleMarker object at 0x7fc7a16be208>, <folium.vector_layers.CircleMarker object at 0x7fc7a16be240>, <folium.vector_layers.CircleMarker object at 0x7fc7a16be278>, <folium.vector_layers.CircleMarker object at 0x7fc7a16be2b0>, <folium.vector_layers.CircleMarker object at 0x7fc7a16be2e8>, <folium.vector_layers.CircleMarker object at 0x7fc7a16be320>, <folium.vector_layers.CircleMarker object at 0x7fc7a16be358>, <folium.vector_layers.CircleMarker object at 0x7fc7a16be390>, <folium.vector_layers.CircleMarker object at 0x7fc7a16be3c8>, <folium.vector_layers.CircleMarker object at 0x7fc7a16be400>, <folium.vector_layers.CircleMarker object at 0x7fc7a16be438>, <folium.vector_layers.CircleMarker object at 0x7fc7a16be470>, <folium.vector_layers.CircleMarker object at 0x7fc7a16be4a8>, <folium.vector_layers.CircleMarker object at 0x7fc7a16be4e0>, <folium.vector_layers.CircleMarker object at 0x7fc7a16be518>, <folium.vector_layers.CircleMarker object at 0x7fc7a16be550>, <folium.vector_layers.CircleMarker object at 0x7fc7a16be588>, <folium.vector_layers.CircleMarker object at 0x7fc7a16be5c0>, <folium.vector_layers.CircleMarker object at 0x7fc7a16be5f8>, <folium.vector_layers.CircleMarker object at 0x7fc7a16be630>, <folium.vector_layers.CircleMarker object at 0x7fc7a16be668>, <folium.vector_layers.CircleMarker object at 0x7fc7a16be6a0>, <folium.vector_layers.CircleMarker object at 0x7fc7a16be6d8>, <folium.vector_layers.CircleMarker object at 0x7fc7a16be710>, <folium.vector_layers.CircleMarker object at 0x7fc7a16be748>, <folium.vector_layers.CircleMarker object at 0x7fc7a16be780>, <folium.vector_layers.CircleMarker object at 0x7fc7a16be7b8>, <folium.vector_layers.CircleMarker object at 0x7fc7a16be7f0>, <folium.vector_layers.CircleMarker object at 0x7fc7a16be828>, <folium.vector_layers.CircleMarker object at 0x7fc7a16be860>, <folium.vector_layers.CircleMarker object at 0x7fc7a16be898>, <folium.vector_layers.CircleMarker object at 0x7fc7a16be8d0>, <folium.vector_layers.CircleMarker object at 0x7fc7a16be908>, <folium.vector_layers.CircleMarker object at 0x7fc7a16be940>, <folium.vector_layers.CircleMarker object at 0x7fc7a16be978>, <folium.vector_layers.CircleMarker object at 0x7fc7a16be9b0>, <folium.vector_layers.CircleMarker object at 0x7fc7a16be9e8>, <folium.vector_layers.CircleMarker object at 0x7fc7a16bea20>, <folium.vector_layers.CircleMarker object at 0x7fc7a16bea58>, <folium.vector_layers.CircleMarker object at 0x7fc7a16bea90>, <folium.vector_layers.CircleMarker object at 0x7fc7a16beac8>, <folium.vector_layers.CircleMarker object at 0x7fc7a16beb00>, <folium.vector_layers.CircleMarker object at 0x7fc7a16beb38>, <folium.vector_layers.CircleMarker object at 0x7fc7a16beb70>, <folium.vector_layers.CircleMarker object at 0x7fc7a16beba8>, <folium.vector_layers.CircleMarker object at 0x7fc7a16bebe0>, <folium.vector_layers.CircleMarker object at 0x7fc7a16bec18>, <folium.vector_layers.CircleMarker object at 0x7fc7a16bec50>, <folium.vector_layers.CircleMarker object at 0x7fc7a16bec88>, <folium.vector_layers.CircleMarker object at 0x7fc7a16becc0>, <folium.vector_layers.CircleMarker object at 0x7fc7a16becf8>, <folium.vector_layers.CircleMarker object at 0x7fc7a16bed30>, <folium.vector_layers.CircleMarker object at 0x7fc7a16bed68>, <folium.vector_layers.CircleMarker object at 0x7fc7a16beda0>, <folium.vector_layers.CircleMarker object at 0x7fc7a16bedd8>, <folium.vector_layers.CircleMarker object at 0x7fc7a16bee10>, <folium.vector_layers.CircleMarker object at 0x7fc7a16bee48>, <folium.vector_layers.CircleMarker object at 0x7fc7a16bee80>, <folium.vector_layers.CircleMarker object at 0x7fc7a16beeb8>, <folium.vector_layers.CircleMarker object at 0x7fc7a16beef0>, <folium.vector_layers.CircleMarker object at 0x7fc7a16bef28>, <folium.vector_layers.CircleMarker object at 0x7fc7a16bef60>, <folium.vector_layers.CircleMarker object at 0x7fc7a16bef98>, <folium.vector_layers.CircleMarker object at 0x7fc7a16befd0>, <folium.vector_layers.CircleMarker object at 0x7fc7a16be048>, <folium.vector_layers.CircleMarker object at 0x7fc7a16cb080>, <folium.vector_layers.CircleMarker object at 0x7fc7a16cb0b8>, <folium.vector_layers.CircleMarker object at 0x7fc7a16cb0f0>, <folium.vector_layers.CircleMarker object at 0x7fc7a16cb128>, <folium.vector_layers.CircleMarker object at 0x7fc7a16cb160>, <folium.vector_layers.CircleMarker object at 0x7fc7a16cb198>, <folium.vector_layers.CircleMarker object at 0x7fc7a16cb1d0>, <folium.vector_layers.CircleMarker object at 0x7fc7a16cb208>, <folium.vector_layers.CircleMarker object at 0x7fc7a16cb240>, <folium.vector_layers.CircleMarker object at 0x7fc7a16cb278>, <folium.vector_layers.CircleMarker object at 0x7fc7a16cb2b0>, <folium.vector_layers.CircleMarker object at 0x7fc7a16cb2e8>, <folium.vector_layers.CircleMarker object at 0x7fc7a16cb320>, <folium.vector_layers.CircleMarker object at 0x7fc7a16cb358>, <folium.vector_layers.CircleMarker object at 0x7fc7a16cb390>, <folium.vector_layers.CircleMarker object at 0x7fc7a16cb3c8>, <folium.vector_layers.CircleMarker object at 0x7fc7a16cb400>, <folium.vector_layers.CircleMarker object at 0x7fc7a16cb438>, <folium.vector_layers.CircleMarker object at 0x7fc7a16cb470>, <folium.vector_layers.CircleMarker object at 0x7fc7a16cb4a8>, <folium.vector_layers.CircleMarker object at 0x7fc7a16cb4e0>, <folium.vector_layers.CircleMarker object at 0x7fc7a16cb518>, <folium.vector_layers.CircleMarker object at 0x7fc7a16cb550>, <folium.vector_layers.CircleMarker object at 0x7fc7a16cb588>, <folium.vector_layers.CircleMarker object at 0x7fc7a16cb5c0>, <folium.vector_layers.CircleMarker object at 0x7fc7a16cb5f8>, <folium.vector_layers.CircleMarker object at 0x7fc7a16cb630>, <folium.vector_layers.CircleMarker object at 0x7fc7a16cb668>, <folium.vector_layers.CircleMarker object at 0x7fc7a16cb6a0>, <folium.vector_layers.CircleMarker object at 0x7fc7a16cb6d8>, <folium.vector_layers.CircleMarker object at 0x7fc7a16cb710>, <folium.vector_layers.CircleMarker object at 0x7fc7a16cb748>, <folium.vector_layers.CircleMarker object at 0x7fc7a16cb780>, <folium.vector_layers.CircleMarker object at 0x7fc7a16cb7b8>, <folium.vector_layers.CircleMarker object at 0x7fc7a16cb7f0>, <folium.vector_layers.CircleMarker object at 0x7fc7a16cb828>, <folium.vector_layers.CircleMarker object at 0x7fc7a16cb860>, <folium.vector_layers.CircleMarker object at 0x7fc7a16cb898>, <folium.vector_layers.CircleMarker object at 0x7fc7a16cb8d0>, <folium.vector_layers.CircleMarker object at 0x7fc7a16cb908>, <folium.vector_layers.CircleMarker object at 0x7fc7a16cb940>, <folium.vector_layers.CircleMarker object at 0x7fc7a16cb978>, <folium.vector_layers.CircleMarker object at 0x7fc7a16cb9b0>, <folium.vector_layers.CircleMarker object at 0x7fc7a16cb9e8>, <folium.vector_layers.CircleMarker object at 0x7fc7a16cba20>, <folium.vector_layers.CircleMarker object at 0x7fc7a16cba58>, <folium.vector_layers.CircleMarker object at 0x7fc7a16cba90>, <folium.vector_layers.CircleMarker object at 0x7fc7a16cbac8>, <folium.vector_layers.CircleMarker object at 0x7fc7a16cbb00>, <folium.vector_layers.CircleMarker object at 0x7fc7a16cbb38>, <folium.vector_layers.CircleMarker object at 0x7fc7a16cbb70>, <folium.vector_layers.CircleMarker object at 0x7fc7a16cbba8>, <folium.vector_layers.CircleMarker object at 0x7fc7a16cbbe0>, <folium.vector_layers.CircleMarker object at 0x7fc7a16cbc18>, <folium.vector_layers.CircleMarker object at 0x7fc7a16cbc50>, <folium.vector_layers.CircleMarker object at 0x7fc7a16cbc88>, <folium.vector_layers.CircleMarker object at 0x7fc7a16cbcc0>, <folium.vector_layers.CircleMarker object at 0x7fc7a16cbcf8>, <folium.vector_layers.CircleMarker object at 0x7fc7a16cbd30>, <folium.vector_layers.CircleMarker object at 0x7fc7a16cbd68>, <folium.vector_layers.CircleMarker object at 0x7fc7a16cbda0>, <folium.vector_layers.CircleMarker object at 0x7fc7a16cbdd8>, <folium.vector_layers.CircleMarker object at 0x7fc7a16cbe10>, <folium.vector_layers.CircleMarker object at 0x7fc7a16cbe48>, <folium.vector_layers.CircleMarker object at 0x7fc7a16cbe80>, <folium.vector_layers.CircleMarker object at 0x7fc7a16cbeb8>, <folium.vector_layers.CircleMarker object at 0x7fc7a16cbef0>, <folium.vector_layers.CircleMarker object at 0x7fc7a16cbf28>, <folium.vector_layers.CircleMarker object at 0x7fc7a16cbf60>, <folium.vector_layers.CircleMarker object at 0x7fc7a16cbf98>, <folium.vector_layers.CircleMarker object at 0x7fc7a16cbfd0>, <folium.vector_layers.CircleMarker object at 0x7fc7a16cb048>, <folium.vector_layers.CircleMarker object at 0x7fc7a16d9080>, <folium.vector_layers.CircleMarker object at 0x7fc7a16d90b8>, <folium.vector_layers.CircleMarker object at 0x7fc7a16d90f0>, <folium.vector_layers.CircleMarker object at 0x7fc7a16d9128>, <folium.vector_layers.CircleMarker object at 0x7fc7a16d9160>, <folium.vector_layers.CircleMarker object at 0x7fc7a16d9198>, <folium.vector_layers.CircleMarker object at 0x7fc7a16d91d0>, <folium.vector_layers.CircleMarker object at 0x7fc7a16d9208>, <folium.vector_layers.CircleMarker object at 0x7fc7a16d9240>, <folium.vector_layers.CircleMarker object at 0x7fc7a16d9278>, <folium.vector_layers.CircleMarker object at 0x7fc7a16d92b0>, <folium.vector_layers.CircleMarker object at 0x7fc7a16d92e8>, <folium.vector_layers.CircleMarker object at 0x7fc7a16d9320>, <folium.vector_layers.CircleMarker object at 0x7fc7a16d9358>, <folium.vector_layers.CircleMarker object at 0x7fc7a16d9390>, <folium.vector_layers.CircleMarker object at 0x7fc7a16d93c8>, <folium.vector_layers.CircleMarker object at 0x7fc7a16d9400>, <folium.vector_layers.CircleMarker object at 0x7fc7a16d9438>, <folium.vector_layers.CircleMarker object at 0x7fc7a16d9470>, <folium.vector_layers.CircleMarker object at 0x7fc7a16d94a8>, <folium.vector_layers.CircleMarker object at 0x7fc7a16d94e0>, <folium.vector_layers.CircleMarker object at 0x7fc7a16d9518>, <folium.vector_layers.CircleMarker object at 0x7fc7a16d9550>, <folium.vector_layers.CircleMarker object at 0x7fc7a16d9588>, <folium.vector_layers.CircleMarker object at 0x7fc7a16d95c0>, <folium.vector_layers.CircleMarker object at 0x7fc7a16d95f8>, <folium.vector_layers.CircleMarker object at 0x7fc7a16d9630>, <folium.vector_layers.CircleMarker object at 0x7fc7a16d9668>, <folium.vector_layers.CircleMarker object at 0x7fc7a16d96a0>, <folium.vector_layers.CircleMarker object at 0x7fc7a16d96d8>, <folium.vector_layers.CircleMarker object at 0x7fc7a16d9710>, <folium.vector_layers.CircleMarker object at 0x7fc7a16d9748>, <folium.vector_layers.CircleMarker object at 0x7fc7a16d9780>, <folium.vector_layers.CircleMarker object at 0x7fc7a16d97b8>, <folium.vector_layers.CircleMarker object at 0x7fc7a16d97f0>, <folium.vector_layers.CircleMarker object at 0x7fc7a16d9828>, <folium.vector_layers.CircleMarker object at 0x7fc7a16d9860>, <folium.vector_layers.CircleMarker object at 0x7fc7a16d9898>, <folium.vector_layers.CircleMarker object at 0x7fc7a16d98d0>, <folium.vector_layers.CircleMarker object at 0x7fc7a16d9908>, <folium.vector_layers.CircleMarker object at 0x7fc7a16d9940>, <folium.vector_layers.CircleMarker object at 0x7fc7a16d9978>, <folium.vector_layers.CircleMarker object at 0x7fc7a16d99b0>, <folium.vector_layers.CircleMarker object at 0x7fc7a16d99e8>, <folium.vector_layers.CircleMarker object at 0x7fc7a16d9a20>, <folium.vector_layers.CircleMarker object at 0x7fc7a16d9a58>, <folium.vector_layers.CircleMarker object at 0x7fc7a16d9a90>, <folium.vector_layers.CircleMarker object at 0x7fc7a16d9ac8>, <folium.vector_layers.CircleMarker object at 0x7fc7a16d9b00>, <folium.vector_layers.CircleMarker object at 0x7fc7a16d9b38>, <folium.vector_layers.CircleMarker object at 0x7fc7a16d9b70>, <folium.vector_layers.CircleMarker object at 0x7fc7a16d9ba8>, <folium.vector_layers.CircleMarker object at 0x7fc7a16d9be0>, <folium.vector_layers.CircleMarker object at 0x7fc7a16d9c18>, <folium.vector_layers.CircleMarker object at 0x7fc7a16d9c50>, <folium.vector_layers.CircleMarker object at 0x7fc7a16d9c88>, <folium.vector_layers.CircleMarker object at 0x7fc7a16d9cc0>, <folium.vector_layers.CircleMarker object at 0x7fc7a16d9cf8>, <folium.vector_layers.CircleMarker object at 0x7fc7a16d9d30>, <folium.vector_layers.CircleMarker object at 0x7fc7a16d9d68>, <folium.vector_layers.CircleMarker object at 0x7fc7a16d9da0>, <folium.vector_layers.CircleMarker object at 0x7fc7a16d9dd8>, <folium.vector_layers.CircleMarker object at 0x7fc7a16d9e10>, <folium.vector_layers.CircleMarker object at 0x7fc7a16d9e48>, <folium.vector_layers.CircleMarker object at 0x7fc7a16d9e80>, <folium.vector_layers.CircleMarker object at 0x7fc7a16d9eb8>, <folium.vector_layers.CircleMarker object at 0x7fc7a16d9ef0>, <folium.vector_layers.CircleMarker object at 0x7fc7a16d9f28>, <folium.vector_layers.CircleMarker object at 0x7fc7a16d9f60>, <folium.vector_layers.CircleMarker object at 0x7fc7a16d9f98>, <folium.vector_layers.CircleMarker object at 0x7fc7a16d9fd0>, <folium.vector_layers.CircleMarker object at 0x7fc7a16d9048>, <folium.vector_layers.CircleMarker object at 0x7fc7a16e6080>, <folium.vector_layers.CircleMarker object at 0x7fc7a16e60b8>, <folium.vector_layers.CircleMarker object at 0x7fc7a16e60f0>, <folium.vector_layers.CircleMarker object at 0x7fc7a16e6128>, <folium.vector_layers.CircleMarker object at 0x7fc7a16e6160>, <folium.vector_layers.CircleMarker object at 0x7fc7a16e6198>, <folium.vector_layers.CircleMarker object at 0x7fc7a16e61d0>, <folium.vector_layers.CircleMarker object at 0x7fc7a16e6208>, <folium.vector_layers.CircleMarker object at 0x7fc7a16e6240>, <folium.vector_layers.CircleMarker object at 0x7fc7a16e6278>, <folium.vector_layers.CircleMarker object at 0x7fc7a16e62b0>, <folium.vector_layers.CircleMarker object at 0x7fc7a16e62e8>, <folium.vector_layers.CircleMarker object at 0x7fc7a16e6320>, <folium.vector_layers.CircleMarker object at 0x7fc7a16e6358>, <folium.vector_layers.CircleMarker object at 0x7fc7a16e6390>, <folium.vector_layers.CircleMarker object at 0x7fc7a16e63c8>, <folium.vector_layers.CircleMarker object at 0x7fc7a16e6400>, <folium.vector_layers.CircleMarker object at 0x7fc7a16e6438>, <folium.vector_layers.CircleMarker object at 0x7fc7a16e6470>, <folium.vector_layers.CircleMarker object at 0x7fc7a16e64a8>, <folium.vector_layers.CircleMarker object at 0x7fc7a16e64e0>, <folium.vector_layers.CircleMarker object at 0x7fc7a16e6518>, <folium.vector_layers.CircleMarker object at 0x7fc7a16e6550>, <folium.vector_layers.CircleMarker object at 0x7fc7a16e6588>, <folium.vector_layers.CircleMarker object at 0x7fc7a16e65c0>, <folium.vector_layers.CircleMarker object at 0x7fc7a16e65f8>, <folium.vector_layers.CircleMarker object at 0x7fc7a16e6630>, <folium.vector_layers.CircleMarker object at 0x7fc7a16e6668>, <folium.vector_layers.CircleMarker object at 0x7fc7a16e66a0>, <folium.vector_layers.CircleMarker object at 0x7fc7a16e66d8>, <folium.vector_layers.CircleMarker object at 0x7fc7a16e6710>, <folium.vector_layers.CircleMarker object at 0x7fc7a16e6748>, <folium.vector_layers.CircleMarker object at 0x7fc7a16e6780>, <folium.vector_layers.CircleMarker object at 0x7fc7a16e67b8>, <folium.vector_layers.CircleMarker object at 0x7fc7a16e67f0>, <folium.vector_layers.CircleMarker object at 0x7fc7a16e6828>, <folium.vector_layers.CircleMarker object at 0x7fc7a16e6860>, <folium.vector_layers.CircleMarker object at 0x7fc7a16e6898>, <folium.vector_layers.CircleMarker object at 0x7fc7a16e68d0>, <folium.vector_layers.CircleMarker object at 0x7fc7a16e6908>, <folium.vector_layers.CircleMarker object at 0x7fc7a16e6940>, <folium.vector_layers.CircleMarker object at 0x7fc7a16e6978>, <folium.vector_layers.CircleMarker object at 0x7fc7a16e69b0>, <folium.vector_layers.CircleMarker object at 0x7fc7a16e69e8>, <folium.vector_layers.CircleMarker object at 0x7fc7a16e6a20>, <folium.vector_layers.CircleMarker object at 0x7fc7a16e6a58>, <folium.vector_layers.CircleMarker object at 0x7fc7a16e6a90>, <folium.vector_layers.CircleMarker object at 0x7fc7a16e6ac8>, <folium.vector_layers.CircleMarker object at 0x7fc7a16e6b00>, <folium.vector_layers.CircleMarker object at 0x7fc7a16e6b38>, <folium.vector_layers.CircleMarker object at 0x7fc7a16e6b70>, <folium.vector_layers.CircleMarker object at 0x7fc7a16e6ba8>, <folium.vector_layers.CircleMarker object at 0x7fc7a16e6be0>, <folium.vector_layers.CircleMarker object at 0x7fc7a16e6c18>, <folium.vector_layers.CircleMarker object at 0x7fc7a16e6c50>, <folium.vector_layers.CircleMarker object at 0x7fc7a16e6c88>, <folium.vector_layers.CircleMarker object at 0x7fc7a16e6cc0>, <folium.vector_layers.CircleMarker object at 0x7fc7a16e6cf8>, <folium.vector_layers.CircleMarker object at 0x7fc7a16e6d30>, <folium.vector_layers.CircleMarker object at 0x7fc7a16e6d68>, <folium.vector_layers.CircleMarker object at 0x7fc7a16e6da0>, <folium.vector_layers.CircleMarker object at 0x7fc7a16e6dd8>, <folium.vector_layers.CircleMarker object at 0x7fc7a16e6e10>, <folium.vector_layers.CircleMarker object at 0x7fc7a16e6e48>, <folium.vector_layers.CircleMarker object at 0x7fc7a16e6e80>, <folium.vector_layers.CircleMarker object at 0x7fc7a16e6eb8>, <folium.vector_layers.CircleMarker object at 0x7fc7a16e6ef0>, <folium.vector_layers.CircleMarker object at 0x7fc7a16e6f28>, <folium.vector_layers.CircleMarker object at 0x7fc7a16e6f60>, <folium.vector_layers.CircleMarker object at 0x7fc7a16e6f98>, <folium.vector_layers.CircleMarker object at 0x7fc7a16e6fd0>, <folium.vector_layers.CircleMarker object at 0x7fc7a16e6048>, <folium.vector_layers.CircleMarker object at 0x7fc7a1675080>, <folium.vector_layers.CircleMarker object at 0x7fc7a16750b8>, <folium.vector_layers.CircleMarker object at 0x7fc7a16750f0>, <folium.vector_layers.CircleMarker object at 0x7fc7a1675128>, <folium.vector_layers.CircleMarker object at 0x7fc7a1675160>, <folium.vector_layers.CircleMarker object at 0x7fc7a1675198>, <folium.vector_layers.CircleMarker object at 0x7fc7a16751d0>, <folium.vector_layers.CircleMarker object at 0x7fc7a1675208>, <folium.vector_layers.CircleMarker object at 0x7fc7a1675240>, <folium.vector_layers.CircleMarker object at 0x7fc7a1675278>, <folium.vector_layers.CircleMarker object at 0x7fc7a16752b0>, <folium.vector_layers.CircleMarker object at 0x7fc7a16752e8>, <folium.vector_layers.CircleMarker object at 0x7fc7a1675320>, <folium.vector_layers.CircleMarker object at 0x7fc7a1675358>, <folium.vector_layers.CircleMarker object at 0x7fc7a1675390>, <folium.vector_layers.CircleMarker object at 0x7fc7a16753c8>, <folium.vector_layers.CircleMarker object at 0x7fc7a1675400>, <folium.vector_layers.CircleMarker object at 0x7fc7a1675438>, <folium.vector_layers.CircleMarker object at 0x7fc7a1675470>, <folium.vector_layers.CircleMarker object at 0x7fc7a16754a8>, <folium.vector_layers.CircleMarker object at 0x7fc7a16754e0>, <folium.vector_layers.CircleMarker object at 0x7fc7a1675518>, <folium.vector_layers.CircleMarker object at 0x7fc7a1675550>, <folium.vector_layers.CircleMarker object at 0x7fc7a1675588>, <folium.vector_layers.CircleMarker object at 0x7fc7a16755c0>, <folium.vector_layers.CircleMarker object at 0x7fc7a16755f8>, <folium.vector_layers.CircleMarker object at 0x7fc7a1675630>, <folium.vector_layers.CircleMarker object at 0x7fc7a1675668>, <folium.vector_layers.CircleMarker object at 0x7fc7a16756a0>, <folium.vector_layers.CircleMarker object at 0x7fc7a16756d8>, <folium.vector_layers.CircleMarker object at 0x7fc7a1675710>, <folium.vector_layers.CircleMarker object at 0x7fc7a1675748>, <folium.vector_layers.CircleMarker object at 0x7fc7a1675780>, <folium.vector_layers.CircleMarker object at 0x7fc7a16757b8>, <folium.vector_layers.CircleMarker object at 0x7fc7a16757f0>, <folium.vector_layers.CircleMarker object at 0x7fc7a1675828>, <folium.vector_layers.CircleMarker object at 0x7fc7a1675860>, <folium.vector_layers.CircleMarker object at 0x7fc7a1675898>, <folium.vector_layers.CircleMarker object at 0x7fc7a16758d0>, <folium.vector_layers.CircleMarker object at 0x7fc7a1675908>, <folium.vector_layers.CircleMarker object at 0x7fc7a1675940>, <folium.vector_layers.CircleMarker object at 0x7fc7a1675978>, <folium.vector_layers.CircleMarker object at 0x7fc7a16759b0>, <folium.vector_layers.CircleMarker object at 0x7fc7a16759e8>, <folium.vector_layers.CircleMarker object at 0x7fc7a1675a20>, <folium.vector_layers.CircleMarker object at 0x7fc7a1675a58>, <folium.vector_layers.CircleMarker object at 0x7fc7a1675a90>, <folium.vector_layers.CircleMarker object at 0x7fc7a1675ac8>, <folium.vector_layers.CircleMarker object at 0x7fc7a1675b00>, <folium.vector_layers.CircleMarker object at 0x7fc7a1675b38>, <folium.vector_layers.CircleMarker object at 0x7fc7a1675b70>, <folium.vector_layers.CircleMarker object at 0x7fc7a1675ba8>, <folium.vector_layers.CircleMarker object at 0x7fc7a1675be0>, <folium.vector_layers.CircleMarker object at 0x7fc7a1675c18>, <folium.vector_layers.CircleMarker object at 0x7fc7a1675c50>, <folium.vector_layers.CircleMarker object at 0x7fc7a1675c88>, <folium.vector_layers.CircleMarker object at 0x7fc7a1675cc0>, <folium.vector_layers.CircleMarker object at 0x7fc7a1675cf8>, <folium.vector_layers.CircleMarker object at 0x7fc7a1675d30>, <folium.vector_layers.CircleMarker object at 0x7fc7a1675d68>, <folium.vector_layers.CircleMarker object at 0x7fc7a1675da0>, <folium.vector_layers.CircleMarker object at 0x7fc7a1675dd8>, <folium.vector_layers.CircleMarker object at 0x7fc7a1675e10>, <folium.vector_layers.CircleMarker object at 0x7fc7a1675e48>, <folium.vector_layers.CircleMarker object at 0x7fc7a1675e80>, <folium.vector_layers.CircleMarker object at 0x7fc7a1675eb8>, <folium.vector_layers.CircleMarker object at 0x7fc7a1675ef0>, <folium.vector_layers.CircleMarker object at 0x7fc7a1675f28>, <folium.vector_layers.CircleMarker object at 0x7fc7a1675f60>, <folium.vector_layers.CircleMarker object at 0x7fc7a1675f98>, <folium.vector_layers.CircleMarker object at 0x7fc7a1675fd0>, <folium.vector_layers.CircleMarker object at 0x7fc7a1675048>, <folium.vector_layers.CircleMarker object at 0x7fc7a1682080>, <folium.vector_layers.CircleMarker object at 0x7fc7a16820b8>, <folium.vector_layers.CircleMarker object at 0x7fc7a16820f0>, <folium.vector_layers.CircleMarker object at 0x7fc7a1682128>, <folium.vector_layers.CircleMarker object at 0x7fc7a1682160>, <folium.vector_layers.CircleMarker object at 0x7fc7a1682198>, <folium.vector_layers.CircleMarker object at 0x7fc7a16821d0>, <folium.vector_layers.CircleMarker object at 0x7fc7a1682208>, <folium.vector_layers.CircleMarker object at 0x7fc7a1682240>, <folium.vector_layers.CircleMarker object at 0x7fc7a1682278>, <folium.vector_layers.CircleMarker object at 0x7fc7a16822b0>, <folium.vector_layers.CircleMarker object at 0x7fc7a16822e8>, <folium.vector_layers.CircleMarker object at 0x7fc7a1682320>, <folium.vector_layers.CircleMarker object at 0x7fc7a1682358>, <folium.vector_layers.CircleMarker object at 0x7fc7a1682390>, <folium.vector_layers.CircleMarker object at 0x7fc7a16823c8>, <folium.vector_layers.CircleMarker object at 0x7fc7a1682400>, <folium.vector_layers.CircleMarker object at 0x7fc7a1682438>, <folium.vector_layers.CircleMarker object at 0x7fc7a1682470>, <folium.vector_layers.CircleMarker object at 0x7fc7a16824a8>, <folium.vector_layers.CircleMarker object at 0x7fc7a16824e0>, <folium.vector_layers.CircleMarker object at 0x7fc7a1682518>, <folium.vector_layers.CircleMarker object at 0x7fc7a1682550>, <folium.vector_layers.CircleMarker object at 0x7fc7a1682588>, <folium.vector_layers.CircleMarker object at 0x7fc7a16825c0>, <folium.vector_layers.CircleMarker object at 0x7fc7a16825f8>, <folium.vector_layers.CircleMarker object at 0x7fc7a1682630>, <folium.vector_layers.CircleMarker object at 0x7fc7a1682668>, <folium.vector_layers.CircleMarker object at 0x7fc7a16826a0>, <folium.vector_layers.CircleMarker object at 0x7fc7a16826d8>, <folium.vector_layers.CircleMarker object at 0x7fc7a1682710>, <folium.vector_layers.CircleMarker object at 0x7fc7a1682748>, <folium.vector_layers.CircleMarker object at 0x7fc7a1682780>, <folium.vector_layers.CircleMarker object at 0x7fc7a16827b8>, <folium.vector_layers.CircleMarker object at 0x7fc7a16827f0>, <folium.vector_layers.CircleMarker object at 0x7fc7a1682828>, <folium.vector_layers.CircleMarker object at 0x7fc7a1682860>, <folium.vector_layers.CircleMarker object at 0x7fc7a1682898>, <folium.vector_layers.CircleMarker object at 0x7fc7a16828d0>, <folium.vector_layers.CircleMarker object at 0x7fc7a1682908>, <folium.vector_layers.CircleMarker object at 0x7fc7a1682940>, <folium.vector_layers.CircleMarker object at 0x7fc7a1682978>, <folium.vector_layers.CircleMarker object at 0x7fc7a16829b0>, <folium.vector_layers.CircleMarker object at 0x7fc7a16829e8>, <folium.vector_layers.CircleMarker object at 0x7fc7a1682a20>, <folium.vector_layers.CircleMarker object at 0x7fc7a1682a58>, <folium.vector_layers.CircleMarker object at 0x7fc7a1682a90>, <folium.vector_layers.CircleMarker object at 0x7fc7a1682ac8>, <folium.vector_layers.CircleMarker object at 0x7fc7a1682b00>, <folium.vector_layers.CircleMarker object at 0x7fc7a1682b38>, <folium.vector_layers.CircleMarker object at 0x7fc7a1682b70>, <folium.vector_layers.CircleMarker object at 0x7fc7a1682ba8>, <folium.vector_layers.CircleMarker object at 0x7fc7a1682be0>, <folium.vector_layers.CircleMarker object at 0x7fc7a1682c18>, <folium.vector_layers.CircleMarker object at 0x7fc7a1682c50>, <folium.vector_layers.CircleMarker object at 0x7fc7a1682c88>, <folium.vector_layers.CircleMarker object at 0x7fc7a1682cc0>, <folium.vector_layers.CircleMarker object at 0x7fc7a1682cf8>, <folium.vector_layers.CircleMarker object at 0x7fc7a1682d30>, <folium.vector_layers.CircleMarker object at 0x7fc7a1682d68>, <folium.vector_layers.CircleMarker object at 0x7fc7a1682da0>, <folium.vector_layers.CircleMarker object at 0x7fc7a1682dd8>, <folium.vector_layers.CircleMarker object at 0x7fc7a1682e10>, <folium.vector_layers.CircleMarker object at 0x7fc7a1682e48>, <folium.vector_layers.CircleMarker object at 0x7fc7a1682e80>, <folium.vector_layers.CircleMarker object at 0x7fc7a1682eb8>, <folium.vector_layers.CircleMarker object at 0x7fc7a1682ef0>, <folium.vector_layers.CircleMarker object at 0x7fc7a1682f28>, <folium.vector_layers.CircleMarker object at 0x7fc7a1682f60>, <folium.vector_layers.CircleMarker object at 0x7fc7a1682f98>, <folium.vector_layers.CircleMarker object at 0x7fc7a1682fd0>, <folium.vector_layers.CircleMarker object at 0x7fc7a1682048>, <folium.vector_layers.CircleMarker object at 0x7fc7a168f080>, <folium.vector_layers.CircleMarker object at 0x7fc7a168f0b8>, <folium.vector_layers.CircleMarker object at 0x7fc7a168f0f0>, <folium.vector_layers.CircleMarker object at 0x7fc7a168f128>, <folium.vector_layers.CircleMarker object at 0x7fc7a168f160>, <folium.vector_layers.CircleMarker object at 0x7fc7a168f198>, <folium.vector_layers.CircleMarker object at 0x7fc7a168f1d0>, <folium.vector_layers.CircleMarker object at 0x7fc7a168f208>, <folium.vector_layers.CircleMarker object at 0x7fc7a168f240>, <folium.vector_layers.CircleMarker object at 0x7fc7a168f278>, <folium.vector_layers.CircleMarker object at 0x7fc7a168f2b0>, <folium.vector_layers.CircleMarker object at 0x7fc7a168f2e8>, <folium.vector_layers.CircleMarker object at 0x7fc7a168f320>, <folium.vector_layers.CircleMarker object at 0x7fc7a168f358>, <folium.vector_layers.CircleMarker object at 0x7fc7a168f390>, <folium.vector_layers.CircleMarker object at 0x7fc7a168f3c8>, <folium.vector_layers.CircleMarker object at 0x7fc7a168f400>, <folium.vector_layers.CircleMarker object at 0x7fc7a168f438>, <folium.vector_layers.CircleMarker object at 0x7fc7a168f470>, <folium.vector_layers.CircleMarker object at 0x7fc7a168f4a8>, <folium.vector_layers.CircleMarker object at 0x7fc7a168f4e0>, <folium.vector_layers.CircleMarker object at 0x7fc7a168f518>, <folium.vector_layers.CircleMarker object at 0x7fc7a168f550>, <folium.vector_layers.CircleMarker object at 0x7fc7a168f588>, <folium.vector_layers.CircleMarker object at 0x7fc7a168f5c0>, <folium.vector_layers.CircleMarker object at 0x7fc7a168f5f8>, <folium.vector_layers.CircleMarker object at 0x7fc7a168f630>, <folium.vector_layers.CircleMarker object at 0x7fc7a168f668>, <folium.vector_layers.CircleMarker object at 0x7fc7a168f6a0>, <folium.vector_layers.CircleMarker object at 0x7fc7a168f6d8>, <folium.vector_layers.CircleMarker object at 0x7fc7a168f710>, <folium.vector_layers.CircleMarker object at 0x7fc7a168f748>, <folium.vector_layers.CircleMarker object at 0x7fc7a168f780>, <folium.vector_layers.CircleMarker object at 0x7fc7a168f7b8>, <folium.vector_layers.CircleMarker object at 0x7fc7a168f7f0>, <folium.vector_layers.CircleMarker object at 0x7fc7a168f828>, <folium.vector_layers.CircleMarker object at 0x7fc7a168f860>, <folium.vector_layers.CircleMarker object at 0x7fc7a168f898>, <folium.vector_layers.CircleMarker object at 0x7fc7a168f8d0>, <folium.vector_layers.CircleMarker object at 0x7fc7a168f908>, <folium.vector_layers.CircleMarker object at 0x7fc7a168f940>, <folium.vector_layers.CircleMarker object at 0x7fc7a168f978>, <folium.vector_layers.CircleMarker object at 0x7fc7a168f9b0>, <folium.vector_layers.CircleMarker object at 0x7fc7a168f9e8>, <folium.vector_layers.CircleMarker object at 0x7fc7a168fa20>, <folium.vector_layers.CircleMarker object at 0x7fc7a168fa58>, <folium.vector_layers.CircleMarker object at 0x7fc7a168fa90>, <folium.vector_layers.CircleMarker object at 0x7fc7a168fac8>, <folium.vector_layers.CircleMarker object at 0x7fc7a168fb00>, <folium.vector_layers.CircleMarker object at 0x7fc7a168fb38>, <folium.vector_layers.CircleMarker object at 0x7fc7a168fb70>, <folium.vector_layers.CircleMarker object at 0x7fc7a168fba8>, <folium.vector_layers.CircleMarker object at 0x7fc7a168fbe0>, <folium.vector_layers.CircleMarker object at 0x7fc7a168fc18>, <folium.vector_layers.CircleMarker object at 0x7fc7a168fc50>, <folium.vector_layers.CircleMarker object at 0x7fc7a168fc88>, <folium.vector_layers.CircleMarker object at 0x7fc7a168fcc0>, <folium.vector_layers.CircleMarker object at 0x7fc7a168fcf8>, <folium.vector_layers.CircleMarker object at 0x7fc7a168fd30>, <folium.vector_layers.CircleMarker object at 0x7fc7a168fd68>, <folium.vector_layers.CircleMarker object at 0x7fc7a168fda0>, <folium.vector_layers.CircleMarker object at 0x7fc7a168fdd8>, <folium.vector_layers.CircleMarker object at 0x7fc7a168fe10>, <folium.vector_layers.CircleMarker object at 0x7fc7a168fe48>, <folium.vector_layers.CircleMarker object at 0x7fc7a168fe80>, <folium.vector_layers.CircleMarker object at 0x7fc7a168feb8>, <folium.vector_layers.CircleMarker object at 0x7fc7a168fef0>, <folium.vector_layers.CircleMarker object at 0x7fc7a168ff28>, <folium.vector_layers.CircleMarker object at 0x7fc7a168ff60>, <folium.vector_layers.CircleMarker object at 0x7fc7a168ff98>, <folium.vector_layers.CircleMarker object at 0x7fc7a168ffd0>, <folium.vector_layers.CircleMarker object at 0x7fc7a168f048>, <folium.vector_layers.CircleMarker object at 0x7fc7a169f048>, <folium.vector_layers.CircleMarker object at 0x7fc7a169f0b8>, <folium.vector_layers.CircleMarker object at 0x7fc7a169f0f0>, <folium.vector_layers.CircleMarker object at 0x7fc7a169f128>, <folium.vector_layers.CircleMarker object at 0x7fc7a169f160>, <folium.vector_layers.CircleMarker object at 0x7fc7a169f198>, <folium.vector_layers.CircleMarker object at 0x7fc7a169f1d0>, <folium.vector_layers.CircleMarker object at 0x7fc7a169f208>, <folium.vector_layers.CircleMarker object at 0x7fc7a169f240>, <folium.vector_layers.CircleMarker object at 0x7fc7a169f278>, <folium.vector_layers.CircleMarker object at 0x7fc7a169f2b0>, <folium.vector_layers.CircleMarker object at 0x7fc7a169f2e8>, <folium.vector_layers.CircleMarker object at 0x7fc7a169f320>, <folium.vector_layers.CircleMarker object at 0x7fc7a169f358>, <folium.vector_layers.CircleMarker object at 0x7fc7a169f390>, <folium.vector_layers.CircleMarker object at 0x7fc7a169f3c8>, <folium.vector_layers.CircleMarker object at 0x7fc7a169f400>, <folium.vector_layers.CircleMarker object at 0x7fc7a169f438>, <folium.vector_layers.CircleMarker object at 0x7fc7a169f470>, <folium.vector_layers.CircleMarker object at 0x7fc7a169f4a8>, <folium.vector_layers.CircleMarker object at 0x7fc7a169f4e0>, <folium.vector_layers.CircleMarker object at 0x7fc7a169f518>, <folium.vector_layers.CircleMarker object at 0x7fc7a169f550>, <folium.vector_layers.CircleMarker object at 0x7fc7a169f588>, <folium.vector_layers.CircleMarker object at 0x7fc7a169f5c0>, <folium.vector_layers.CircleMarker object at 0x7fc7a169f5f8>, <folium.vector_layers.CircleMarker object at 0x7fc7a169f630>, <folium.vector_layers.CircleMarker object at 0x7fc7a169f668>, <folium.vector_layers.CircleMarker object at 0x7fc7a169f6a0>, <folium.vector_layers.CircleMarker object at 0x7fc7a169f6d8>, <folium.vector_layers.CircleMarker object at 0x7fc7a169f710>, <folium.vector_layers.CircleMarker object at 0x7fc7a169f748>, <folium.vector_layers.CircleMarker object at 0x7fc7a169f780>, <folium.vector_layers.CircleMarker object at 0x7fc7a169f7b8>, <folium.vector_layers.CircleMarker object at 0x7fc7a169f7f0>, <folium.vector_layers.CircleMarker object at 0x7fc7a169f828>, <folium.vector_layers.CircleMarker object at 0x7fc7a169f860>, <folium.vector_layers.CircleMarker object at 0x7fc7a169f898>, <folium.vector_layers.CircleMarker object at 0x7fc7a169f8d0>, <folium.vector_layers.CircleMarker object at 0x7fc7a169f908>, <folium.vector_layers.CircleMarker object at 0x7fc7a169f940>, <folium.vector_layers.CircleMarker object at 0x7fc7a169f978>, <folium.vector_layers.CircleMarker object at 0x7fc7a169f9b0>, <folium.vector_layers.CircleMarker object at 0x7fc7a169f9e8>, <folium.vector_layers.CircleMarker object at 0x7fc7a169fa20>, <folium.vector_layers.CircleMarker object at 0x7fc7a169fa58>, <folium.vector_layers.CircleMarker object at 0x7fc7a169fa90>, <folium.vector_layers.CircleMarker object at 0x7fc7a169fac8>, <folium.vector_layers.CircleMarker object at 0x7fc7a169fb00>, <folium.vector_layers.CircleMarker object at 0x7fc7a169fb38>, <folium.vector_layers.CircleMarker object at 0x7fc7a169fb70>, <folium.vector_layers.CircleMarker object at 0x7fc7a169fba8>, <folium.vector_layers.CircleMarker object at 0x7fc7a169fbe0>, <folium.vector_layers.CircleMarker object at 0x7fc7a169fc18>, <folium.vector_layers.CircleMarker object at 0x7fc7a169fc50>, <folium.vector_layers.CircleMarker object at 0x7fc7a169fc88>, <folium.vector_layers.CircleMarker object at 0x7fc7a169fcc0>, <folium.vector_layers.CircleMarker object at 0x7fc7a169fcf8>, <folium.vector_layers.CircleMarker object at 0x7fc7a169fd30>, <folium.vector_layers.CircleMarker object at 0x7fc7a169fd68>, <folium.vector_layers.CircleMarker object at 0x7fc7a169fda0>, <folium.vector_layers.CircleMarker object at 0x7fc7a169fdd8>, <folium.vector_layers.CircleMarker object at 0x7fc7a169fe10>, <folium.vector_layers.CircleMarker object at 0x7fc7a169fe48>, <folium.vector_layers.CircleMarker object at 0x7fc7a169fe80>, <folium.vector_layers.CircleMarker object at 0x7fc7a169feb8>, <folium.vector_layers.CircleMarker object at 0x7fc7a169fef0>, <folium.vector_layers.CircleMarker object at 0x7fc7a169ff28>, <folium.vector_layers.CircleMarker object at 0x7fc7a169ff60>, <folium.vector_layers.CircleMarker object at 0x7fc7a169ff98>, <folium.vector_layers.CircleMarker object at 0x7fc7a169ffd0>, <folium.vector_layers.CircleMarker object at 0x7fc7a169f080>, <folium.vector_layers.CircleMarker object at 0x7fc7a162b048>, <folium.vector_layers.CircleMarker object at 0x7fc7a162b0b8>, <folium.vector_layers.CircleMarker object at 0x7fc7a162b0f0>, <folium.vector_layers.CircleMarker object at 0x7fc7a162b128>, <folium.vector_layers.CircleMarker object at 0x7fc7a162b160>, <folium.vector_layers.CircleMarker object at 0x7fc7a162b198>, <folium.vector_layers.CircleMarker object at 0x7fc7a162b1d0>, <folium.vector_layers.CircleMarker object at 0x7fc7a162b208>, <folium.vector_layers.CircleMarker object at 0x7fc7a162b240>, <folium.vector_layers.CircleMarker object at 0x7fc7a162b278>, <folium.vector_layers.CircleMarker object at 0x7fc7a162b2b0>, <folium.vector_layers.CircleMarker object at 0x7fc7a162b2e8>, <folium.vector_layers.CircleMarker object at 0x7fc7a162b320>, <folium.vector_layers.CircleMarker object at 0x7fc7a162b358>, <folium.vector_layers.CircleMarker object at 0x7fc7a162b390>, <folium.vector_layers.CircleMarker object at 0x7fc7a162b3c8>, <folium.vector_layers.CircleMarker object at 0x7fc7a162b400>, <folium.vector_layers.CircleMarker object at 0x7fc7a162b438>, <folium.vector_layers.CircleMarker object at 0x7fc7a162b470>, <folium.vector_layers.CircleMarker object at 0x7fc7a162b4a8>, <folium.vector_layers.CircleMarker object at 0x7fc7a162b4e0>, <folium.vector_layers.CircleMarker object at 0x7fc7a162b518>, <folium.vector_layers.CircleMarker object at 0x7fc7a162b550>, <folium.vector_layers.CircleMarker object at 0x7fc7a162b588>, <folium.vector_layers.CircleMarker object at 0x7fc7a162b5c0>, <folium.vector_layers.CircleMarker object at 0x7fc7a162b5f8>, <folium.vector_layers.CircleMarker object at 0x7fc7a162b630>, <folium.vector_layers.CircleMarker object at 0x7fc7a162b668>, <folium.vector_layers.CircleMarker object at 0x7fc7a162b6a0>, <folium.vector_layers.CircleMarker object at 0x7fc7a162b6d8>, <folium.vector_layers.CircleMarker object at 0x7fc7a162b710>, <folium.vector_layers.CircleMarker object at 0x7fc7a162b748>, <folium.vector_layers.CircleMarker object at 0x7fc7a162b780>, <folium.vector_layers.CircleMarker object at 0x7fc7a162b7b8>, <folium.vector_layers.CircleMarker object at 0x7fc7a162b7f0>, <folium.vector_layers.CircleMarker object at 0x7fc7a162b828>, <folium.vector_layers.CircleMarker object at 0x7fc7a162b860>, <folium.vector_layers.CircleMarker object at 0x7fc7a162b898>, <folium.vector_layers.CircleMarker object at 0x7fc7a162b8d0>, <folium.vector_layers.CircleMarker object at 0x7fc7a162b908>, <folium.vector_layers.CircleMarker object at 0x7fc7a162b940>, <folium.vector_layers.CircleMarker object at 0x7fc7a162b978>, <folium.vector_layers.CircleMarker object at 0x7fc7a162b9b0>, <folium.vector_layers.CircleMarker object at 0x7fc7a162b9e8>, <folium.vector_layers.CircleMarker object at 0x7fc7a162ba20>, <folium.vector_layers.CircleMarker object at 0x7fc7a162ba58>, <folium.vector_layers.CircleMarker object at 0x7fc7a162ba90>, <folium.vector_layers.CircleMarker object at 0x7fc7a162bac8>, <folium.vector_layers.CircleMarker object at 0x7fc7a162bb00>, <folium.vector_layers.CircleMarker object at 0x7fc7a162bb38>, <folium.vector_layers.CircleMarker object at 0x7fc7a162bb70>, <folium.vector_layers.CircleMarker object at 0x7fc7a162bba8>, <folium.vector_layers.CircleMarker object at 0x7fc7a162bbe0>, <folium.vector_layers.CircleMarker object at 0x7fc7a162bc18>, <folium.vector_layers.CircleMarker object at 0x7fc7a162bc50>, <folium.vector_layers.CircleMarker object at 0x7fc7a162bc88>, <folium.vector_layers.CircleMarker object at 0x7fc7a162bcc0>, <folium.vector_layers.CircleMarker object at 0x7fc7a162bcf8>, <folium.vector_layers.CircleMarker object at 0x7fc7a162bd30>, <folium.vector_layers.CircleMarker object at 0x7fc7a162bd68>, <folium.vector_layers.CircleMarker object at 0x7fc7a162bda0>, <folium.vector_layers.CircleMarker object at 0x7fc7a162bdd8>, <folium.vector_layers.CircleMarker object at 0x7fc7a162be10>, <folium.vector_layers.CircleMarker object at 0x7fc7a162be48>, <folium.vector_layers.CircleMarker object at 0x7fc7a162be80>, <folium.vector_layers.CircleMarker object at 0x7fc7a162beb8>, <folium.vector_layers.CircleMarker object at 0x7fc7a162bef0>, <folium.vector_layers.CircleMarker object at 0x7fc7a162bf28>, <folium.vector_layers.CircleMarker object at 0x7fc7a162bf60>, <folium.vector_layers.CircleMarker object at 0x7fc7a162bf98>, <folium.vector_layers.CircleMarker object at 0x7fc7a162bfd0>, <folium.vector_layers.CircleMarker object at 0x7fc7a162b080>, <folium.vector_layers.CircleMarker object at 0x7fc7a1639048>, <folium.vector_layers.CircleMarker object at 0x7fc7a16390b8>, <folium.vector_layers.CircleMarker object at 0x7fc7a16390f0>, <folium.vector_layers.CircleMarker object at 0x7fc7a1639128>, <folium.vector_layers.CircleMarker object at 0x7fc7a1639160>, <folium.vector_layers.CircleMarker object at 0x7fc7a1639198>, <folium.vector_layers.CircleMarker object at 0x7fc7a16391d0>, <folium.vector_layers.CircleMarker object at 0x7fc7a1639208>, <folium.vector_layers.CircleMarker object at 0x7fc7a1639240>, <folium.vector_layers.CircleMarker object at 0x7fc7a1639278>, <folium.vector_layers.CircleMarker object at 0x7fc7a16392b0>, <folium.vector_layers.CircleMarker object at 0x7fc7a16392e8>, <folium.vector_layers.CircleMarker object at 0x7fc7a1639320>, <folium.vector_layers.CircleMarker object at 0x7fc7a1639358>, <folium.vector_layers.CircleMarker object at 0x7fc7a1639390>, <folium.vector_layers.CircleMarker object at 0x7fc7a16393c8>, <folium.vector_layers.CircleMarker object at 0x7fc7a1639400>, <folium.vector_layers.CircleMarker object at 0x7fc7a1639438>, <folium.vector_layers.CircleMarker object at 0x7fc7a1639470>, <folium.vector_layers.CircleMarker object at 0x7fc7a16394a8>, <folium.vector_layers.CircleMarker object at 0x7fc7a16394e0>, <folium.vector_layers.CircleMarker object at 0x7fc7a1639518>, <folium.vector_layers.CircleMarker object at 0x7fc7a1639550>, <folium.vector_layers.CircleMarker object at 0x7fc7a1639588>]."
     ]
    }
   ],
   "source": [
    "map_with_markers = add_markers(trip_markers, manhattan_map)"
   ]
  },
  {
   "cell_type": "code",
   "execution_count": 74,
   "metadata": {},
   "outputs": [],
   "source": [
    "map_with_markers"
   ]
  },
  {
   "cell_type": "markdown",
   "metadata": {},
   "source": [
    "### Using Nearest Neighbors"
   ]
  },
  {
   "cell_type": "markdown",
   "metadata": {},
   "source": [
    "Ok, let's write a function that given a latitude and longitude will predict the distance for us.  We'll do this by first finding the nearest trips given a latitude and longitude. "
   ]
  },
  {
   "cell_type": "markdown",
   "metadata": {},
   "source": [
    "Here we once again apply the nearest neighbors formula. As a first step, write a function named `distance_location` that calculates the distance in pickup location between two trips."
   ]
  },
  {
   "cell_type": "code",
   "execution_count": null,
   "metadata": {},
   "outputs": [],
   "source": [
    "import math\n",
    "\n",
    "def distance_location(selected_trip, neighbor_trip):\n",
    "    pass"
   ]
  },
  {
   "cell_type": "code",
   "execution_count": null,
   "metadata": {},
   "outputs": [],
   "source": [
    "first_trip = {'pickup_latitude': 40.64499, 'pickup_longitude': -73.78115, 'trip_distance': 18.38}\n",
    "second_trip = {'pickup_latitude': 40.766931, 'pickup_longitude': -73.982098, 'trip_distance': 1.3}\n",
    "distance_first_and_second = distance_location(first_trip, second_trip)\n",
    "\n",
    "distance_first_and_second and round(distance_first_and_second, 3) # 0.235"
   ]
  },
  {
   "cell_type": "markdown",
   "metadata": {},
   "source": [
    "Ok, next write a function called `distance_between_neighbors` that adds a new key-value pair, called `distance_from_selected`, that calculates the distance of the `neighbor_trip` from the `selected_trip`."
   ]
  },
  {
   "cell_type": "code",
   "execution_count": null,
   "metadata": {},
   "outputs": [],
   "source": [
    "def distance_between_neighbors(selected_trip, neighbor_trip):\n",
    "    pass"
   ]
  },
  {
   "cell_type": "code",
   "execution_count": null,
   "metadata": {},
   "outputs": [],
   "source": [
    "distance_between_neighbors(first_trip, second_trip)\n",
    "\n",
    "# {'distance_from_selected': 0.23505256047318146,\n",
    "#  'pickup_latitude': 40.766931,\n",
    "#  'pickup_longitude': -73.982098,\n",
    "#  'trip_distance': 1.3}"
   ]
  },
  {
   "cell_type": "markdown",
   "metadata": {},
   "source": [
    "Ok, now our `neighbor_trip` has another attribute called `distance_from_selected`, that indicates the distance from the `neighbor_trip`'s pickup location from the `selected_trip`."
   ]
  },
  {
   "cell_type": "markdown",
   "metadata": {},
   "source": [
    "> ** Understand the data:** Our dictionary now has a few attributes, two of which say distance.  Let's make sure we understand the difference. \n",
    "> * **`distance_from_selected`:** This is our calculation of the distance of the neighbor's pickup location from the selected trip.\n",
    "> * **`trip_distance`:** This is the attribute we were provided initially.  It tells us the length of the neighbor's taxi trip from pickup to drop-off.  "
   ]
  },
  {
   "cell_type": "markdown",
   "metadata": {},
   "source": [
    "Next, write a function called `distance_all` that provided a list of neighbors, returns each of those neighbors with their respective `distance_from_selected` numbers."
   ]
  },
  {
   "cell_type": "code",
   "execution_count": null,
   "metadata": {},
   "outputs": [],
   "source": [
    "def distance_all(selected_individual, neighbors):\n",
    "    pass"
   ]
  },
  {
   "cell_type": "code",
   "execution_count": null,
   "metadata": {},
   "outputs": [],
   "source": [
    "cleaned_trips and distance_all(first_trip, cleaned_trips[0:4])"
   ]
  },
  {
   "cell_type": "markdown",
   "metadata": {},
   "source": [
    "Now write the nearest neighbors formula to calculate the distance of the `selected_trip` from all of the `cleaned_trips` in our dataset.  If no number is provided, it should return the top 3 neighbors."
   ]
  },
  {
   "cell_type": "code",
   "execution_count": null,
   "metadata": {},
   "outputs": [],
   "source": [
    "def nearest_neighbors(selected_trip, trips, number = 3):\n",
    "    pass"
   ]
  },
  {
   "cell_type": "code",
   "execution_count": null,
   "metadata": {},
   "outputs": [],
   "source": [
    "new_trip = {'pickup_latitude': 40.64499,\n",
    "'pickup_longitude': -73.78115,\n",
    "'trip_distance': 18.38}\n",
    "\n",
    "nearest_three_neighbors = nearest_neighbors(new_trip, cleaned_trips or [], number = 3)\n",
    "nearest_three_neighbors\n",
    "# [{'distance_from_selected': 0.0004569288784918792,\n",
    "#   'pickup_latitude': 40.64483,\n",
    "#   'pickup_longitude': -73.781578,\n",
    "#   'trip_distance': 7.78},\n",
    "#  {'distance_from_selected': 0.0011292165425673159,\n",
    "#   'pickup_latitude': 40.644657,\n",
    "#   'pickup_longitude': -73.782229,\n",
    "#   'trip_distance': 12.7},\n",
    "#  {'distance_from_selected': 0.0042359798158141185,\n",
    "#   'pickup_latitude': 40.648509,\n",
    "#   'pickup_longitude': -73.783508,\n",
    "#   'trip_distance': 17.3}]"
   ]
  },
  {
   "cell_type": "markdown",
   "metadata": {},
   "source": [
    "Ok great! Now that we can provide a new trip location, and find the distances of the three nearest trips, we can take  calculate an estimate of the trip distance for that new trip location.  \n",
    "\n",
    "We do so simply by calculating the average of it's nearest neighbors."
   ]
  },
  {
   "cell_type": "code",
   "execution_count": null,
   "metadata": {},
   "outputs": [],
   "source": [
    "import statistics\n",
    "def mean_distance(neighbors):\n",
    "    nearest_distances = list(map(lambda neighbor: neighbor['trip_distance'], neighbors))\n",
    "    return round(statistics.mean(nearest_distances), 3)\n",
    "\n",
    "nearest_three_neighbors = nearest_neighbors(new_trip, cleaned_trips or [], number = 3)\n",
    "distance_estimate_of_selected_trip = mean_distance(nearest_three_neighbors) # 12.593\n",
    "distance_estimate_of_selected_trip"
   ]
  },
  {
   "cell_type": "markdown",
   "metadata": {},
   "source": [
    "### Choosing the correct number of neighbors"
   ]
  },
  {
   "cell_type": "markdown",
   "metadata": {},
   "source": [
    "Now, as we know from the last lesson, one tricky element is to determine how many neighbors to choose, our $k$ value,  before calculating the average.  We want to choose our value of $k$ such that it properly matches actual data, and so that it applies to new data.  There are fancy formulas to ensure that we **train** our algorithm so that our formula is optimized for all data, but here let's see different $k$ values manually.  This is the gist of choosing our $k$ value:\n",
    "\n",
    "* If we choose a $k$ value too low, our formula will be too heavily influenced by a single neighbor, whereas if our $k$ value is too high, we will be choosing so many neighbors that our nearest neighbors formula will not be adjust enough according to locations.\n",
    "\n",
    "Ok, let's experiment with this."
   ]
  },
  {
   "cell_type": "markdown",
   "metadata": {},
   "source": [
    "First, let's choose a midtown location, to see what the trip distance would be.  A Google search reveals the coordinates of 51st and 7th avenue to be the following."
   ]
  },
  {
   "cell_type": "code",
   "execution_count": null,
   "metadata": {},
   "outputs": [],
   "source": [
    "midtown_trip = dict(pickup_latitude=40.761710, pickup_longitude=-73.982760)"
   ]
  },
  {
   "cell_type": "code",
   "execution_count": null,
   "metadata": {},
   "outputs": [],
   "source": [
    "seven_closest = nearest_neighbors(midtown_trip, cleaned_trips, number = 7)\n",
    "seven_closest\n",
    "# [{'trip_distance': 0.58,\n",
    "#   'pickup_latitude': 40.761372,\n",
    "#   'pickup_longitude': -73.982602,\n",
    "#   'distance_from_selected': 0.00037310588309379025},\n",
    "#  {'trip_distance': 0.8,\n",
    "#   'pickup_latitude': 40.762444,\n",
    "#   'pickup_longitude': -73.98244,\n",
    "#   'distance_from_selected': 0.00080072217404248},\n",
    "#  {'trip_distance': 1.4,\n",
    "#   'pickup_latitude': 40.762767,\n",
    "#   'pickup_longitude': -73.982293,\n",
    "#   'distance_from_selected': 0.0011555682584735844},\n",
    "#  {'trip_distance': 8.3,\n",
    "#   'pickup_latitude': 40.762868,\n",
    "#   'pickup_longitude': -73.983233,\n",
    "#   'distance_from_selected': 0.0012508768924205918},\n",
    "#  {'trip_distance': 1.26,\n",
    "#   'pickup_latitude': 40.760057,\n",
    "#   'pickup_longitude': -73.983502,\n",
    "#   'distance_from_selected': 0.0018118976240381972},\n",
    "#  {'trip_distance': 0.0,\n",
    "#   'pickup_latitude': 40.760644,\n",
    "#   'pickup_longitude': -73.984531,\n",
    "#   'distance_from_selected': 0.002067074502774709},\n",
    "#  {'trip_distance': 1.72,\n",
    "#   'pickup_latitude': 40.762107,\n",
    "#   'pickup_longitude': -73.98479,\n",
    "#   'distance_from_selected': 0.0020684557041472677}]"
   ]
  },
  {
   "cell_type": "markdown",
   "metadata": {},
   "source": [
    "Looking at the `distance_from_selected` it appears that our our trips are still fairly close to our selected trip.  Notice that most of the data is within a distance of .002 away, so going to the top 7 nearest neighbors didn't seem to give us neighbors too far from each other, which is a good sign.\n",
    "\n",
    "Still, it's hard to know what distance in latitude and longitude really look like, so let's map the data. "
   ]
  },
  {
   "cell_type": "code",
   "execution_count": null,
   "metadata": {},
   "outputs": [],
   "source": [
    "midtown_location = location(midtown_trip) # [40.76171, -73.98276]\n",
    "midtown_map = map_from(midtown_location, 16)\n",
    "closest_markers = markers_from_trips(seven_closest)\n",
    "\n",
    "add_markers(closest_markers, midtown_map)"
   ]
  },
  {
   "cell_type": "markdown",
   "metadata": {},
   "source": [
    "Ok.  These locations stay fairly close to our estimated location of 51st street and 7th Avenue.  So they could be a good estimate of a trip distance."
   ]
  },
  {
   "cell_type": "code",
   "execution_count": null,
   "metadata": {},
   "outputs": [],
   "source": [
    "mean_distance(seven_closest) # 2.009"
   ]
  },
  {
   "cell_type": "markdown",
   "metadata": {},
   "source": [
    "Ok, now let's try a different location"
   ]
  },
  {
   "cell_type": "code",
   "execution_count": null,
   "metadata": {},
   "outputs": [],
   "source": [
    "charging_bull_closest = nearest_neighbors({'pickup_latitude': 40.7049, 'pickup_longitude': -74.0137}, cleaned_trips, number = 12)"
   ]
  },
  {
   "cell_type": "code",
   "execution_count": null,
   "metadata": {
    "scrolled": true
   },
   "outputs": [],
   "source": [
    "mean_distance(charging_bull_closest) # 3.145"
   ]
  },
  {
   "cell_type": "markdown",
   "metadata": {},
   "source": [
    "Ok, so there appears to be a significant difference between choosing a location near Times Square versus choosing a location at Wall Street."
   ]
  },
  {
   "cell_type": "markdown",
   "metadata": {},
   "source": [
    "### Summary"
   ]
  },
  {
   "cell_type": "markdown",
   "metadata": {},
   "source": [
    "In this lab, we used the nearest neighbors function to predict the length of a taxi ride.  To do so, we selected a location, then found a number of taxi rides closest to that location, and finally took the average trip lengths of the nearest taxi rides to find an estimate of the new ride's trip length.  You can see that even with just a little bit of math and programming we can begin to make meaningful predictions with data."
   ]
  }
 ],
 "metadata": {
  "kernelspec": {
   "display_name": "Python 3",
   "language": "python",
   "name": "python3"
  },
  "language_info": {
   "codemirror_mode": {
    "name": "ipython",
    "version": 3
   },
   "file_extension": ".py",
   "mimetype": "text/x-python",
   "name": "python",
   "nbconvert_exporter": "python",
   "pygments_lexer": "ipython3",
   "version": "3.6.9"
  }
 },
 "nbformat": 4,
 "nbformat_minor": 2
}
